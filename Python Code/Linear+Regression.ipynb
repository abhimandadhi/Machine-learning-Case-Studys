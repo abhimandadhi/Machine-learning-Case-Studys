{
 "cells": [
  {
   "cell_type": "code",
   "execution_count": 1,
   "metadata": {},
   "outputs": [],
   "source": [
    "#Working with Simple Linear Regression\n",
    "#Risk analysis of space shuttle"
   ]
  },
  {
   "cell_type": "code",
   "execution_count": 1,
   "metadata": {},
   "outputs": [
    {
     "data": {
      "text/plain": [
       "'C:\\\\Users\\\\AbhilashMandadhi\\\\Desktop\\\\Data Sets'"
      ]
     },
     "execution_count": 1,
     "metadata": {},
     "output_type": "execute_result"
    }
   ],
   "source": [
    "#Import data into Python\n",
    "import os\n",
    "os.getcwd()"
   ]
  },
  {
   "cell_type": "code",
   "execution_count": 2,
   "metadata": {},
   "outputs": [],
   "source": [
    "#os.chdir(\"C:/Users/Mohan/Desktop/Data Sets\")"
   ]
  },
  {
   "cell_type": "code",
   "execution_count": 3,
   "metadata": {},
   "outputs": [
    {
     "data": {
      "text/plain": [
       "'C:\\\\Users\\\\AbhilashMandadhi\\\\Desktop\\\\Data Sets'"
      ]
     },
     "execution_count": 3,
     "metadata": {},
     "output_type": "execute_result"
    }
   ],
   "source": [
    "os.getcwd()\n"
   ]
  },
  {
   "cell_type": "code",
   "execution_count": 4,
   "metadata": {},
   "outputs": [],
   "source": [
    "import pandas as pd\n",
    "import numpy as np\n",
    "import matplotlib.pyplot as plt\n",
    "%matplotlib inline"
   ]
  },
  {
   "cell_type": "code",
   "execution_count": 5,
   "metadata": {},
   "outputs": [],
   "source": [
    "challenger=pd.read_csv('challenger.csv')"
   ]
  },
  {
   "cell_type": "code",
   "execution_count": 7,
   "metadata": {},
   "outputs": [
    {
     "data": {
      "text/html": [
       "<div>\n",
       "<style scoped>\n",
       "    .dataframe tbody tr th:only-of-type {\n",
       "        vertical-align: middle;\n",
       "    }\n",
       "\n",
       "    .dataframe tbody tr th {\n",
       "        vertical-align: top;\n",
       "    }\n",
       "\n",
       "    .dataframe thead th {\n",
       "        text-align: right;\n",
       "    }\n",
       "</style>\n",
       "<table border=\"1\" class=\"dataframe\">\n",
       "  <thead>\n",
       "    <tr style=\"text-align: right;\">\n",
       "      <th></th>\n",
       "      <th>o_ring_ct</th>\n",
       "      <th>O_ring_failures</th>\n",
       "      <th>temperature</th>\n",
       "      <th>pressure</th>\n",
       "      <th>launch_id</th>\n",
       "    </tr>\n",
       "  </thead>\n",
       "  <tbody>\n",
       "    <tr>\n",
       "      <td>0</td>\n",
       "      <td>6</td>\n",
       "      <td>0</td>\n",
       "      <td>66</td>\n",
       "      <td>50</td>\n",
       "      <td>1</td>\n",
       "    </tr>\n",
       "    <tr>\n",
       "      <td>1</td>\n",
       "      <td>6</td>\n",
       "      <td>1</td>\n",
       "      <td>70</td>\n",
       "      <td>50</td>\n",
       "      <td>2</td>\n",
       "    </tr>\n",
       "    <tr>\n",
       "      <td>2</td>\n",
       "      <td>6</td>\n",
       "      <td>0</td>\n",
       "      <td>69</td>\n",
       "      <td>50</td>\n",
       "      <td>3</td>\n",
       "    </tr>\n",
       "    <tr>\n",
       "      <td>3</td>\n",
       "      <td>6</td>\n",
       "      <td>0</td>\n",
       "      <td>68</td>\n",
       "      <td>50</td>\n",
       "      <td>4</td>\n",
       "    </tr>\n",
       "    <tr>\n",
       "      <td>4</td>\n",
       "      <td>6</td>\n",
       "      <td>0</td>\n",
       "      <td>67</td>\n",
       "      <td>50</td>\n",
       "      <td>5</td>\n",
       "    </tr>\n",
       "    <tr>\n",
       "      <td>5</td>\n",
       "      <td>6</td>\n",
       "      <td>0</td>\n",
       "      <td>72</td>\n",
       "      <td>50</td>\n",
       "      <td>6</td>\n",
       "    </tr>\n",
       "    <tr>\n",
       "      <td>6</td>\n",
       "      <td>6</td>\n",
       "      <td>0</td>\n",
       "      <td>73</td>\n",
       "      <td>100</td>\n",
       "      <td>7</td>\n",
       "    </tr>\n",
       "    <tr>\n",
       "      <td>7</td>\n",
       "      <td>6</td>\n",
       "      <td>0</td>\n",
       "      <td>70</td>\n",
       "      <td>100</td>\n",
       "      <td>8</td>\n",
       "    </tr>\n",
       "    <tr>\n",
       "      <td>8</td>\n",
       "      <td>6</td>\n",
       "      <td>1</td>\n",
       "      <td>57</td>\n",
       "      <td>200</td>\n",
       "      <td>9</td>\n",
       "    </tr>\n",
       "    <tr>\n",
       "      <td>9</td>\n",
       "      <td>6</td>\n",
       "      <td>1</td>\n",
       "      <td>63</td>\n",
       "      <td>200</td>\n",
       "      <td>10</td>\n",
       "    </tr>\n",
       "    <tr>\n",
       "      <td>10</td>\n",
       "      <td>6</td>\n",
       "      <td>1</td>\n",
       "      <td>70</td>\n",
       "      <td>200</td>\n",
       "      <td>11</td>\n",
       "    </tr>\n",
       "    <tr>\n",
       "      <td>11</td>\n",
       "      <td>6</td>\n",
       "      <td>0</td>\n",
       "      <td>78</td>\n",
       "      <td>200</td>\n",
       "      <td>12</td>\n",
       "    </tr>\n",
       "    <tr>\n",
       "      <td>12</td>\n",
       "      <td>6</td>\n",
       "      <td>0</td>\n",
       "      <td>67</td>\n",
       "      <td>200</td>\n",
       "      <td>13</td>\n",
       "    </tr>\n",
       "    <tr>\n",
       "      <td>13</td>\n",
       "      <td>6</td>\n",
       "      <td>2</td>\n",
       "      <td>53</td>\n",
       "      <td>200</td>\n",
       "      <td>14</td>\n",
       "    </tr>\n",
       "    <tr>\n",
       "      <td>14</td>\n",
       "      <td>6</td>\n",
       "      <td>0</td>\n",
       "      <td>67</td>\n",
       "      <td>200</td>\n",
       "      <td>15</td>\n",
       "    </tr>\n",
       "    <tr>\n",
       "      <td>15</td>\n",
       "      <td>6</td>\n",
       "      <td>0</td>\n",
       "      <td>75</td>\n",
       "      <td>200</td>\n",
       "      <td>16</td>\n",
       "    </tr>\n",
       "    <tr>\n",
       "      <td>16</td>\n",
       "      <td>6</td>\n",
       "      <td>0</td>\n",
       "      <td>70</td>\n",
       "      <td>200</td>\n",
       "      <td>17</td>\n",
       "    </tr>\n",
       "    <tr>\n",
       "      <td>17</td>\n",
       "      <td>6</td>\n",
       "      <td>0</td>\n",
       "      <td>81</td>\n",
       "      <td>200</td>\n",
       "      <td>18</td>\n",
       "    </tr>\n",
       "    <tr>\n",
       "      <td>18</td>\n",
       "      <td>6</td>\n",
       "      <td>0</td>\n",
       "      <td>76</td>\n",
       "      <td>200</td>\n",
       "      <td>19</td>\n",
       "    </tr>\n",
       "    <tr>\n",
       "      <td>19</td>\n",
       "      <td>6</td>\n",
       "      <td>0</td>\n",
       "      <td>79</td>\n",
       "      <td>200</td>\n",
       "      <td>20</td>\n",
       "    </tr>\n",
       "    <tr>\n",
       "      <td>20</td>\n",
       "      <td>6</td>\n",
       "      <td>0</td>\n",
       "      <td>75</td>\n",
       "      <td>200</td>\n",
       "      <td>21</td>\n",
       "    </tr>\n",
       "    <tr>\n",
       "      <td>21</td>\n",
       "      <td>6</td>\n",
       "      <td>0</td>\n",
       "      <td>76</td>\n",
       "      <td>200</td>\n",
       "      <td>22</td>\n",
       "    </tr>\n",
       "    <tr>\n",
       "      <td>22</td>\n",
       "      <td>6</td>\n",
       "      <td>1</td>\n",
       "      <td>58</td>\n",
       "      <td>200</td>\n",
       "      <td>23</td>\n",
       "    </tr>\n",
       "  </tbody>\n",
       "</table>\n",
       "</div>"
      ],
      "text/plain": [
       "    o_ring_ct  O_ring_failures  temperature  pressure  launch_id\n",
       "0           6                0           66        50          1\n",
       "1           6                1           70        50          2\n",
       "2           6                0           69        50          3\n",
       "3           6                0           68        50          4\n",
       "4           6                0           67        50          5\n",
       "5           6                0           72        50          6\n",
       "6           6                0           73       100          7\n",
       "7           6                0           70       100          8\n",
       "8           6                1           57       200          9\n",
       "9           6                1           63       200         10\n",
       "10          6                1           70       200         11\n",
       "11          6                0           78       200         12\n",
       "12          6                0           67       200         13\n",
       "13          6                2           53       200         14\n",
       "14          6                0           67       200         15\n",
       "15          6                0           75       200         16\n",
       "16          6                0           70       200         17\n",
       "17          6                0           81       200         18\n",
       "18          6                0           76       200         19\n",
       "19          6                0           79       200         20\n",
       "20          6                0           75       200         21\n",
       "21          6                0           76       200         22\n",
       "22          6                1           58       200         23"
      ]
     },
     "execution_count": 7,
     "metadata": {},
     "output_type": "execute_result"
    }
   ],
   "source": [
    "challenger"
   ]
  },
  {
   "cell_type": "code",
   "execution_count": 8,
   "metadata": {},
   "outputs": [],
   "source": [
    "#Assign ring failure values to an object\n",
    "O_ring_failures=challenger['O_ring_failures']"
   ]
  },
  {
   "cell_type": "code",
   "execution_count": 9,
   "metadata": {},
   "outputs": [
    {
     "data": {
      "text/plain": [
       "0     0\n",
       "1     1\n",
       "2     0\n",
       "3     0\n",
       "4     0\n",
       "5     0\n",
       "6     0\n",
       "7     0\n",
       "8     1\n",
       "9     1\n",
       "10    1\n",
       "11    0\n",
       "12    0\n",
       "13    2\n",
       "14    0\n",
       "15    0\n",
       "16    0\n",
       "17    0\n",
       "18    0\n",
       "19    0\n",
       "20    0\n",
       "21    0\n",
       "22    1\n",
       "Name: O_ring_failures, dtype: int64"
      ]
     },
     "execution_count": 9,
     "metadata": {},
     "output_type": "execute_result"
    }
   ],
   "source": [
    "O_ring_failures"
   ]
  },
  {
   "cell_type": "code",
   "execution_count": 10,
   "metadata": {},
   "outputs": [],
   "source": [
    "#Assign temperature values to 'temp' object"
   ]
  },
  {
   "cell_type": "code",
   "execution_count": 11,
   "metadata": {},
   "outputs": [],
   "source": [
    "temp=challenger['temperature']"
   ]
  },
  {
   "cell_type": "code",
   "execution_count": 12,
   "metadata": {},
   "outputs": [
    {
     "data": {
      "text/plain": [
       "Text(0.5, 0, 'Temperature')"
      ]
     },
     "execution_count": 12,
     "metadata": {},
     "output_type": "execute_result"
    },
    {
     "data": {
      "image/png": "[encoded data removed]",
      "text/plain": [
       "<Figure size 432x288 with 1 Axes>"
      ]
     },
     "metadata": {
      "needs_background": "light"
     },
     "output_type": "display_data"
    }
   ],
   "source": [
    "%matplotlib inline\n",
    "plt.plot(temp,O_ring_failures,'o')\n",
    "plt.ylabel(\"O_ring_failures\")\n",
    "plt.xlabel(\"Temperature\")"
   ]
  },
  {
   "cell_type": "code",
   "execution_count": null,
   "metadata": {},
   "outputs": [],
   "source": []
  },
  {
   "cell_type": "code",
   "execution_count": 13,
   "metadata": {},
   "outputs": [
    {
     "data": {
      "text/html": [
       "<div>\n",
       "<style scoped>\n",
       "    .dataframe tbody tr th:only-of-type {\n",
       "        vertical-align: middle;\n",
       "    }\n",
       "\n",
       "    .dataframe tbody tr th {\n",
       "        vertical-align: top;\n",
       "    }\n",
       "\n",
       "    .dataframe thead th {\n",
       "        text-align: right;\n",
       "    }\n",
       "</style>\n",
       "<table border=\"1\" class=\"dataframe\">\n",
       "  <thead>\n",
       "    <tr style=\"text-align: right;\">\n",
       "      <th></th>\n",
       "      <th>o_ring_ct</th>\n",
       "      <th>O_ring_failures</th>\n",
       "      <th>temperature</th>\n",
       "      <th>pressure</th>\n",
       "      <th>launch_id</th>\n",
       "    </tr>\n",
       "  </thead>\n",
       "  <tbody>\n",
       "    <tr>\n",
       "      <td>o_ring_ct</td>\n",
       "      <td>NaN</td>\n",
       "      <td>NaN</td>\n",
       "      <td>NaN</td>\n",
       "      <td>NaN</td>\n",
       "      <td>NaN</td>\n",
       "    </tr>\n",
       "    <tr>\n",
       "      <td>O_ring_failures</td>\n",
       "      <td>NaN</td>\n",
       "      <td>1.000000</td>\n",
       "      <td>-0.725671</td>\n",
       "      <td>0.220326</td>\n",
       "      <td>-0.011993</td>\n",
       "    </tr>\n",
       "    <tr>\n",
       "      <td>temperature</td>\n",
       "      <td>NaN</td>\n",
       "      <td>-0.725671</td>\n",
       "      <td>1.000000</td>\n",
       "      <td>0.039818</td>\n",
       "      <td>0.230770</td>\n",
       "    </tr>\n",
       "    <tr>\n",
       "      <td>pressure</td>\n",
       "      <td>NaN</td>\n",
       "      <td>0.220326</td>\n",
       "      <td>0.039818</td>\n",
       "      <td>1.000000</td>\n",
       "      <td>0.839932</td>\n",
       "    </tr>\n",
       "    <tr>\n",
       "      <td>launch_id</td>\n",
       "      <td>NaN</td>\n",
       "      <td>-0.011993</td>\n",
       "      <td>0.230770</td>\n",
       "      <td>0.839932</td>\n",
       "      <td>1.000000</td>\n",
       "    </tr>\n",
       "  </tbody>\n",
       "</table>\n",
       "</div>"
      ],
      "text/plain": [
       "                 o_ring_ct  O_ring_failures  temperature  pressure  launch_id\n",
       "o_ring_ct              NaN              NaN          NaN       NaN        NaN\n",
       "O_ring_failures        NaN         1.000000    -0.725671  0.220326  -0.011993\n",
       "temperature            NaN        -0.725671     1.000000  0.039818   0.230770\n",
       "pressure               NaN         0.220326     0.039818  1.000000   0.839932\n",
       "launch_id              NaN        -0.011993     0.230770  0.839932   1.000000"
      ]
     },
     "execution_count": 13,
     "metadata": {},
     "output_type": "execute_result"
    }
   ],
   "source": [
    "#tells the directions and  magentived\n",
    "challenger.corr()"
   ]
  },
  {
   "cell_type": "code",
   "execution_count": 14,
   "metadata": {},
   "outputs": [],
   "source": [
    "mean_O_ring_failures = challenger['O_ring_failures'].mean()"
   ]
  },
  {
   "cell_type": "code",
   "execution_count": 15,
   "metadata": {},
   "outputs": [
    {
     "data": {
      "text/plain": [
       "0.30434782608695654"
      ]
     },
     "execution_count": 15,
     "metadata": {},
     "output_type": "execute_result"
    }
   ],
   "source": [
    "mean_O_ring_failures"
   ]
  },
  {
   "cell_type": "code",
   "execution_count": 16,
   "metadata": {},
   "outputs": [
    {
     "data": {
      "image/png": "[encoded data removed]",
      "text/plain": [
       "<Figure size 432x288 with 1 Axes>"
      ]
     },
     "metadata": {
      "needs_background": "light"
     },
     "output_type": "display_data"
    }
   ],
   "source": [
    "plt.plot(temp,O_ring_failures,'o')\n",
    "plt.ylabel(\"O_ring_failures\")\n",
    "plt.xlabel(\"Temperature\")\n",
    "plt.axhline(mean_O_ring_failures, color='r', linestyle='-')\n",
    "plt.show()"
   ]
  },
  {
   "cell_type": "code",
   "execution_count": 17,
   "metadata": {},
   "outputs": [],
   "source": [
    "import statsmodels.api as sm\n",
    "model=sm.OLS(O_ring_failures,temp).fit()"
   ]
  },
  {
   "cell_type": "code",
   "execution_count": 18,
   "metadata": {},
   "outputs": [
    {
     "data": {
      "text/html": [
       "<table class=\"simpletable\">\n",
       "<caption>OLS Regression Results</caption>\n",
       "<tr>\n",
       "  <th>Dep. Variable:</th>     <td>O_ring_failures</td> <th>  R-squared (uncentered):</th>      <td>   0.178</td>\n",
       "</tr>\n",
       "<tr>\n",
       "  <th>Model:</th>                   <td>OLS</td>       <th>  Adj. R-squared (uncentered):</th> <td>   0.140</td>\n",
       "</tr>\n",
       "<tr>\n",
       "  <th>Method:</th>             <td>Least Squares</td>  <th>  F-statistic:       </th>          <td>   4.755</td>\n",
       "</tr>\n",
       "<tr>\n",
       "  <th>Date:</th>             <td>Mon, 02 Dec 2019</td> <th>  Prob (F-statistic):</th>           <td>0.0402</td> \n",
       "</tr>\n",
       "<tr>\n",
       "  <th>Time:</th>                 <td>22:06:46</td>     <th>  Log-Likelihood:    </th>          <td> -19.595</td>\n",
       "</tr>\n",
       "<tr>\n",
       "  <th>No. Observations:</th>      <td>    23</td>      <th>  AIC:               </th>          <td>   41.19</td>\n",
       "</tr>\n",
       "<tr>\n",
       "  <th>Df Residuals:</th>          <td>    22</td>      <th>  BIC:               </th>          <td>   42.33</td>\n",
       "</tr>\n",
       "<tr>\n",
       "  <th>Df Model:</th>              <td>     1</td>      <th>                     </th>              <td> </td>   \n",
       "</tr>\n",
       "<tr>\n",
       "  <th>Covariance Type:</th>      <td>nonrobust</td>    <th>                     </th>              <td> </td>   \n",
       "</tr>\n",
       "</table>\n",
       "<table class=\"simpletable\">\n",
       "<tr>\n",
       "       <td></td>          <th>coef</th>     <th>std err</th>      <th>t</th>      <th>P>|t|</th>  <th>[0.025</th>    <th>0.975]</th>  \n",
       "</tr>\n",
       "<tr>\n",
       "  <th>temperature</th> <td>    0.0038</td> <td>    0.002</td> <td>    2.181</td> <td> 0.040</td> <td>    0.000</td> <td>    0.007</td>\n",
       "</tr>\n",
       "</table>\n",
       "<table class=\"simpletable\">\n",
       "<tr>\n",
       "  <th>Omnibus:</th>       <td>14.053</td> <th>  Durbin-Watson:     </th> <td>   1.851</td>\n",
       "</tr>\n",
       "<tr>\n",
       "  <th>Prob(Omnibus):</th> <td> 0.001</td> <th>  Jarque-Bera (JB):  </th> <td>  12.853</td>\n",
       "</tr>\n",
       "<tr>\n",
       "  <th>Skew:</th>          <td> 1.623</td> <th>  Prob(JB):          </th> <td> 0.00162</td>\n",
       "</tr>\n",
       "<tr>\n",
       "  <th>Kurtosis:</th>      <td> 4.696</td> <th>  Cond. No.          </th> <td>    1.00</td>\n",
       "</tr>\n",
       "</table><br/><br/>Warnings:<br/>[1] Standard Errors assume that the covariance matrix of the errors is correctly specified."
      ],
      "text/plain": [
       "<class 'statsmodels.iolib.summary.Summary'>\n",
       "\"\"\"\n",
       "                                 OLS Regression Results                                \n",
       "=======================================================================================\n",
       "Dep. Variable:        O_ring_failures   R-squared (uncentered):                   0.178\n",
       "Model:                            OLS   Adj. R-squared (uncentered):              0.140\n",
       "Method:                 Least Squares   F-statistic:                              4.755\n",
       "Date:                Mon, 02 Dec 2019   Prob (F-statistic):                      0.0402\n",
       "Time:                        22:06:46   Log-Likelihood:                         -19.595\n",
       "No. Observations:                  23   AIC:                                      41.19\n",
       "Df Residuals:                      22   BIC:                                      42.33\n",
       "Df Model:                           1                                                  \n",
       "Covariance Type:            nonrobust                                                  \n",
       "===============================================================================\n",
       "                  coef    std err          t      P>|t|      [0.025      0.975]\n",
       "-------------------------------------------------------------------------------\n",
       "temperature     0.0038      0.002      2.181      0.040       0.000       0.007\n",
       "==============================================================================\n",
       "Omnibus:                       14.053   Durbin-Watson:                   1.851\n",
       "Prob(Omnibus):                  0.001   Jarque-Bera (JB):               12.853\n",
       "Skew:                           1.623   Prob(JB):                      0.00162\n",
       "Kurtosis:                       4.696   Cond. No.                         1.00\n",
       "==============================================================================\n",
       "\n",
       "Warnings:\n",
       "[1] Standard Errors assume that the covariance matrix of the errors is correctly specified.\n",
       "\"\"\""
      ]
     },
     "execution_count": 18,
     "metadata": {},
     "output_type": "execute_result"
    }
   ],
   "source": [
    "#Obtain model summary\n",
    "model.summary()"
   ]
  },
  {
   "cell_type": "markdown",
   "metadata": {},
   "source": [
    "# Observation\n",
    "As temeparture increases by 1 degree, O.ring.failures increase by 0.0038"
   ]
  },
  {
   "cell_type": "code",
   "execution_count": 19,
   "metadata": {},
   "outputs": [
    {
     "data": {
      "text/plain": [
       "<seaborn.axisgrid.PairGrid at 0x29e9c1bc508>"
      ]
     },
     "execution_count": 19,
     "metadata": {},
     "output_type": "execute_result"
    },
    {
     "data": {
      "image/png": "[encoded data removed]",
      "text/plain": [
       "<Figure size 900x900 with 30 Axes>"
      ]
     },
     "metadata": {
      "needs_background": "light"
     },
     "output_type": "display_data"
    }
   ],
   "source": [
    "import seaborn as sns\n",
    "sns.pairplot(challenger)"
   ]
  },
  {
   "cell_type": "markdown",
   "metadata": {},
   "source": [
    "# Observations\n",
    "1.The histogram on the diagonal allows us to see the distribution of a single variable\n",
    "2.The scatter plots on the upper and lower triangles show the relationship (or lack thereof) between two variables."
   ]
  },
  {
   "cell_type": "code",
   "execution_count": 20,
   "metadata": {},
   "outputs": [
    {
     "data": {
      "text/plain": [
       "<matplotlib.axes._subplots.AxesSubplot at 0x29e986ce388>"
      ]
     },
     "execution_count": 20,
     "metadata": {},
     "output_type": "execute_result"
    },
    {
     "data": {
      "image/png": "[encoded data removed]",
      "text/plain": [
       "<Figure size 432x288 with 1 Axes>"
      ]
     },
     "metadata": {
      "needs_background": "light"
     },
     "output_type": "display_data"
    }
   ],
   "source": [
    "sns.distplot(challenger['temperature'])"
   ]
  },
  {
   "cell_type": "code",
   "execution_count": 21,
   "metadata": {},
   "outputs": [
    {
     "data": {
      "text/plain": [
       "<matplotlib.axes._subplots.AxesSubplot at 0x29e9d466fc8>"
      ]
     },
     "execution_count": 21,
     "metadata": {},
     "output_type": "execute_result"
    },
    {
     "data": {
      "image/png": "[encoded data removed]",
      "text/plain": [
       "<Figure size 432x288 with 2 Axes>"
      ]
     },
     "metadata": {
      "needs_background": "light"
     },
     "output_type": "display_data"
    }
   ],
   "source": [
    "# Plot the correlation using heatmap\n",
    "corr = challenger.corr()\n",
    "sns.heatmap(corr,xticklabels=corr.columns,yticklabels=corr.columns)"
   ]
  },
  {
   "cell_type": "markdown",
   "metadata": {},
   "source": [
    "# Observations\n",
    "Black color represents negative correlation which exists betewen temeprature and O.ring.failures"
   ]
  },
  {
   "cell_type": "code",
   "execution_count": 22,
   "metadata": {},
   "outputs": [
    {
     "data": {
      "text/plain": [
       "<matplotlib.axes._subplots.AxesSubplot at 0x29e9d539208>"
      ]
     },
     "execution_count": 22,
     "metadata": {},
     "output_type": "execute_result"
    },
    {
     "data": {
      "image/png": "[encoded data removed]",
      "text/plain": [
       "<Figure size 432x288 with 1 Axes>"
      ]
     },
     "metadata": {
      "needs_background": "light"
     },
     "output_type": "display_data"
    }
   ],
   "source": [
    "#Plot a regression line\n",
    "plt.plot(temp,O_ring_failures,'o')\n",
    "plt.ylabel(\"O_ring_failures\")\n",
    "plt.xlabel(\"Temperature\")\n",
    "plt.axhline(mean_O_ring_failures, color='r', linestyle='-')\n",
    "sns.regplot(x='temperature', y='O_ring_failures', data=challenger)"
   ]
  },
  {
   "cell_type": "code",
   "execution_count": 23,
   "metadata": {},
   "outputs": [],
   "source": [
    "#Split up the data into 'x' array that contains the features to train on and 'y' array with the target variable\n",
    "X=challenger['temperature']\n",
    "y=challenger['O_ring_failures']"
   ]
  },
  {
   "cell_type": "code",
   "execution_count": 24,
   "metadata": {},
   "outputs": [
    {
     "data": {
      "text/plain": [
       "0     66\n",
       "1     70\n",
       "2     69\n",
       "3     68\n",
       "4     67\n",
       "5     72\n",
       "6     73\n",
       "7     70\n",
       "8     57\n",
       "9     63\n",
       "10    70\n",
       "11    78\n",
       "12    67\n",
       "13    53\n",
       "14    67\n",
       "15    75\n",
       "16    70\n",
       "17    81\n",
       "18    76\n",
       "19    79\n",
       "20    75\n",
       "21    76\n",
       "22    58\n",
       "Name: temperature, dtype: int64"
      ]
     },
     "execution_count": 24,
     "metadata": {},
     "output_type": "execute_result"
    }
   ],
   "source": [
    "X"
   ]
  },
  {
   "cell_type": "code",
   "execution_count": 25,
   "metadata": {},
   "outputs": [
    {
     "data": {
      "text/plain": [
       "0     0\n",
       "1     1\n",
       "2     0\n",
       "3     0\n",
       "4     0\n",
       "5     0\n",
       "6     0\n",
       "7     0\n",
       "8     1\n",
       "9     1\n",
       "10    1\n",
       "11    0\n",
       "12    0\n",
       "13    2\n",
       "14    0\n",
       "15    0\n",
       "16    0\n",
       "17    0\n",
       "18    0\n",
       "19    0\n",
       "20    0\n",
       "21    0\n",
       "22    1\n",
       "Name: O_ring_failures, dtype: int64"
      ]
     },
     "execution_count": 25,
     "metadata": {},
     "output_type": "execute_result"
    }
   ],
   "source": [
    "y"
   ]
  },
  {
   "cell_type": "code",
   "execution_count": 26,
   "metadata": {},
   "outputs": [],
   "source": [
    "# Split the data into Training set and Test set\n",
    "from sklearn.model_selection import train_test_split  #train_test_split splits arrays or matrices into random train and test subsets. \n",
    "X_train, X_test, y_train, y_test = train_test_split(X, y,test_size=0.4,random_state =1) \n",
    "#random_state=some_number,guarantees that the output of Run 1 will be equal to the output of Run 2, \n",
    "# i.e. split will be always the same."
   ]
  },
  {
   "cell_type": "code",
   "execution_count": 27,
   "metadata": {},
   "outputs": [
    {
     "data": {
      "text/plain": [
       "6     73\n",
       "7     70\n",
       "1     70\n",
       "14    67\n",
       "0     66\n",
       "15    75\n",
       "22    58\n",
       "21    76\n",
       "9     63\n",
       "8     57\n",
       "12    67\n",
       "11    78\n",
       "5     72\n",
       "Name: temperature, dtype: int64"
      ]
     },
     "execution_count": 27,
     "metadata": {},
     "output_type": "execute_result"
    }
   ],
   "source": [
    "X_train"
   ]
  },
  {
   "cell_type": "code",
   "execution_count": 28,
   "metadata": {},
   "outputs": [
    {
     "data": {
      "text/plain": [
       "6     0\n",
       "7     0\n",
       "1     1\n",
       "14    0\n",
       "0     0\n",
       "15    0\n",
       "22    1\n",
       "21    0\n",
       "9     1\n",
       "8     1\n",
       "12    0\n",
       "11    0\n",
       "5     0\n",
       "Name: O_ring_failures, dtype: int64"
      ]
     },
     "execution_count": 28,
     "metadata": {},
     "output_type": "execute_result"
    }
   ],
   "source": [
    "y_train"
   ]
  },
  {
   "cell_type": "code",
   "execution_count": 29,
   "metadata": {},
   "outputs": [],
   "source": [
    "X_train = X_train.values.reshape((-1,1))"
   ]
  },
  {
   "cell_type": "code",
   "execution_count": 30,
   "metadata": {},
   "outputs": [
    {
     "data": {
      "text/plain": [
       "array([[73],\n",
       "       [70],\n",
       "       [70],\n",
       "       [67],\n",
       "       [66],\n",
       "       [75],\n",
       "       [58],\n",
       "       [76],\n",
       "       [63],\n",
       "       [57],\n",
       "       [67],\n",
       "       [78],\n",
       "       [72]], dtype=int64)"
      ]
     },
     "execution_count": 30,
     "metadata": {},
     "output_type": "execute_result"
    }
   ],
   "source": [
    "X_train"
   ]
  },
  {
   "cell_type": "code",
   "execution_count": 77,
   "metadata": {},
   "outputs": [
    {
     "data": {
      "text/plain": [
       "6     0\n",
       "7     0\n",
       "1     1\n",
       "14    0\n",
       "0     0\n",
       "15    0\n",
       "22    1\n",
       "21    0\n",
       "9     1\n",
       "8     1\n",
       "12    0\n",
       "11    0\n",
       "5     0\n",
       "Name: O_ring_failures, dtype: int64"
      ]
     },
     "execution_count": 77,
     "metadata": {},
     "output_type": "execute_result"
    }
   ],
   "source": [
    "y_train"
   ]
  },
  {
   "cell_type": "markdown",
   "metadata": {},
   "source": [
    "# Linear Regression with sklearn"
   ]
  },
  {
   "cell_type": "code",
   "execution_count": 32,
   "metadata": {},
   "outputs": [],
   "source": [
    "from sklearn import linear_model as lm\n",
    "model=lm.LinearRegression()\n",
    "results=model.fit(X_train,y_train) "
   ]
  },
  {
   "cell_type": "code",
   "execution_count": 33,
   "metadata": {},
   "outputs": [
    {
     "name": "stdout",
     "output_type": "stream",
     "text": [
      "Accuracy of the model: 0.49669252207783493\n"
     ]
    }
   ],
   "source": [
    "accuracy = model.score(X_train, y_train)\n",
    "print('Accuracy of the model:', accuracy)"
   ]
  },
  {
   "cell_type": "code",
   "execution_count": 34,
   "metadata": {},
   "outputs": [
    {
     "name": "stdout",
     "output_type": "stream",
     "text": [
      "intercept: 3.874282260501663\n",
      "slope: [-0.05197945]\n"
     ]
    }
   ],
   "source": [
    "#Print coefficients\n",
    "print('intercept:', model.intercept_)\n",
    "print('slope:', model.coef_)"
   ]
  },
  {
   "cell_type": "markdown",
   "metadata": {},
   "source": [
    "# Observation\n",
    "The slope value -0.051 means that the predicted O.ring.failures reduces by -0.05 when x(temperature) rises by one degree"
   ]
  },
  {
   "cell_type": "code",
   "execution_count": 39,
   "metadata": {},
   "outputs": [
    {
     "data": {
      "text/plain": [
       "LinearRegression(copy_X=True, fit_intercept=True, n_jobs=None, normalize=False)"
      ]
     },
     "execution_count": 39,
     "metadata": {},
     "output_type": "execute_result"
    }
   ],
   "source": [
    "#Check model score\n",
    "model"
   ]
  },
  {
   "cell_type": "code",
   "execution_count": 40,
   "metadata": {},
   "outputs": [
    {
     "data": {
      "text/plain": [
       "20    75\n",
       "17    81\n",
       "3     68\n",
       "13    53\n",
       "19    79\n",
       "16    70\n",
       "10    70\n",
       "4     67\n",
       "2     69\n",
       "18    76\n",
       "Name: temperature, dtype: int64"
      ]
     },
     "execution_count": 40,
     "metadata": {},
     "output_type": "execute_result"
    }
   ],
   "source": [
    "X_test"
   ]
  },
  {
   "cell_type": "code",
   "execution_count": 43,
   "metadata": {},
   "outputs": [],
   "source": [
    "X_test = X_test.values.reshape((-1,1))"
   ]
  },
  {
   "cell_type": "code",
   "execution_count": 44,
   "metadata": {},
   "outputs": [
    {
     "name": "stdout",
     "output_type": "stream",
     "text": [
      "predicted O.ring.failures:\n",
      "[-0.02417649 -0.33605319  0.33967966  1.11937141 -0.23209429  0.23572076\n",
      "  0.23572076  0.39165911  0.28770021 -0.07615594]\n"
     ]
    }
   ],
   "source": [
    "#Predictions from the model\n",
    "predictions = model.predict(X_test)\n",
    "print('predicted O.ring.failures:',predictions, sep = '\\n')"
   ]
  },
  {
   "cell_type": "code",
   "execution_count": 45,
   "metadata": {},
   "outputs": [
    {
     "data": {
      "text/plain": [
       "20    0\n",
       "17    0\n",
       "3     0\n",
       "13    2\n",
       "19    0\n",
       "16    0\n",
       "10    1\n",
       "4     0\n",
       "2     0\n",
       "18    0\n",
       "Name: O_ring_failures, dtype: int64"
      ]
     },
     "execution_count": 45,
     "metadata": {},
     "output_type": "execute_result"
    }
   ],
   "source": [
    "y_test"
   ]
  },
  {
   "cell_type": "code",
   "execution_count": 46,
   "metadata": {},
   "outputs": [
    {
     "data": {
      "text/plain": [
       "<matplotlib.collections.PathCollection at 0x29e9f133948>"
      ]
     },
     "execution_count": 46,
     "metadata": {},
     "output_type": "execute_result"
    },
    {
     "data": {
      "image/png": "[encoded data removed]",
      "text/plain": [
       "<Figure size 432x288 with 1 Axes>"
      ]
     },
     "metadata": {
      "needs_background": "light"
     },
     "output_type": "display_data"
    }
   ],
   "source": [
    "#Visualize the predictions\n",
    "plt.scatter(y_test, predictions)"
   ]
  },
  {
   "cell_type": "markdown",
   "metadata": {},
   "source": [
    "# Observations\n",
    "A linear model has been obtained"
   ]
  },
  {
   "cell_type": "code",
   "execution_count": 47,
   "metadata": {},
   "outputs": [
    {
     "name": "stdout",
     "output_type": "stream",
     "text": [
      "predicted response:\n",
      "[[-0.02417649]\n",
      " [-0.33605319]\n",
      " [ 0.33967966]\n",
      " [ 1.11937141]\n",
      " [-0.23209429]\n",
      " [ 0.23572076]\n",
      " [ 0.23572076]\n",
      " [ 0.39165911]\n",
      " [ 0.28770021]\n",
      " [-0.07615594]]\n"
     ]
    }
   ],
   "source": [
    "#Other way for prediction\n",
    "y_pred = model.intercept_ + model.coef_ * X_test\n",
    "print('predicted response:', y_pred, sep='\\n')"
   ]
  },
  {
   "cell_type": "code",
   "execution_count": 48,
   "metadata": {},
   "outputs": [
    {
     "name": "stdout",
     "output_type": "stream",
     "text": [
      "New Temperature=[[30]], Predicted O.ring.failures=[2.31489876]\n"
     ]
    }
   ],
   "source": [
    "#Define new data instance\n",
    "Xnew = [[30]]\n",
    "\n",
    "#Make a Prediction\n",
    "ynew = model.predict(Xnew)\n",
    "\n",
    "#Show the inputs and predicted outputs\n",
    "print(\"New Temperature=%s, Predicted O.ring.failures=%s\" % (Xnew,ynew))\n"
   ]
  },
  {
   "cell_type": "code",
   "execution_count": 49,
   "metadata": {},
   "outputs": [
    {
     "name": "stdout",
     "output_type": "stream",
     "text": [
      "New Temperature=[[70]], Predicted O.ring.failures=[0.23572076]\n"
     ]
    }
   ],
   "source": [
    "#Define new data instance\n",
    "Xnew = [[70]]\n",
    "\n",
    "#Make a Prediction\n",
    "ynew = model.predict(Xnew)\n",
    "\n",
    "#Show the inputs and predicted outputs\n",
    "print(\"New Temperature=%s, Predicted O.ring.failures=%s\" % (Xnew,ynew))"
   ]
  },
  {
   "cell_type": "code",
   "execution_count": 50,
   "metadata": {},
   "outputs": [],
   "source": [
    "#Evaluating the model \n",
    "from sklearn.metrics import mean_squared_error, r2_score\n",
    "X_train = X_train.reshape(-1,1)\n",
    "y_train_prediction = model.predict(X_train)\n",
    "\n",
    "X_test = X_test.reshape(-1,1)\n",
    "y_test_prediction = model.predict(X_test)"
   ]
  },
  {
   "cell_type": "code",
   "execution_count": 51,
   "metadata": {},
   "outputs": [
    {
     "name": "stdout",
     "output_type": "stream",
     "text": [
      "Slope: [-0.05197945]\n",
      "Intercept: 3.874282260501663\n",
      "\n",
      "\n",
      "The model performance for training set\n",
      "--------------------------------------\n",
      "RMSE is 0.3274346152282803\n",
      "R2 score is 0.4966925220778349\n",
      "\n",
      "\n",
      "The model performance for testing set\n",
      "--------------------------------------\n",
      "Root mean squared error:  0.440446139764291\n",
      "R2 score:  0.5268468243091089\n"
     ]
    }
   ],
   "source": [
    "# printing values\n",
    "print('Slope:' ,model.coef_)\n",
    "print('Intercept:', model.intercept_)\n",
    "print(\"\\n\")\n",
    "\n",
    "# model evaluation for training set\n",
    "import numpy as np\n",
    "rmse_training = (np.sqrt(mean_squared_error(y_train, y_train_prediction)))\n",
    "r2_training = r2_score(y_train, y_train_prediction)\n",
    "\n",
    "print(\"The model performance for training set\")\n",
    "print(\"--------------------------------------\")\n",
    "print('RMSE is {}'.format(rmse_training))\n",
    "print('R2 score is {}'.format(r2_training))\n",
    "print(\"\\n\")\n",
    "\n",
    "# model evaluation for testing set\n",
    "rmse_testing = (np.sqrt(mean_squared_error(y_test, y_test_prediction)))\n",
    "r2_testing = r2_score(y_test, y_test_prediction)\n",
    "\n",
    "print(\"The model performance for testing set\")\n",
    "print(\"--------------------------------------\")\n",
    "print('Root mean squared error: ', rmse_testing)\n",
    "print('R2 score: ', r2_testing)"
   ]
  },
  {
   "cell_type": "code",
   "execution_count": 52,
   "metadata": {},
   "outputs": [
    {
     "data": {
      "text/plain": [
       "Text(0, 0.5, 'O_ring_failures')"
      ]
     },
     "execution_count": 52,
     "metadata": {},
     "output_type": "execute_result"
    },
    {
     "data": {
      "image/png": "[encoded data removed]",
      "text/plain": [
       "<Figure size 432x288 with 1 Axes>"
      ]
     },
     "metadata": {
      "needs_background": "light"
     },
     "output_type": "display_data"
    }
   ],
   "source": [
    "# plotting values\n",
    "# data points\n",
    "plt.scatter(X, y)\n",
    "plt.xlabel('Temeperature')\n",
    "plt.ylabel('O_ring_failures')"
   ]
  },
  {
   "cell_type": "code",
   "execution_count": 53,
   "metadata": {},
   "outputs": [],
   "source": [
    "X= X.values.reshape(-1,1)\n",
    "y_predicted = model.predict(X)"
   ]
  },
  {
   "cell_type": "code",
   "execution_count": 54,
   "metadata": {},
   "outputs": [
    {
     "data": {
      "image/png": "[encoded data removed]",
      "text/plain": [
       "<Figure size 432x288 with 1 Axes>"
      ]
     },
     "metadata": {
      "needs_background": "light"
     },
     "output_type": "display_data"
    }
   ],
   "source": [
    "# predicted values\n",
    "plt.plot(X, y_predicted, color='r')\n",
    "plt.show()"
   ]
  },
  {
   "cell_type": "markdown",
   "metadata": {},
   "source": [
    "# Multiple Linear Regression"
   ]
  },
  {
   "cell_type": "code",
   "execution_count": 55,
   "metadata": {},
   "outputs": [],
   "source": [
    "X = challenger[[\"temperature\", \"pressure\"]]\n",
    "y = challenger[\"O_ring_failures\"]"
   ]
  },
  {
   "cell_type": "code",
   "execution_count": 56,
   "metadata": {},
   "outputs": [
    {
     "data": {
      "text/html": [
       "<table class=\"simpletable\">\n",
       "<caption>OLS Regression Results</caption>\n",
       "<tr>\n",
       "  <th>Dep. Variable:</th>     <td>O_ring_failures</td> <th>  R-squared (uncentered):</th>      <td>   0.292</td>\n",
       "</tr>\n",
       "<tr>\n",
       "  <th>Model:</th>                   <td>OLS</td>       <th>  Adj. R-squared (uncentered):</th> <td>   0.225</td>\n",
       "</tr>\n",
       "<tr>\n",
       "  <th>Method:</th>             <td>Least Squares</td>  <th>  F-statistic:       </th>          <td>   4.333</td>\n",
       "</tr>\n",
       "<tr>\n",
       "  <th>Date:</th>             <td>Mon, 02 Dec 2019</td> <th>  Prob (F-statistic):</th>           <td>0.0266</td> \n",
       "</tr>\n",
       "<tr>\n",
       "  <th>Time:</th>                 <td>22:08:32</td>     <th>  Log-Likelihood:    </th>          <td> -17.873</td>\n",
       "</tr>\n",
       "<tr>\n",
       "  <th>No. Observations:</th>      <td>    23</td>      <th>  AIC:               </th>          <td>   39.75</td>\n",
       "</tr>\n",
       "<tr>\n",
       "  <th>Df Residuals:</th>          <td>    21</td>      <th>  BIC:               </th>          <td>   42.02</td>\n",
       "</tr>\n",
       "<tr>\n",
       "  <th>Df Model:</th>              <td>     2</td>      <th>                     </th>              <td> </td>   \n",
       "</tr>\n",
       "<tr>\n",
       "  <th>Covariance Type:</th>      <td>nonrobust</td>    <th>                     </th>              <td> </td>   \n",
       "</tr>\n",
       "</table>\n",
       "<table class=\"simpletable\">\n",
       "<tr>\n",
       "       <td></td>          <th>coef</th>     <th>std err</th>      <th>t</th>      <th>P>|t|</th>  <th>[0.025</th>    <th>0.975]</th>  \n",
       "</tr>\n",
       "<tr>\n",
       "  <th>temperature</th> <td>   -0.0030</td> <td>    0.004</td> <td>   -0.745</td> <td> 0.465</td> <td>   -0.011</td> <td>    0.005</td>\n",
       "</tr>\n",
       "<tr>\n",
       "  <th>pressure</th>    <td>    0.0031</td> <td>    0.002</td> <td>    1.842</td> <td> 0.080</td> <td>   -0.000</td> <td>    0.007</td>\n",
       "</tr>\n",
       "</table>\n",
       "<table class=\"simpletable\">\n",
       "<tr>\n",
       "  <th>Omnibus:</th>       <td> 8.717</td> <th>  Durbin-Watson:     </th> <td>   1.883</td>\n",
       "</tr>\n",
       "<tr>\n",
       "  <th>Prob(Omnibus):</th> <td> 0.013</td> <th>  Jarque-Bera (JB):  </th> <td>   6.616</td>\n",
       "</tr>\n",
       "<tr>\n",
       "  <th>Skew:</th>          <td> 1.239</td> <th>  Prob(JB):          </th> <td>  0.0366</td>\n",
       "</tr>\n",
       "<tr>\n",
       "  <th>Kurtosis:</th>      <td> 3.871</td> <th>  Cond. No.          </th> <td>    6.71</td>\n",
       "</tr>\n",
       "</table><br/><br/>Warnings:<br/>[1] Standard Errors assume that the covariance matrix of the errors is correctly specified."
      ],
      "text/plain": [
       "<class 'statsmodels.iolib.summary.Summary'>\n",
       "\"\"\"\n",
       "                                 OLS Regression Results                                \n",
       "=======================================================================================\n",
       "Dep. Variable:        O_ring_failures   R-squared (uncentered):                   0.292\n",
       "Model:                            OLS   Adj. R-squared (uncentered):              0.225\n",
       "Method:                 Least Squares   F-statistic:                              4.333\n",
       "Date:                Mon, 02 Dec 2019   Prob (F-statistic):                      0.0266\n",
       "Time:                        22:08:32   Log-Likelihood:                         -17.873\n",
       "No. Observations:                  23   AIC:                                      39.75\n",
       "Df Residuals:                      21   BIC:                                      42.02\n",
       "Df Model:                           2                                                  \n",
       "Covariance Type:            nonrobust                                                  \n",
       "===============================================================================\n",
       "                  coef    std err          t      P>|t|      [0.025      0.975]\n",
       "-------------------------------------------------------------------------------\n",
       "temperature    -0.0030      0.004     -0.745      0.465      -0.011       0.005\n",
       "pressure        0.0031      0.002      1.842      0.080      -0.000       0.007\n",
       "==============================================================================\n",
       "Omnibus:                        8.717   Durbin-Watson:                   1.883\n",
       "Prob(Omnibus):                  0.013   Jarque-Bera (JB):                6.616\n",
       "Skew:                           1.239   Prob(JB):                       0.0366\n",
       "Kurtosis:                       3.871   Cond. No.                         6.71\n",
       "==============================================================================\n",
       "\n",
       "Warnings:\n",
       "[1] Standard Errors assume that the covariance matrix of the errors is correctly specified.\n",
       "\"\"\""
      ]
     },
     "execution_count": 56,
     "metadata": {},
     "output_type": "execute_result"
    }
   ],
   "source": [
    "model1 = sm.OLS(y,X).fit()\n",
    "predictions = model1.predict(X)\n",
    "model1.summary()"
   ]
  },
  {
   "cell_type": "markdown",
   "metadata": {},
   "source": [
    "# Observation\n",
    "1.This model has a higher R-squared compared to simple linear model against temperature and O.ring.failure\n",
    "2.However in this model both temeprature and pressure features became statistcially insignificant to predict O.ring.failure\n",
    "3.As pressure increases by 1 atmosphere, O.ring.failures increase by 0.0031 and as temperature increases by 1 degree, O.ring.failures decrease by -0.0030 "
   ]
  },
  {
   "cell_type": "code",
   "execution_count": 57,
   "metadata": {},
   "outputs": [],
   "source": [
    "# Split data\n",
    "from sklearn.model_selection import train_test_split\n",
    "X_train, X_test, y_train, y_test = train_test_split(X, y,test_size = 0.4, random_state=1)"
   ]
  },
  {
   "cell_type": "code",
   "execution_count": 58,
   "metadata": {},
   "outputs": [
    {
     "data": {
      "text/html": [
       "<div>\n",
       "<style scoped>\n",
       "    .dataframe tbody tr th:only-of-type {\n",
       "        vertical-align: middle;\n",
       "    }\n",
       "\n",
       "    .dataframe tbody tr th {\n",
       "        vertical-align: top;\n",
       "    }\n",
       "\n",
       "    .dataframe thead th {\n",
       "        text-align: right;\n",
       "    }\n",
       "</style>\n",
       "<table border=\"1\" class=\"dataframe\">\n",
       "  <thead>\n",
       "    <tr style=\"text-align: right;\">\n",
       "      <th></th>\n",
       "      <th>temperature</th>\n",
       "      <th>pressure</th>\n",
       "    </tr>\n",
       "  </thead>\n",
       "  <tbody>\n",
       "    <tr>\n",
       "      <td>6</td>\n",
       "      <td>73</td>\n",
       "      <td>100</td>\n",
       "    </tr>\n",
       "    <tr>\n",
       "      <td>7</td>\n",
       "      <td>70</td>\n",
       "      <td>100</td>\n",
       "    </tr>\n",
       "    <tr>\n",
       "      <td>1</td>\n",
       "      <td>70</td>\n",
       "      <td>50</td>\n",
       "    </tr>\n",
       "    <tr>\n",
       "      <td>14</td>\n",
       "      <td>67</td>\n",
       "      <td>200</td>\n",
       "    </tr>\n",
       "    <tr>\n",
       "      <td>0</td>\n",
       "      <td>66</td>\n",
       "      <td>50</td>\n",
       "    </tr>\n",
       "    <tr>\n",
       "      <td>15</td>\n",
       "      <td>75</td>\n",
       "      <td>200</td>\n",
       "    </tr>\n",
       "    <tr>\n",
       "      <td>22</td>\n",
       "      <td>58</td>\n",
       "      <td>200</td>\n",
       "    </tr>\n",
       "    <tr>\n",
       "      <td>21</td>\n",
       "      <td>76</td>\n",
       "      <td>200</td>\n",
       "    </tr>\n",
       "    <tr>\n",
       "      <td>9</td>\n",
       "      <td>63</td>\n",
       "      <td>200</td>\n",
       "    </tr>\n",
       "    <tr>\n",
       "      <td>8</td>\n",
       "      <td>57</td>\n",
       "      <td>200</td>\n",
       "    </tr>\n",
       "    <tr>\n",
       "      <td>12</td>\n",
       "      <td>67</td>\n",
       "      <td>200</td>\n",
       "    </tr>\n",
       "    <tr>\n",
       "      <td>11</td>\n",
       "      <td>78</td>\n",
       "      <td>200</td>\n",
       "    </tr>\n",
       "    <tr>\n",
       "      <td>5</td>\n",
       "      <td>72</td>\n",
       "      <td>50</td>\n",
       "    </tr>\n",
       "  </tbody>\n",
       "</table>\n",
       "</div>"
      ],
      "text/plain": [
       "    temperature  pressure\n",
       "6            73       100\n",
       "7            70       100\n",
       "1            70        50\n",
       "14           67       200\n",
       "0            66        50\n",
       "15           75       200\n",
       "22           58       200\n",
       "21           76       200\n",
       "9            63       200\n",
       "8            57       200\n",
       "12           67       200\n",
       "11           78       200\n",
       "5            72        50"
      ]
     },
     "execution_count": 58,
     "metadata": {},
     "output_type": "execute_result"
    }
   ],
   "source": [
    "X_train"
   ]
  },
  {
   "cell_type": "code",
   "execution_count": 59,
   "metadata": {},
   "outputs": [
    {
     "data": {
      "text/plain": [
       "6     0\n",
       "7     0\n",
       "1     1\n",
       "14    0\n",
       "0     0\n",
       "15    0\n",
       "22    1\n",
       "21    0\n",
       "9     1\n",
       "8     1\n",
       "12    0\n",
       "11    0\n",
       "5     0\n",
       "Name: O_ring_failures, dtype: int64"
      ]
     },
     "execution_count": 59,
     "metadata": {},
     "output_type": "execute_result"
    }
   ],
   "source": [
    "y_train"
   ]
  },
  {
   "cell_type": "code",
   "execution_count": 60,
   "metadata": {},
   "outputs": [],
   "source": [
    "# define the data/predictors as the pre-set feature names  \n",
    "features = X_train.iloc[:,:].values"
   ]
  },
  {
   "cell_type": "code",
   "execution_count": 61,
   "metadata": {},
   "outputs": [
    {
     "data": {
      "text/plain": [
       "array([[ 73, 100],\n",
       "       [ 70, 100],\n",
       "       [ 70,  50],\n",
       "       [ 67, 200],\n",
       "       [ 66,  50],\n",
       "       [ 75, 200],\n",
       "       [ 58, 200],\n",
       "       [ 76, 200],\n",
       "       [ 63, 200],\n",
       "       [ 57, 200],\n",
       "       [ 67, 200],\n",
       "       [ 78, 200],\n",
       "       [ 72,  50]], dtype=int64)"
      ]
     },
     "execution_count": 61,
     "metadata": {},
     "output_type": "execute_result"
    }
   ],
   "source": [
    "features"
   ]
  },
  {
   "cell_type": "code",
   "execution_count": 62,
   "metadata": {},
   "outputs": [],
   "source": [
    "labels = y_train.iloc[:].values"
   ]
  },
  {
   "cell_type": "code",
   "execution_count": 63,
   "metadata": {},
   "outputs": [
    {
     "data": {
      "text/plain": [
       "array([0, 0, 1, 0, 0, 0, 1, 0, 1, 1, 0, 0, 0], dtype=int64)"
      ]
     },
     "execution_count": 63,
     "metadata": {},
     "output_type": "execute_result"
    }
   ],
   "source": [
    "labels"
   ]
  },
  {
   "cell_type": "code",
   "execution_count": 64,
   "metadata": {},
   "outputs": [],
   "source": [
    "X=features\n",
    "y=labels"
   ]
  },
  {
   "cell_type": "code",
   "execution_count": 65,
   "metadata": {},
   "outputs": [],
   "source": [
    "# Instantiate Multiple linear regrssion model\n",
    "from sklearn import linear_model as lm\n",
    "model=lm.LinearRegression()\n",
    "results=model.fit(X,y) "
   ]
  },
  {
   "cell_type": "code",
   "execution_count": 66,
   "metadata": {},
   "outputs": [],
   "source": [
    "predictions = model.predict(X)"
   ]
  },
  {
   "cell_type": "code",
   "execution_count": 67,
   "metadata": {},
   "outputs": [
    {
     "name": "stdout",
     "output_type": "stream",
     "text": [
      "Accuracy of the model: 0.4967625599627807\n"
     ]
    }
   ],
   "source": [
    "#Check model accuracy\n",
    "accuracy=model.score(X,y)\n",
    "print('Accuracy of the model:', accuracy)"
   ]
  },
  {
   "cell_type": "code",
   "execution_count": 68,
   "metadata": {},
   "outputs": [
    {
     "data": {
      "text/plain": [
       "<matplotlib.collections.PathCollection at 0x29e9f6b8288>"
      ]
     },
     "execution_count": 68,
     "metadata": {},
     "output_type": "execute_result"
    },
    {
     "data": {
      "image/png": "[encoded data removed]",
      "text/plain": [
       "<Figure size 432x288 with 1 Axes>"
      ]
     },
     "metadata": {
      "needs_background": "light"
     },
     "output_type": "display_data"
    }
   ],
   "source": [
    "#Visualize the predictions\n",
    "plt.scatter(y, predictions)"
   ]
  },
  {
   "cell_type": "markdown",
   "metadata": {},
   "source": [
    "# Observation\n",
    "With both temeprature and pressure the model is not linear"
   ]
  },
  {
   "cell_type": "code",
   "execution_count": 69,
   "metadata": {},
   "outputs": [
    {
     "name": "stdout",
     "output_type": "stream",
     "text": [
      "Slope: [-5.18729135e-02  6.02614157e-05]\n",
      "Intercept: 3.857933005149098\n",
      "\n",
      "\n",
      "The model performance\n",
      "--------------------------------------\n",
      "RMSE is 0.32741183231050536\n",
      "R2 score is 0.4967625599627806\n",
      "\n",
      "\n"
     ]
    }
   ],
   "source": [
    "#Evaluating the model \n",
    "from sklearn.metrics import mean_squared_error, r2_score\n",
    "\n",
    "# printing values\n",
    "print('Slope:' ,model.coef_)\n",
    "print('Intercept:', model.intercept_)\n",
    "print(\"\\n\")\n",
    "\n",
    "\n",
    "import numpy as np\n",
    "rmse = (np.sqrt(mean_squared_error(y,predictions)))\n",
    "r2 = r2_score(y,predictions)\n",
    "\n",
    "print(\"The model performance\")\n",
    "print(\"--------------------------------------\")\n",
    "print('RMSE is {}'.format(rmse))\n",
    "print('R2 score is {}'.format(r2))\n",
    "print(\"\\n\")"
   ]
  },
  {
   "cell_type": "code",
   "execution_count": 1,
   "metadata": {},
   "outputs": [
    {
     "ename": "NameError",
     "evalue": "name 'challenger' is not defined",
     "output_type": "error",
     "traceback": [
      "\u001b[1;31m---------------------------------------------------------------------------\u001b[0m",
      "\u001b[1;31mNameError\u001b[0m                                 Traceback (most recent call last)",
      "\u001b[1;32m<ipython-input-1-78f263a2ff2a>\u001b[0m in \u001b[0;36m<module>\u001b[1;34m\u001b[0m\n\u001b[1;32m----> 1\u001b[1;33m \u001b[0mpre\u001b[0m \u001b[1;33m=\u001b[0m \u001b[0mchallenger\u001b[0m\u001b[1;33m[\u001b[0m\u001b[1;34m'pressure'\u001b[0m\u001b[1;33m]\u001b[0m\u001b[1;33m\u001b[0m\u001b[1;33m\u001b[0m\u001b[0m\n\u001b[0m",
      "\u001b[1;31mNameError\u001b[0m: name 'challenger' is not defined"
     ]
    }
   ],
   "source": [
    "pre = challenger['pressure']"
   ]
  },
  {
   "cell_type": "code",
   "execution_count": 71,
   "metadata": {},
   "outputs": [
    {
     "data": {
      "text/plain": [
       "0      50\n",
       "1      50\n",
       "2      50\n",
       "3      50\n",
       "4      50\n",
       "5      50\n",
       "6     100\n",
       "7     100\n",
       "8     200\n",
       "9     200\n",
       "10    200\n",
       "11    200\n",
       "12    200\n",
       "13    200\n",
       "14    200\n",
       "15    200\n",
       "16    200\n",
       "17    200\n",
       "18    200\n",
       "19    200\n",
       "20    200\n",
       "21    200\n",
       "22    200\n",
       "Name: pressure, dtype: int64"
      ]
     },
     "execution_count": 71,
     "metadata": {},
     "output_type": "execute_result"
    }
   ],
   "source": [
    "pre"
   ]
  },
  {
   "cell_type": "code",
   "execution_count": 72,
   "metadata": {},
   "outputs": [
    {
     "data": {
      "text/plain": [
       "Text(0.5, 0, 'pressure')"
      ]
     },
     "execution_count": 72,
     "metadata": {},
     "output_type": "execute_result"
    },
    {
     "data": {
      "image/png": "[encoded data removed]",
      "text/plain": [
       "<Figure size 432x288 with 1 Axes>"
      ]
     },
     "metadata": {
      "needs_background": "light"
     },
     "output_type": "display_data"
    }
   ],
   "source": [
    "%matplotlib inline\n",
    "plt.plot(pre,O_ring_failures,'o')\n",
    "plt.ylabel(\"O_ring_failures\")\n",
    "plt.xlabel(\"pressure\")"
   ]
  },
  {
   "cell_type": "code",
   "execution_count": 73,
   "metadata": {},
   "outputs": [
    {
     "data": {
      "text/html": [
       "<div>\n",
       "<style scoped>\n",
       "    .dataframe tbody tr th:only-of-type {\n",
       "        vertical-align: middle;\n",
       "    }\n",
       "\n",
       "    .dataframe tbody tr th {\n",
       "        vertical-align: top;\n",
       "    }\n",
       "\n",
       "    .dataframe thead th {\n",
       "        text-align: right;\n",
       "    }\n",
       "</style>\n",
       "<table border=\"1\" class=\"dataframe\">\n",
       "  <thead>\n",
       "    <tr style=\"text-align: right;\">\n",
       "      <th></th>\n",
       "      <th>o_ring_ct</th>\n",
       "      <th>O_ring_failures</th>\n",
       "      <th>temperature</th>\n",
       "      <th>pressure</th>\n",
       "      <th>launch_id</th>\n",
       "    </tr>\n",
       "  </thead>\n",
       "  <tbody>\n",
       "    <tr>\n",
       "      <td>o_ring_ct</td>\n",
       "      <td>NaN</td>\n",
       "      <td>NaN</td>\n",
       "      <td>NaN</td>\n",
       "      <td>NaN</td>\n",
       "      <td>NaN</td>\n",
       "    </tr>\n",
       "    <tr>\n",
       "      <td>O_ring_failures</td>\n",
       "      <td>NaN</td>\n",
       "      <td>1.000000</td>\n",
       "      <td>-0.725671</td>\n",
       "      <td>0.220326</td>\n",
       "      <td>-0.011993</td>\n",
       "    </tr>\n",
       "    <tr>\n",
       "      <td>temperature</td>\n",
       "      <td>NaN</td>\n",
       "      <td>-0.725671</td>\n",
       "      <td>1.000000</td>\n",
       "      <td>0.039818</td>\n",
       "      <td>0.230770</td>\n",
       "    </tr>\n",
       "    <tr>\n",
       "      <td>pressure</td>\n",
       "      <td>NaN</td>\n",
       "      <td>0.220326</td>\n",
       "      <td>0.039818</td>\n",
       "      <td>1.000000</td>\n",
       "      <td>0.839932</td>\n",
       "    </tr>\n",
       "    <tr>\n",
       "      <td>launch_id</td>\n",
       "      <td>NaN</td>\n",
       "      <td>-0.011993</td>\n",
       "      <td>0.230770</td>\n",
       "      <td>0.839932</td>\n",
       "      <td>1.000000</td>\n",
       "    </tr>\n",
       "  </tbody>\n",
       "</table>\n",
       "</div>"
      ],
      "text/plain": [
       "                 o_ring_ct  O_ring_failures  temperature  pressure  launch_id\n",
       "o_ring_ct              NaN              NaN          NaN       NaN        NaN\n",
       "O_ring_failures        NaN         1.000000    -0.725671  0.220326  -0.011993\n",
       "temperature            NaN        -0.725671     1.000000  0.039818   0.230770\n",
       "pressure               NaN         0.220326     0.039818  1.000000   0.839932\n",
       "launch_id              NaN        -0.011993     0.230770  0.839932   1.000000"
      ]
     },
     "execution_count": 73,
     "metadata": {},
     "output_type": "execute_result"
    }
   ],
   "source": [
    "challenger.corr()"
   ]
  },
  {
   "cell_type": "code",
   "execution_count": 74,
   "metadata": {},
   "outputs": [
    {
     "data": {
      "image/png": "[encoded data removed]",
      "text/plain": [
       "<Figure size 432x288 with 1 Axes>"
      ]
     },
     "metadata": {
      "needs_background": "light"
     },
     "output_type": "display_data"
    }
   ],
   "source": [
    "plt.plot(pre,O_ring_failures,'o')\n",
    "plt.ylabel(\"O_ring_failures\")\n",
    "plt.xlabel(\"pressure\")\n",
    "plt.axhline(mean_O_ring_failures, color='r', linestyle='-')\n",
    "plt.show()"
   ]
  },
  {
   "cell_type": "code",
   "execution_count": 75,
   "metadata": {},
   "outputs": [],
   "source": [
    "import statsmodels.api as sm\n",
    "model=sm.OLS(O_ring_failures,pre).fit()"
   ]
  },
  {
   "cell_type": "code",
   "execution_count": 76,
   "metadata": {},
   "outputs": [
    {
     "data": {
      "text/html": [
       "<table class=\"simpletable\">\n",
       "<caption>OLS Regression Results</caption>\n",
       "<tr>\n",
       "  <th>Dep. Variable:</th>     <td>O_ring_failures</td> <th>  R-squared (uncentered):</th>      <td>   0.273</td>\n",
       "</tr>\n",
       "<tr>\n",
       "  <th>Model:</th>                   <td>OLS</td>       <th>  Adj. R-squared (uncentered):</th> <td>   0.240</td>\n",
       "</tr>\n",
       "<tr>\n",
       "  <th>Method:</th>             <td>Least Squares</td>  <th>  F-statistic:       </th>          <td>   8.278</td>\n",
       "</tr>\n",
       "<tr>\n",
       "  <th>Date:</th>             <td>Mon, 02 Dec 2019</td> <th>  Prob (F-statistic):</th>           <td>0.00875</td>\n",
       "</tr>\n",
       "<tr>\n",
       "  <th>Time:</th>                 <td>22:09:08</td>     <th>  Log-Likelihood:    </th>          <td> -18.173</td>\n",
       "</tr>\n",
       "<tr>\n",
       "  <th>No. Observations:</th>      <td>    23</td>      <th>  AIC:               </th>          <td>   38.35</td>\n",
       "</tr>\n",
       "<tr>\n",
       "  <th>Df Residuals:</th>          <td>    22</td>      <th>  BIC:               </th>          <td>   39.48</td>\n",
       "</tr>\n",
       "<tr>\n",
       "  <th>Df Model:</th>              <td>     1</td>      <th>                     </th>              <td> </td>   \n",
       "</tr>\n",
       "<tr>\n",
       "  <th>Covariance Type:</th>      <td>nonrobust</td>    <th>                     </th>              <td> </td>   \n",
       "</tr>\n",
       "</table>\n",
       "<table class=\"simpletable\">\n",
       "<tr>\n",
       "      <td></td>        <th>coef</th>     <th>std err</th>      <th>t</th>      <th>P>|t|</th>  <th>[0.025</th>    <th>0.975]</th>  \n",
       "</tr>\n",
       "<tr>\n",
       "  <th>pressure</th> <td>    0.0020</td> <td>    0.001</td> <td>    2.877</td> <td> 0.009</td> <td>    0.001</td> <td>    0.003</td>\n",
       "</tr>\n",
       "</table>\n",
       "<table class=\"simpletable\">\n",
       "<tr>\n",
       "  <th>Omnibus:</th>       <td>11.553</td> <th>  Durbin-Watson:     </th> <td>   1.935</td>\n",
       "</tr>\n",
       "<tr>\n",
       "  <th>Prob(Omnibus):</th> <td> 0.003</td> <th>  Jarque-Bera (JB):  </th> <td>   9.660</td>\n",
       "</tr>\n",
       "<tr>\n",
       "  <th>Skew:</th>          <td> 1.447</td> <th>  Prob(JB):          </th> <td> 0.00799</td>\n",
       "</tr>\n",
       "<tr>\n",
       "  <th>Kurtosis:</th>      <td> 4.306</td> <th>  Cond. No.          </th> <td>    1.00</td>\n",
       "</tr>\n",
       "</table><br/><br/>Warnings:<br/>[1] Standard Errors assume that the covariance matrix of the errors is correctly specified."
      ],
      "text/plain": [
       "<class 'statsmodels.iolib.summary.Summary'>\n",
       "\"\"\"\n",
       "                                 OLS Regression Results                                \n",
       "=======================================================================================\n",
       "Dep. Variable:        O_ring_failures   R-squared (uncentered):                   0.273\n",
       "Model:                            OLS   Adj. R-squared (uncentered):              0.240\n",
       "Method:                 Least Squares   F-statistic:                              8.278\n",
       "Date:                Mon, 02 Dec 2019   Prob (F-statistic):                     0.00875\n",
       "Time:                        22:09:08   Log-Likelihood:                         -18.173\n",
       "No. Observations:                  23   AIC:                                      38.35\n",
       "Df Residuals:                      22   BIC:                                      39.48\n",
       "Df Model:                           1                                                  \n",
       "Covariance Type:            nonrobust                                                  \n",
       "==============================================================================\n",
       "                 coef    std err          t      P>|t|      [0.025      0.975]\n",
       "------------------------------------------------------------------------------\n",
       "pressure       0.0020      0.001      2.877      0.009       0.001       0.003\n",
       "==============================================================================\n",
       "Omnibus:                       11.553   Durbin-Watson:                   1.935\n",
       "Prob(Omnibus):                  0.003   Jarque-Bera (JB):                9.660\n",
       "Skew:                           1.447   Prob(JB):                      0.00799\n",
       "Kurtosis:                       4.306   Cond. No.                         1.00\n",
       "==============================================================================\n",
       "\n",
       "Warnings:\n",
       "[1] Standard Errors assume that the covariance matrix of the errors is correctly specified.\n",
       "\"\"\""
      ]
     },
     "execution_count": 76,
     "metadata": {},
     "output_type": "execute_result"
    }
   ],
   "source": [
    "model.summary()"
   ]
  },
  {
   "cell_type": "code",
   "execution_count": null,
   "metadata": {},
   "outputs": [],
   "source": []
  },
  {
   "cell_type": "code",
   "execution_count": null,
   "metadata": {},
   "outputs": [],
   "source": []
  }
 ],
 "metadata": {
  "kernelspec": {
   "display_name": "Python 3",
   "language": "python",
   "name": "python3"
  },
  "language_info": {
   "codemirror_mode": {
    "name": "ipython",
    "version": 3
   },
   "file_extension": ".py",
   "mimetype": "text/x-python",
   "name": "python",
   "nbconvert_exporter": "python",
   "pygments_lexer": "ipython3",
   "version": "3.7.4"
  }
 },
 "nbformat": 4,
 "nbformat_minor": 2
}
