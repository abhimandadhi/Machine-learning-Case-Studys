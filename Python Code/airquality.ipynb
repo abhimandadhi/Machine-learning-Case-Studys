{
 "cells": [
  {
   "cell_type": "code",
   "execution_count": 1,
   "metadata": {},
   "outputs": [
    {
     "data": {
      "text/plain": [
       "'C:\\\\Users\\\\AbhilashMandadhi\\\\Desktop\\\\Data Sets'"
      ]
     },
     "execution_count": 1,
     "metadata": {},
     "output_type": "execute_result"
    }
   ],
   "source": [
    "import os\n",
    "os.getcwd()"
   ]
  },
  {
   "cell_type": "code",
   "execution_count": 96,
   "metadata": {},
   "outputs": [
    {
     "data": {
      "text/html": [
       "<div>\n",
       "<style scoped>\n",
       "    .dataframe tbody tr th:only-of-type {\n",
       "        vertical-align: middle;\n",
       "    }\n",
       "\n",
       "    .dataframe tbody tr th {\n",
       "        vertical-align: top;\n",
       "    }\n",
       "\n",
       "    .dataframe thead th {\n",
       "        text-align: right;\n",
       "    }\n",
       "</style>\n",
       "<table border=\"1\" class=\"dataframe\">\n",
       "  <thead>\n",
       "    <tr style=\"text-align: right;\">\n",
       "      <th></th>\n",
       "      <th>Ozone</th>\n",
       "      <th>Solar.R</th>\n",
       "      <th>Wind</th>\n",
       "      <th>Temp</th>\n",
       "      <th>Month</th>\n",
       "      <th>Day</th>\n",
       "    </tr>\n",
       "  </thead>\n",
       "  <tbody>\n",
       "    <tr>\n",
       "      <td>0</td>\n",
       "      <td>41.0</td>\n",
       "      <td>190.0</td>\n",
       "      <td>7.4</td>\n",
       "      <td>67</td>\n",
       "      <td>5</td>\n",
       "      <td>1</td>\n",
       "    </tr>\n",
       "    <tr>\n",
       "      <td>1</td>\n",
       "      <td>36.0</td>\n",
       "      <td>118.0</td>\n",
       "      <td>8.0</td>\n",
       "      <td>72</td>\n",
       "      <td>5</td>\n",
       "      <td>2</td>\n",
       "    </tr>\n",
       "    <tr>\n",
       "      <td>2</td>\n",
       "      <td>12.0</td>\n",
       "      <td>149.0</td>\n",
       "      <td>12.6</td>\n",
       "      <td>74</td>\n",
       "      <td>5</td>\n",
       "      <td>3</td>\n",
       "    </tr>\n",
       "    <tr>\n",
       "      <td>3</td>\n",
       "      <td>18.0</td>\n",
       "      <td>313.0</td>\n",
       "      <td>11.5</td>\n",
       "      <td>62</td>\n",
       "      <td>5</td>\n",
       "      <td>4</td>\n",
       "    </tr>\n",
       "    <tr>\n",
       "      <td>4</td>\n",
       "      <td>NaN</td>\n",
       "      <td>NaN</td>\n",
       "      <td>14.3</td>\n",
       "      <td>56</td>\n",
       "      <td>5</td>\n",
       "      <td>5</td>\n",
       "    </tr>\n",
       "    <tr>\n",
       "      <td>...</td>\n",
       "      <td>...</td>\n",
       "      <td>...</td>\n",
       "      <td>...</td>\n",
       "      <td>...</td>\n",
       "      <td>...</td>\n",
       "      <td>...</td>\n",
       "    </tr>\n",
       "    <tr>\n",
       "      <td>148</td>\n",
       "      <td>30.0</td>\n",
       "      <td>193.0</td>\n",
       "      <td>6.9</td>\n",
       "      <td>70</td>\n",
       "      <td>9</td>\n",
       "      <td>26</td>\n",
       "    </tr>\n",
       "    <tr>\n",
       "      <td>149</td>\n",
       "      <td>NaN</td>\n",
       "      <td>145.0</td>\n",
       "      <td>13.2</td>\n",
       "      <td>77</td>\n",
       "      <td>9</td>\n",
       "      <td>27</td>\n",
       "    </tr>\n",
       "    <tr>\n",
       "      <td>150</td>\n",
       "      <td>14.0</td>\n",
       "      <td>191.0</td>\n",
       "      <td>14.3</td>\n",
       "      <td>75</td>\n",
       "      <td>9</td>\n",
       "      <td>28</td>\n",
       "    </tr>\n",
       "    <tr>\n",
       "      <td>151</td>\n",
       "      <td>18.0</td>\n",
       "      <td>131.0</td>\n",
       "      <td>8.0</td>\n",
       "      <td>76</td>\n",
       "      <td>9</td>\n",
       "      <td>29</td>\n",
       "    </tr>\n",
       "    <tr>\n",
       "      <td>152</td>\n",
       "      <td>20.0</td>\n",
       "      <td>223.0</td>\n",
       "      <td>11.5</td>\n",
       "      <td>68</td>\n",
       "      <td>9</td>\n",
       "      <td>3</td>\n",
       "    </tr>\n",
       "  </tbody>\n",
       "</table>\n",
       "<p>153 rows × 6 columns</p>\n",
       "</div>"
      ],
      "text/plain": [
       "     Ozone  Solar.R  Wind  Temp  Month  Day\n",
       "0     41.0    190.0   7.4    67      5    1\n",
       "1     36.0    118.0   8.0    72      5    2\n",
       "2     12.0    149.0  12.6    74      5    3\n",
       "3     18.0    313.0  11.5    62      5    4\n",
       "4      NaN      NaN  14.3    56      5    5\n",
       "..     ...      ...   ...   ...    ...  ...\n",
       "148   30.0    193.0   6.9    70      9   26\n",
       "149    NaN    145.0  13.2    77      9   27\n",
       "150   14.0    191.0  14.3    75      9   28\n",
       "151   18.0    131.0   8.0    76      9   29\n",
       "152   20.0    223.0  11.5    68      9    3\n",
       "\n",
       "[153 rows x 6 columns]"
      ]
     },
     "execution_count": 96,
     "metadata": {},
     "output_type": "execute_result"
    }
   ],
   "source": [
    "import numpy as np\n",
    "import pandas as pd\n",
    "import matplotlib.pyplot as plt\n",
    "data1 = pd.read_csv(\"airquality.csv\")\n",
    "data1"
   ]
  },
  {
   "cell_type": "code",
   "execution_count": 97,
   "metadata": {},
   "outputs": [
    {
     "data": {
      "text/html": [
       "<div>\n",
       "<style scoped>\n",
       "    .dataframe tbody tr th:only-of-type {\n",
       "        vertical-align: middle;\n",
       "    }\n",
       "\n",
       "    .dataframe tbody tr th {\n",
       "        vertical-align: top;\n",
       "    }\n",
       "\n",
       "    .dataframe thead th {\n",
       "        text-align: right;\n",
       "    }\n",
       "</style>\n",
       "<table border=\"1\" class=\"dataframe\">\n",
       "  <thead>\n",
       "    <tr style=\"text-align: right;\">\n",
       "      <th></th>\n",
       "      <th>Ozone</th>\n",
       "      <th>Solar.R</th>\n",
       "      <th>Wind</th>\n",
       "      <th>Temp</th>\n",
       "      <th>Month</th>\n",
       "      <th>Day</th>\n",
       "    </tr>\n",
       "  </thead>\n",
       "  <tbody>\n",
       "    <tr>\n",
       "      <td>count</td>\n",
       "      <td>116.000000</td>\n",
       "      <td>146.000000</td>\n",
       "      <td>153.000000</td>\n",
       "      <td>153.000000</td>\n",
       "      <td>153.000000</td>\n",
       "      <td>153.000000</td>\n",
       "    </tr>\n",
       "    <tr>\n",
       "      <td>mean</td>\n",
       "      <td>42.129310</td>\n",
       "      <td>185.931507</td>\n",
       "      <td>9.957516</td>\n",
       "      <td>77.882353</td>\n",
       "      <td>6.993464</td>\n",
       "      <td>15.627451</td>\n",
       "    </tr>\n",
       "    <tr>\n",
       "      <td>std</td>\n",
       "      <td>32.987885</td>\n",
       "      <td>90.058422</td>\n",
       "      <td>3.523001</td>\n",
       "      <td>9.465270</td>\n",
       "      <td>1.416522</td>\n",
       "      <td>8.848790</td>\n",
       "    </tr>\n",
       "    <tr>\n",
       "      <td>min</td>\n",
       "      <td>1.000000</td>\n",
       "      <td>7.000000</td>\n",
       "      <td>1.700000</td>\n",
       "      <td>56.000000</td>\n",
       "      <td>5.000000</td>\n",
       "      <td>1.000000</td>\n",
       "    </tr>\n",
       "    <tr>\n",
       "      <td>25%</td>\n",
       "      <td>18.000000</td>\n",
       "      <td>115.750000</td>\n",
       "      <td>7.400000</td>\n",
       "      <td>72.000000</td>\n",
       "      <td>6.000000</td>\n",
       "      <td>8.000000</td>\n",
       "    </tr>\n",
       "    <tr>\n",
       "      <td>50%</td>\n",
       "      <td>31.500000</td>\n",
       "      <td>205.000000</td>\n",
       "      <td>9.700000</td>\n",
       "      <td>79.000000</td>\n",
       "      <td>7.000000</td>\n",
       "      <td>16.000000</td>\n",
       "    </tr>\n",
       "    <tr>\n",
       "      <td>75%</td>\n",
       "      <td>63.250000</td>\n",
       "      <td>258.750000</td>\n",
       "      <td>11.500000</td>\n",
       "      <td>85.000000</td>\n",
       "      <td>8.000000</td>\n",
       "      <td>23.000000</td>\n",
       "    </tr>\n",
       "    <tr>\n",
       "      <td>max</td>\n",
       "      <td>168.000000</td>\n",
       "      <td>334.000000</td>\n",
       "      <td>20.700000</td>\n",
       "      <td>97.000000</td>\n",
       "      <td>9.000000</td>\n",
       "      <td>31.000000</td>\n",
       "    </tr>\n",
       "  </tbody>\n",
       "</table>\n",
       "</div>"
      ],
      "text/plain": [
       "            Ozone     Solar.R        Wind        Temp       Month         Day\n",
       "count  116.000000  146.000000  153.000000  153.000000  153.000000  153.000000\n",
       "mean    42.129310  185.931507    9.957516   77.882353    6.993464   15.627451\n",
       "std     32.987885   90.058422    3.523001    9.465270    1.416522    8.848790\n",
       "min      1.000000    7.000000    1.700000   56.000000    5.000000    1.000000\n",
       "25%     18.000000  115.750000    7.400000   72.000000    6.000000    8.000000\n",
       "50%     31.500000  205.000000    9.700000   79.000000    7.000000   16.000000\n",
       "75%     63.250000  258.750000   11.500000   85.000000    8.000000   23.000000\n",
       "max    168.000000  334.000000   20.700000   97.000000    9.000000   31.000000"
      ]
     },
     "execution_count": 97,
     "metadata": {},
     "output_type": "execute_result"
    }
   ],
   "source": [
    "data1.describe()"
   ]
  },
  {
   "cell_type": "code",
   "execution_count": 98,
   "metadata": {},
   "outputs": [
    {
     "data": {
      "text/plain": [
       "56"
      ]
     },
     "execution_count": 98,
     "metadata": {},
     "output_type": "execute_result"
    }
   ],
   "source": [
    "data1['Temp'].min()"
   ]
  },
  {
   "cell_type": "code",
   "execution_count": 99,
   "metadata": {},
   "outputs": [
    {
     "data": {
      "text/plain": [
       "97"
      ]
     },
     "execution_count": 99,
     "metadata": {},
     "output_type": "execute_result"
    }
   ],
   "source": [
    "data1['Temp'].max()"
   ]
  },
  {
   "cell_type": "code",
   "execution_count": 100,
   "metadata": {},
   "outputs": [
    {
     "data": {
      "text/plain": [
       "1.0"
      ]
     },
     "execution_count": 100,
     "metadata": {},
     "output_type": "execute_result"
    }
   ],
   "source": [
    "data1['Ozone'].min()"
   ]
  },
  {
   "cell_type": "code",
   "execution_count": 101,
   "metadata": {},
   "outputs": [
    {
     "data": {
      "text/plain": [
       "168.0"
      ]
     },
     "execution_count": 101,
     "metadata": {},
     "output_type": "execute_result"
    }
   ],
   "source": [
    "data1['Ozone'].max()"
   ]
  },
  {
   "cell_type": "code",
   "execution_count": 102,
   "metadata": {},
   "outputs": [
    {
     "data": {
      "text/plain": [
       "9.434286778166507"
      ]
     },
     "execution_count": 102,
     "metadata": {},
     "output_type": "execute_result"
    }
   ],
   "source": [
    "np.std(data1['Temp'])\n"
   ]
  },
  {
   "cell_type": "code",
   "execution_count": 103,
   "metadata": {},
   "outputs": [
    {
     "data": {
      "text/plain": [
       "(153, 6)"
      ]
     },
     "execution_count": 103,
     "metadata": {},
     "output_type": "execute_result"
    }
   ],
   "source": [
    "data1.shape"
   ]
  },
  {
   "cell_type": "code",
   "execution_count": 104,
   "metadata": {},
   "outputs": [
    {
     "data": {
      "text/plain": [
       "<matplotlib.axes._subplots.AxesSubplot at 0x27d9608e108>"
      ]
     },
     "execution_count": 104,
     "metadata": {},
     "output_type": "execute_result"
    },
    {
     "data": {
      "image/png": "[encoded data removed]",
      "text/plain": [
       "<Figure size 432x288 with 1 Axes>"
      ]
     },
     "metadata": {
      "needs_background": "light"
     },
     "output_type": "display_data"
    }
   ],
   "source": [
    "%matplotlib inline\n",
    "data1.boxplot(column='Ozone')"
   ]
  },
  {
   "cell_type": "code",
   "execution_count": 105,
   "metadata": {},
   "outputs": [
    {
     "data": {
      "text/plain": [
       "116"
      ]
     },
     "execution_count": 105,
     "metadata": {},
     "output_type": "execute_result"
    }
   ],
   "source": [
    "data1['Ozone'].count()"
   ]
  },
  {
   "cell_type": "code",
   "execution_count": 106,
   "metadata": {},
   "outputs": [
    {
     "data": {
      "text/plain": [
       "146"
      ]
     },
     "execution_count": 106,
     "metadata": {},
     "output_type": "execute_result"
    }
   ],
   "source": [
    "data1['Solar.R'].count()"
   ]
  },
  {
   "cell_type": "code",
   "execution_count": 107,
   "metadata": {},
   "outputs": [
    {
     "data": {
      "text/plain": [
       "Ozone      37\n",
       "Solar.R     7\n",
       "Wind        0\n",
       "Temp        0\n",
       "Month       0\n",
       "Day         0\n",
       "dtype: int64"
      ]
     },
     "execution_count": 107,
     "metadata": {},
     "output_type": "execute_result"
    }
   ],
   "source": [
    "#Get a count of missing values in the dataset\n",
    "data1.apply(lambda x: sum(x.isnull()),axis=0)"
   ]
  },
  {
   "cell_type": "code",
   "execution_count": 108,
   "metadata": {},
   "outputs": [
    {
     "data": {
      "text/html": [
       "<div>\n",
       "<style scoped>\n",
       "    .dataframe tbody tr th:only-of-type {\n",
       "        vertical-align: middle;\n",
       "    }\n",
       "\n",
       "    .dataframe tbody tr th {\n",
       "        vertical-align: top;\n",
       "    }\n",
       "\n",
       "    .dataframe thead th {\n",
       "        text-align: right;\n",
       "    }\n",
       "</style>\n",
       "<table border=\"1\" class=\"dataframe\">\n",
       "  <thead>\n",
       "    <tr style=\"text-align: right;\">\n",
       "      <th></th>\n",
       "      <th>Ozone</th>\n",
       "      <th>Solar.R</th>\n",
       "      <th>Wind</th>\n",
       "      <th>Temp</th>\n",
       "      <th>Month</th>\n",
       "      <th>Day</th>\n",
       "    </tr>\n",
       "  </thead>\n",
       "  <tbody>\n",
       "    <tr>\n",
       "      <td>0</td>\n",
       "      <td>41.0</td>\n",
       "      <td>190.0</td>\n",
       "      <td>7.4</td>\n",
       "      <td>67</td>\n",
       "      <td>5</td>\n",
       "      <td>1</td>\n",
       "    </tr>\n",
       "    <tr>\n",
       "      <td>1</td>\n",
       "      <td>36.0</td>\n",
       "      <td>118.0</td>\n",
       "      <td>8.0</td>\n",
       "      <td>72</td>\n",
       "      <td>5</td>\n",
       "      <td>2</td>\n",
       "    </tr>\n",
       "    <tr>\n",
       "      <td>2</td>\n",
       "      <td>12.0</td>\n",
       "      <td>149.0</td>\n",
       "      <td>12.6</td>\n",
       "      <td>74</td>\n",
       "      <td>5</td>\n",
       "      <td>3</td>\n",
       "    </tr>\n",
       "    <tr>\n",
       "      <td>3</td>\n",
       "      <td>18.0</td>\n",
       "      <td>313.0</td>\n",
       "      <td>11.5</td>\n",
       "      <td>62</td>\n",
       "      <td>5</td>\n",
       "      <td>4</td>\n",
       "    </tr>\n",
       "    <tr>\n",
       "      <td>4</td>\n",
       "      <td>NaN</td>\n",
       "      <td>NaN</td>\n",
       "      <td>14.3</td>\n",
       "      <td>56</td>\n",
       "      <td>5</td>\n",
       "      <td>5</td>\n",
       "    </tr>\n",
       "    <tr>\n",
       "      <td>...</td>\n",
       "      <td>...</td>\n",
       "      <td>...</td>\n",
       "      <td>...</td>\n",
       "      <td>...</td>\n",
       "      <td>...</td>\n",
       "      <td>...</td>\n",
       "    </tr>\n",
       "    <tr>\n",
       "      <td>148</td>\n",
       "      <td>30.0</td>\n",
       "      <td>193.0</td>\n",
       "      <td>6.9</td>\n",
       "      <td>70</td>\n",
       "      <td>9</td>\n",
       "      <td>26</td>\n",
       "    </tr>\n",
       "    <tr>\n",
       "      <td>149</td>\n",
       "      <td>NaN</td>\n",
       "      <td>145.0</td>\n",
       "      <td>13.2</td>\n",
       "      <td>77</td>\n",
       "      <td>9</td>\n",
       "      <td>27</td>\n",
       "    </tr>\n",
       "    <tr>\n",
       "      <td>150</td>\n",
       "      <td>14.0</td>\n",
       "      <td>191.0</td>\n",
       "      <td>14.3</td>\n",
       "      <td>75</td>\n",
       "      <td>9</td>\n",
       "      <td>28</td>\n",
       "    </tr>\n",
       "    <tr>\n",
       "      <td>151</td>\n",
       "      <td>18.0</td>\n",
       "      <td>131.0</td>\n",
       "      <td>8.0</td>\n",
       "      <td>76</td>\n",
       "      <td>9</td>\n",
       "      <td>29</td>\n",
       "    </tr>\n",
       "    <tr>\n",
       "      <td>152</td>\n",
       "      <td>20.0</td>\n",
       "      <td>223.0</td>\n",
       "      <td>11.5</td>\n",
       "      <td>68</td>\n",
       "      <td>9</td>\n",
       "      <td>3</td>\n",
       "    </tr>\n",
       "  </tbody>\n",
       "</table>\n",
       "<p>153 rows × 6 columns</p>\n",
       "</div>"
      ],
      "text/plain": [
       "     Ozone  Solar.R  Wind  Temp  Month  Day\n",
       "0     41.0    190.0   7.4    67      5    1\n",
       "1     36.0    118.0   8.0    72      5    2\n",
       "2     12.0    149.0  12.6    74      5    3\n",
       "3     18.0    313.0  11.5    62      5    4\n",
       "4      NaN      NaN  14.3    56      5    5\n",
       "..     ...      ...   ...   ...    ...  ...\n",
       "148   30.0    193.0   6.9    70      9   26\n",
       "149    NaN    145.0  13.2    77      9   27\n",
       "150   14.0    191.0  14.3    75      9   28\n",
       "151   18.0    131.0   8.0    76      9   29\n",
       "152   20.0    223.0  11.5    68      9    3\n",
       "\n",
       "[153 rows x 6 columns]"
      ]
     },
     "execution_count": 108,
     "metadata": {},
     "output_type": "execute_result"
    }
   ],
   "source": [
    "data1"
   ]
  },
  {
   "cell_type": "code",
   "execution_count": 109,
   "metadata": {},
   "outputs": [
    {
     "data": {
      "text/plain": [
       "array([[ 41. , 190. ,   7.4,  67. ,   5. ],\n",
       "       [ 36. , 118. ,   8. ,  72. ,   5. ],\n",
       "       [ 12. , 149. ,  12.6,  74. ,   5. ],\n",
       "       [ 18. , 313. ,  11.5,  62. ,   5. ],\n",
       "       [  nan,   nan,  14.3,  56. ,   5. ],\n",
       "       [ 28. ,   nan,  14.9,  66. ,   5. ],\n",
       "       [ 23. , 299. ,   8.6,  65. ,   5. ],\n",
       "       [ 19. ,  99. ,  13.8,  59. ,   5. ],\n",
       "       [  8. ,  19. ,  20.1,  61. ,   5. ],\n",
       "       [  nan, 194. ,   8.6,  69. ,   5. ],\n",
       "       [  7. ,   nan,   6.9,  74. ,   5. ],\n",
       "       [ 16. , 256. ,   9.7,  69. ,   5. ],\n",
       "       [ 11. , 290. ,   9.2,  66. ,   5. ],\n",
       "       [ 14. , 274. ,  10.9,  68. ,   5. ],\n",
       "       [ 18. ,  65. ,  13.2,  58. ,   5. ],\n",
       "       [ 14. , 334. ,  11.5,  64. ,   5. ],\n",
       "       [ 34. , 307. ,  12. ,  66. ,   5. ],\n",
       "       [  6. ,  78. ,  18.4,  57. ,   5. ],\n",
       "       [ 30. , 322. ,  11.5,  68. ,   5. ],\n",
       "       [ 11. ,  44. ,   9.7,  62. ,   5. ],\n",
       "       [  1. ,   8. ,   9.7,  59. ,   5. ],\n",
       "       [ 11. , 320. ,  16.6,  73. ,   5. ],\n",
       "       [  4. ,  25. ,   9.7,  61. ,   5. ],\n",
       "       [ 32. ,  92. ,  12. ,  61. ,   5. ],\n",
       "       [  nan,  66. ,  16.6,  57. ,   5. ],\n",
       "       [  nan, 266. ,  14.9,  58. ,   5. ],\n",
       "       [  nan,   nan,   8. ,  57. ,   5. ],\n",
       "       [ 23. ,  13. ,  12. ,  67. ,   5. ],\n",
       "       [ 45. , 252. ,  14.9,  81. ,   5. ],\n",
       "       [115. , 223. ,   5.7,  79. ,   5. ],\n",
       "       [ 37. , 279. ,   7.4,  76. ,   5. ],\n",
       "       [  nan, 286. ,   8.6,  78. ,   6. ],\n",
       "       [  nan, 287. ,   9.7,  74. ,   6. ],\n",
       "       [  nan, 242. ,  16.1,  67. ,   6. ],\n",
       "       [  nan, 186. ,   9.2,  84. ,   6. ],\n",
       "       [  nan, 220. ,   8.6,  85. ,   6. ],\n",
       "       [  nan, 264. ,  14.3,  79. ,   6. ],\n",
       "       [ 29. , 127. ,   9.7,  82. ,   6. ],\n",
       "       [  nan, 273. ,   6.9,  87. ,   6. ],\n",
       "       [ 71. , 291. ,  13.8,  90. ,   6. ],\n",
       "       [ 39. , 323. ,  11.5,  87. ,   6. ],\n",
       "       [  nan, 259. ,  10.9,  93. ,   6. ],\n",
       "       [  nan, 250. ,   9.2,  92. ,   6. ],\n",
       "       [ 23. , 148. ,   8. ,  82. ,   6. ],\n",
       "       [  nan, 332. ,  13.8,  80. ,   6. ],\n",
       "       [  nan, 322. ,  11.5,  79. ,   6. ],\n",
       "       [ 21. , 191. ,  14.9,  77. ,   6. ],\n",
       "       [ 37. , 284. ,  20.7,  72. ,   6. ],\n",
       "       [ 20. ,  37. ,   9.2,  65. ,   6. ],\n",
       "       [ 12. , 120. ,  11.5,  73. ,   6. ],\n",
       "       [ 13. , 137. ,  10.3,  76. ,   6. ],\n",
       "       [  nan, 150. ,   6.3,  77. ,   6. ],\n",
       "       [  nan,  59. ,   1.7,  76. ,   6. ],\n",
       "       [  nan,  91. ,   4.6,  76. ,   6. ],\n",
       "       [  nan, 250. ,   6.3,  76. ,   6. ],\n",
       "       [  nan, 135. ,   8. ,  75. ,   6. ],\n",
       "       [  nan, 127. ,   8. ,  78. ,   6. ],\n",
       "       [  nan,  47. ,  10.3,  73. ,   6. ],\n",
       "       [  nan,  98. ,  11.5,  80. ,   6. ],\n",
       "       [  nan,  31. ,  14.9,  77. ,   6. ],\n",
       "       [  nan, 138. ,   8. ,  83. ,   6. ],\n",
       "       [135. , 269. ,   4.1,  84. ,   7. ],\n",
       "       [ 49. , 248. ,   9.2,  85. ,   7. ],\n",
       "       [ 32. , 236. ,   9.2,  81. ,   7. ],\n",
       "       [  nan, 101. ,  10.9,  84. ,   7. ],\n",
       "       [ 64. , 175. ,   4.6,  83. ,   7. ],\n",
       "       [ 40. , 314. ,  10.9,  83. ,   7. ],\n",
       "       [ 77. , 276. ,   5.1,  88. ,   7. ],\n",
       "       [ 97. , 267. ,   6.3,  92. ,   7. ],\n",
       "       [ 97. , 272. ,   5.7,  92. ,   7. ],\n",
       "       [ 85. , 175. ,   7.4,  89. ,   7. ],\n",
       "       [  nan, 139. ,   8.6,  82. ,   7. ],\n",
       "       [ 10. , 264. ,  14.3,  73. ,   7. ],\n",
       "       [ 27. , 175. ,  14.9,  81. ,   7. ],\n",
       "       [  nan, 291. ,  14.9,  91. ,   7. ],\n",
       "       [  7. ,  48. ,  14.3,  80. ,   7. ],\n",
       "       [ 48. , 260. ,   6.9,  81. ,   7. ],\n",
       "       [ 35. , 274. ,  10.3,  82. ,   7. ],\n",
       "       [ 61. , 285. ,   6.3,  84. ,   7. ],\n",
       "       [ 79. , 187. ,   5.1,  87. ,   7. ],\n",
       "       [ 63. , 220. ,  11.5,  85. ,   7. ],\n",
       "       [ 16. ,   7. ,   6.9,  74. ,   7. ],\n",
       "       [  nan, 258. ,   9.7,  81. ,   7. ],\n",
       "       [  nan, 295. ,  11.5,  82. ,   7. ],\n",
       "       [ 80. , 294. ,   8.6,  86. ,   7. ],\n",
       "       [108. , 223. ,   8. ,  85. ,   7. ],\n",
       "       [ 20. ,  81. ,   8.6,  82. ,   7. ],\n",
       "       [ 52. ,  82. ,  12. ,  86. ,   7. ],\n",
       "       [ 82. , 213. ,   7.4,  88. ,   7. ],\n",
       "       [ 50. , 275. ,   7.4,  86. ,   7. ],\n",
       "       [ 64. , 253. ,   7.4,  83. ,   7. ],\n",
       "       [ 59. , 254. ,   9.2,  81. ,   7. ],\n",
       "       [ 39. ,  83. ,   6.9,  81. ,   8. ],\n",
       "       [  9. ,  24. ,  13.8,  81. ,   8. ],\n",
       "       [ 16. ,  77. ,   7.4,  82. ,   8. ],\n",
       "       [ 78. ,   nan,   6.9,  86. ,   8. ],\n",
       "       [ 35. ,   nan,   7.4,  85. ,   8. ],\n",
       "       [ 66. ,   nan,   4.6,  87. ,   8. ],\n",
       "       [122. , 255. ,   4. ,  89. ,   8. ],\n",
       "       [ 89. , 229. ,  10.3,  90. ,   8. ],\n",
       "       [110. , 207. ,   8. ,  90. ,   8. ],\n",
       "       [  nan, 222. ,   8.6,  92. ,   8. ],\n",
       "       [  nan, 137. ,  11.5,  86. ,   8. ],\n",
       "       [ 44. , 192. ,  11.5,  86. ,   8. ],\n",
       "       [ 28. , 273. ,  11.5,  82. ,   8. ],\n",
       "       [ 65. , 157. ,   9.7,  80. ,   8. ],\n",
       "       [  nan,  64. ,  11.5,  79. ,   8. ],\n",
       "       [ 22. ,  71. ,  10.3,  77. ,   8. ],\n",
       "       [ 59. ,  51. ,   6.3,  79. ,   8. ],\n",
       "       [ 23. , 115. ,   7.4,  76. ,   8. ],\n",
       "       [ 31. , 244. ,  10.9,  78. ,   8. ],\n",
       "       [ 44. , 190. ,  10.3,  78. ,   8. ],\n",
       "       [ 21. , 259. ,  15.5,  77. ,   8. ],\n",
       "       [  9. ,  36. ,  14.3,  72. ,   8. ],\n",
       "       [  nan, 255. ,  12.6,  75. ,   8. ],\n",
       "       [ 45. , 212. ,   9.7,  79. ,   8. ],\n",
       "       [168. , 238. ,   3.4,  81. ,   8. ],\n",
       "       [ 73. , 215. ,   8. ,  86. ,   8. ],\n",
       "       [  nan, 153. ,   5.7,  88. ,   8. ],\n",
       "       [ 76. , 203. ,   9.7,  97. ,   8. ],\n",
       "       [118. , 225. ,   2.3,  94. ,   8. ],\n",
       "       [ 84. , 237. ,   6.3,  96. ,   8. ],\n",
       "       [ 85. , 188. ,   6.3,  94. ,   8. ],\n",
       "       [ 96. , 167. ,   6.9,  91. ,   9. ],\n",
       "       [ 78. , 197. ,   5.1,  92. ,   9. ],\n",
       "       [ 73. , 183. ,   2.8,  93. ,   9. ],\n",
       "       [ 91. , 189. ,   4.6,  93. ,   9. ],\n",
       "       [ 47. ,  95. ,   7.4,  87. ,   9. ],\n",
       "       [ 32. ,  92. ,  15.5,  84. ,   9. ],\n",
       "       [ 20. , 252. ,  10.9,  80. ,   9. ],\n",
       "       [ 23. , 220. ,  10.3,  78. ,   9. ],\n",
       "       [ 21. , 230. ,  10.9,  75. ,   9. ],\n",
       "       [ 24. , 259. ,   9.7,  73. ,   9. ],\n",
       "       [ 44. , 236. ,  14.9,  81. ,   9. ],\n",
       "       [ 21. , 259. ,  15.5,  76. ,   9. ],\n",
       "       [ 28. , 238. ,   6.3,  77. ,   9. ],\n",
       "       [  9. ,  24. ,  10.9,  71. ,   9. ],\n",
       "       [ 13. , 112. ,  11.5,  71. ,   9. ],\n",
       "       [ 46. , 237. ,   6.9,  78. ,   9. ],\n",
       "       [ 18. , 224. ,  13.8,  67. ,   9. ],\n",
       "       [ 13. ,  27. ,  10.3,  76. ,   9. ],\n",
       "       [ 24. , 238. ,  10.3,  68. ,   9. ],\n",
       "       [ 16. , 201. ,   8. ,  82. ,   9. ],\n",
       "       [ 13. , 238. ,  12.6,  64. ,   9. ],\n",
       "       [ 23. ,  14. ,   9.2,  71. ,   9. ],\n",
       "       [ 36. , 139. ,  10.3,  81. ,   9. ],\n",
       "       [  7. ,  49. ,  10.3,  69. ,   9. ],\n",
       "       [ 14. ,  20. ,  16.6,  63. ,   9. ],\n",
       "       [ 30. , 193. ,   6.9,  70. ,   9. ],\n",
       "       [  nan, 145. ,  13.2,  77. ,   9. ],\n",
       "       [ 14. , 191. ,  14.3,  75. ,   9. ],\n",
       "       [ 18. , 131. ,   8. ,  76. ,   9. ],\n",
       "       [ 20. , 223. ,  11.5,  68. ,   9. ]])"
      ]
     },
     "execution_count": 109,
     "metadata": {},
     "output_type": "execute_result"
    }
   ],
   "source": [
    "features = data1.iloc[:,:-1].values\n",
    "features"
   ]
  },
  {
   "cell_type": "code",
   "execution_count": 110,
   "metadata": {},
   "outputs": [
    {
     "data": {
      "text/plain": [
       "array([[ 41. , 190. ,   7.4,  67. ,   5. ],\n",
       "       [ 36. , 118. ,   8. ,  72. ,   5. ],\n",
       "       [ 12. , 149. ,  12.6,  74. ,   5. ],\n",
       "       [ 18. , 313. ,  11.5,  62. ,   5. ],\n",
       "       [  nan,   nan,  14.3,  56. ,   5. ],\n",
       "       [ 28. ,   nan,  14.9,  66. ,   5. ],\n",
       "       [ 23. , 299. ,   8.6,  65. ,   5. ],\n",
       "       [ 19. ,  99. ,  13.8,  59. ,   5. ],\n",
       "       [  8. ,  19. ,  20.1,  61. ,   5. ],\n",
       "       [  nan, 194. ,   8.6,  69. ,   5. ],\n",
       "       [  7. ,   nan,   6.9,  74. ,   5. ],\n",
       "       [ 16. , 256. ,   9.7,  69. ,   5. ],\n",
       "       [ 11. , 290. ,   9.2,  66. ,   5. ],\n",
       "       [ 14. , 274. ,  10.9,  68. ,   5. ],\n",
       "       [ 18. ,  65. ,  13.2,  58. ,   5. ],\n",
       "       [ 14. , 334. ,  11.5,  64. ,   5. ],\n",
       "       [ 34. , 307. ,  12. ,  66. ,   5. ],\n",
       "       [  6. ,  78. ,  18.4,  57. ,   5. ],\n",
       "       [ 30. , 322. ,  11.5,  68. ,   5. ],\n",
       "       [ 11. ,  44. ,   9.7,  62. ,   5. ],\n",
       "       [  1. ,   8. ,   9.7,  59. ,   5. ],\n",
       "       [ 11. , 320. ,  16.6,  73. ,   5. ],\n",
       "       [  4. ,  25. ,   9.7,  61. ,   5. ],\n",
       "       [ 32. ,  92. ,  12. ,  61. ,   5. ],\n",
       "       [  nan,  66. ,  16.6,  57. ,   5. ],\n",
       "       [  nan, 266. ,  14.9,  58. ,   5. ],\n",
       "       [  nan,   nan,   8. ,  57. ,   5. ],\n",
       "       [ 23. ,  13. ,  12. ,  67. ,   5. ],\n",
       "       [ 45. , 252. ,  14.9,  81. ,   5. ],\n",
       "       [115. , 223. ,   5.7,  79. ,   5. ],\n",
       "       [ 37. , 279. ,   7.4,  76. ,   5. ],\n",
       "       [  nan, 286. ,   8.6,  78. ,   6. ],\n",
       "       [  nan, 287. ,   9.7,  74. ,   6. ],\n",
       "       [  nan, 242. ,  16.1,  67. ,   6. ],\n",
       "       [  nan, 186. ,   9.2,  84. ,   6. ],\n",
       "       [  nan, 220. ,   8.6,  85. ,   6. ],\n",
       "       [  nan, 264. ,  14.3,  79. ,   6. ],\n",
       "       [ 29. , 127. ,   9.7,  82. ,   6. ],\n",
       "       [  nan, 273. ,   6.9,  87. ,   6. ],\n",
       "       [ 71. , 291. ,  13.8,  90. ,   6. ],\n",
       "       [ 39. , 323. ,  11.5,  87. ,   6. ],\n",
       "       [  nan, 259. ,  10.9,  93. ,   6. ],\n",
       "       [  nan, 250. ,   9.2,  92. ,   6. ],\n",
       "       [ 23. , 148. ,   8. ,  82. ,   6. ],\n",
       "       [  nan, 332. ,  13.8,  80. ,   6. ],\n",
       "       [  nan, 322. ,  11.5,  79. ,   6. ],\n",
       "       [ 21. , 191. ,  14.9,  77. ,   6. ],\n",
       "       [ 37. , 284. ,  20.7,  72. ,   6. ],\n",
       "       [ 20. ,  37. ,   9.2,  65. ,   6. ],\n",
       "       [ 12. , 120. ,  11.5,  73. ,   6. ],\n",
       "       [ 13. , 137. ,  10.3,  76. ,   6. ],\n",
       "       [  nan, 150. ,   6.3,  77. ,   6. ],\n",
       "       [  nan,  59. ,   1.7,  76. ,   6. ],\n",
       "       [  nan,  91. ,   4.6,  76. ,   6. ],\n",
       "       [  nan, 250. ,   6.3,  76. ,   6. ],\n",
       "       [  nan, 135. ,   8. ,  75. ,   6. ],\n",
       "       [  nan, 127. ,   8. ,  78. ,   6. ],\n",
       "       [  nan,  47. ,  10.3,  73. ,   6. ],\n",
       "       [  nan,  98. ,  11.5,  80. ,   6. ],\n",
       "       [  nan,  31. ,  14.9,  77. ,   6. ],\n",
       "       [  nan, 138. ,   8. ,  83. ,   6. ],\n",
       "       [135. , 269. ,   4.1,  84. ,   7. ],\n",
       "       [ 49. , 248. ,   9.2,  85. ,   7. ],\n",
       "       [ 32. , 236. ,   9.2,  81. ,   7. ],\n",
       "       [  nan, 101. ,  10.9,  84. ,   7. ],\n",
       "       [ 64. , 175. ,   4.6,  83. ,   7. ],\n",
       "       [ 40. , 314. ,  10.9,  83. ,   7. ],\n",
       "       [ 77. , 276. ,   5.1,  88. ,   7. ],\n",
       "       [ 97. , 267. ,   6.3,  92. ,   7. ],\n",
       "       [ 97. , 272. ,   5.7,  92. ,   7. ],\n",
       "       [ 85. , 175. ,   7.4,  89. ,   7. ],\n",
       "       [  nan, 139. ,   8.6,  82. ,   7. ],\n",
       "       [ 10. , 264. ,  14.3,  73. ,   7. ],\n",
       "       [ 27. , 175. ,  14.9,  81. ,   7. ],\n",
       "       [  nan, 291. ,  14.9,  91. ,   7. ],\n",
       "       [  7. ,  48. ,  14.3,  80. ,   7. ],\n",
       "       [ 48. , 260. ,   6.9,  81. ,   7. ],\n",
       "       [ 35. , 274. ,  10.3,  82. ,   7. ],\n",
       "       [ 61. , 285. ,   6.3,  84. ,   7. ],\n",
       "       [ 79. , 187. ,   5.1,  87. ,   7. ],\n",
       "       [ 63. , 220. ,  11.5,  85. ,   7. ],\n",
       "       [ 16. ,   7. ,   6.9,  74. ,   7. ],\n",
       "       [  nan, 258. ,   9.7,  81. ,   7. ],\n",
       "       [  nan, 295. ,  11.5,  82. ,   7. ],\n",
       "       [ 80. , 294. ,   8.6,  86. ,   7. ],\n",
       "       [108. , 223. ,   8. ,  85. ,   7. ],\n",
       "       [ 20. ,  81. ,   8.6,  82. ,   7. ],\n",
       "       [ 52. ,  82. ,  12. ,  86. ,   7. ],\n",
       "       [ 82. , 213. ,   7.4,  88. ,   7. ],\n",
       "       [ 50. , 275. ,   7.4,  86. ,   7. ],\n",
       "       [ 64. , 253. ,   7.4,  83. ,   7. ],\n",
       "       [ 59. , 254. ,   9.2,  81. ,   7. ],\n",
       "       [ 39. ,  83. ,   6.9,  81. ,   8. ],\n",
       "       [  9. ,  24. ,  13.8,  81. ,   8. ],\n",
       "       [ 16. ,  77. ,   7.4,  82. ,   8. ],\n",
       "       [ 78. ,   nan,   6.9,  86. ,   8. ],\n",
       "       [ 35. ,   nan,   7.4,  85. ,   8. ],\n",
       "       [ 66. ,   nan,   4.6,  87. ,   8. ],\n",
       "       [122. , 255. ,   4. ,  89. ,   8. ],\n",
       "       [ 89. , 229. ,  10.3,  90. ,   8. ],\n",
       "       [110. , 207. ,   8. ,  90. ,   8. ],\n",
       "       [  nan, 222. ,   8.6,  92. ,   8. ],\n",
       "       [  nan, 137. ,  11.5,  86. ,   8. ],\n",
       "       [ 44. , 192. ,  11.5,  86. ,   8. ],\n",
       "       [ 28. , 273. ,  11.5,  82. ,   8. ],\n",
       "       [ 65. , 157. ,   9.7,  80. ,   8. ],\n",
       "       [  nan,  64. ,  11.5,  79. ,   8. ],\n",
       "       [ 22. ,  71. ,  10.3,  77. ,   8. ],\n",
       "       [ 59. ,  51. ,   6.3,  79. ,   8. ],\n",
       "       [ 23. , 115. ,   7.4,  76. ,   8. ],\n",
       "       [ 31. , 244. ,  10.9,  78. ,   8. ],\n",
       "       [ 44. , 190. ,  10.3,  78. ,   8. ],\n",
       "       [ 21. , 259. ,  15.5,  77. ,   8. ],\n",
       "       [  9. ,  36. ,  14.3,  72. ,   8. ],\n",
       "       [  nan, 255. ,  12.6,  75. ,   8. ],\n",
       "       [ 45. , 212. ,   9.7,  79. ,   8. ],\n",
       "       [168. , 238. ,   3.4,  81. ,   8. ],\n",
       "       [ 73. , 215. ,   8. ,  86. ,   8. ],\n",
       "       [  nan, 153. ,   5.7,  88. ,   8. ],\n",
       "       [ 76. , 203. ,   9.7,  97. ,   8. ],\n",
       "       [118. , 225. ,   2.3,  94. ,   8. ],\n",
       "       [ 84. , 237. ,   6.3,  96. ,   8. ],\n",
       "       [ 85. , 188. ,   6.3,  94. ,   8. ],\n",
       "       [ 96. , 167. ,   6.9,  91. ,   9. ],\n",
       "       [ 78. , 197. ,   5.1,  92. ,   9. ],\n",
       "       [ 73. , 183. ,   2.8,  93. ,   9. ],\n",
       "       [ 91. , 189. ,   4.6,  93. ,   9. ],\n",
       "       [ 47. ,  95. ,   7.4,  87. ,   9. ],\n",
       "       [ 32. ,  92. ,  15.5,  84. ,   9. ],\n",
       "       [ 20. , 252. ,  10.9,  80. ,   9. ],\n",
       "       [ 23. , 220. ,  10.3,  78. ,   9. ],\n",
       "       [ 21. , 230. ,  10.9,  75. ,   9. ],\n",
       "       [ 24. , 259. ,   9.7,  73. ,   9. ],\n",
       "       [ 44. , 236. ,  14.9,  81. ,   9. ],\n",
       "       [ 21. , 259. ,  15.5,  76. ,   9. ],\n",
       "       [ 28. , 238. ,   6.3,  77. ,   9. ],\n",
       "       [  9. ,  24. ,  10.9,  71. ,   9. ],\n",
       "       [ 13. , 112. ,  11.5,  71. ,   9. ],\n",
       "       [ 46. , 237. ,   6.9,  78. ,   9. ],\n",
       "       [ 18. , 224. ,  13.8,  67. ,   9. ],\n",
       "       [ 13. ,  27. ,  10.3,  76. ,   9. ],\n",
       "       [ 24. , 238. ,  10.3,  68. ,   9. ],\n",
       "       [ 16. , 201. ,   8. ,  82. ,   9. ],\n",
       "       [ 13. , 238. ,  12.6,  64. ,   9. ],\n",
       "       [ 23. ,  14. ,   9.2,  71. ,   9. ],\n",
       "       [ 36. , 139. ,  10.3,  81. ,   9. ],\n",
       "       [  7. ,  49. ,  10.3,  69. ,   9. ],\n",
       "       [ 14. ,  20. ,  16.6,  63. ,   9. ],\n",
       "       [ 30. , 193. ,   6.9,  70. ,   9. ],\n",
       "       [  nan, 145. ,  13.2,  77. ,   9. ],\n",
       "       [ 14. , 191. ,  14.3,  75. ,   9. ],\n",
       "       [ 18. , 131. ,   8. ,  76. ,   9. ],\n",
       "       [ 20. , 223. ,  11.5,  68. ,   9. ]])"
      ]
     },
     "execution_count": 110,
     "metadata": {},
     "output_type": "execute_result"
    }
   ],
   "source": [
    "labels = data1.iloc[:,:-1].values\n",
    "labels"
   ]
  },
  {
   "cell_type": "code",
   "execution_count": 111,
   "metadata": {},
   "outputs": [
    {
     "name": "stderr",
     "output_type": "stream",
     "text": [
      "C:\\Users\\AbhilashMandadhi\\Anaconda3\\lib\\site-packages\\sklearn\\utils\\deprecation.py:66: DeprecationWarning: Class Imputer is deprecated; Imputer was deprecated in version 0.20 and will be removed in 0.22. Import impute.SimpleImputer from sklearn instead.\n",
      "  warnings.warn(msg, category=DeprecationWarning)\n"
     ]
    }
   ],
   "source": [
    "from sklearn.preprocessing import Imputer\n",
    "imputer = Imputer(missing_values='NaN', strategy='mean',axis=0)\n",
    "\n",
    "imputer.fit(features[:,[0,1]])\n",
    "features[:,[0,1]] = imputer.fit_transform(features[:,[0,-1]])"
   ]
  },
  {
   "cell_type": "code",
   "execution_count": 112,
   "metadata": {},
   "outputs": [
    {
     "data": {
      "text/plain": [
       "array([[ 41.        ,   5.        ,   7.4       ,  67.        ,\n",
       "          5.        ],\n",
       "       [ 36.        ,   5.        ,   8.        ,  72.        ,\n",
       "          5.        ],\n",
       "       [ 12.        ,   5.        ,  12.6       ,  74.        ,\n",
       "          5.        ],\n",
       "       [ 18.        ,   5.        ,  11.5       ,  62.        ,\n",
       "          5.        ],\n",
       "       [ 42.12931034,   5.        ,  14.3       ,  56.        ,\n",
       "          5.        ],\n",
       "       [ 28.        ,   5.        ,  14.9       ,  66.        ,\n",
       "          5.        ],\n",
       "       [ 23.        ,   5.        ,   8.6       ,  65.        ,\n",
       "          5.        ],\n",
       "       [ 19.        ,   5.        ,  13.8       ,  59.        ,\n",
       "          5.        ],\n",
       "       [  8.        ,   5.        ,  20.1       ,  61.        ,\n",
       "          5.        ],\n",
       "       [ 42.12931034,   5.        ,   8.6       ,  69.        ,\n",
       "          5.        ],\n",
       "       [  7.        ,   5.        ,   6.9       ,  74.        ,\n",
       "          5.        ],\n",
       "       [ 16.        ,   5.        ,   9.7       ,  69.        ,\n",
       "          5.        ],\n",
       "       [ 11.        ,   5.        ,   9.2       ,  66.        ,\n",
       "          5.        ],\n",
       "       [ 14.        ,   5.        ,  10.9       ,  68.        ,\n",
       "          5.        ],\n",
       "       [ 18.        ,   5.        ,  13.2       ,  58.        ,\n",
       "          5.        ],\n",
       "       [ 14.        ,   5.        ,  11.5       ,  64.        ,\n",
       "          5.        ],\n",
       "       [ 34.        ,   5.        ,  12.        ,  66.        ,\n",
       "          5.        ],\n",
       "       [  6.        ,   5.        ,  18.4       ,  57.        ,\n",
       "          5.        ],\n",
       "       [ 30.        ,   5.        ,  11.5       ,  68.        ,\n",
       "          5.        ],\n",
       "       [ 11.        ,   5.        ,   9.7       ,  62.        ,\n",
       "          5.        ],\n",
       "       [  1.        ,   5.        ,   9.7       ,  59.        ,\n",
       "          5.        ],\n",
       "       [ 11.        ,   5.        ,  16.6       ,  73.        ,\n",
       "          5.        ],\n",
       "       [  4.        ,   5.        ,   9.7       ,  61.        ,\n",
       "          5.        ],\n",
       "       [ 32.        ,   5.        ,  12.        ,  61.        ,\n",
       "          5.        ],\n",
       "       [ 42.12931034,   5.        ,  16.6       ,  57.        ,\n",
       "          5.        ],\n",
       "       [ 42.12931034,   5.        ,  14.9       ,  58.        ,\n",
       "          5.        ],\n",
       "       [ 42.12931034,   5.        ,   8.        ,  57.        ,\n",
       "          5.        ],\n",
       "       [ 23.        ,   5.        ,  12.        ,  67.        ,\n",
       "          5.        ],\n",
       "       [ 45.        ,   5.        ,  14.9       ,  81.        ,\n",
       "          5.        ],\n",
       "       [115.        ,   5.        ,   5.7       ,  79.        ,\n",
       "          5.        ],\n",
       "       [ 37.        ,   5.        ,   7.4       ,  76.        ,\n",
       "          5.        ],\n",
       "       [ 42.12931034,   6.        ,   8.6       ,  78.        ,\n",
       "          6.        ],\n",
       "       [ 42.12931034,   6.        ,   9.7       ,  74.        ,\n",
       "          6.        ],\n",
       "       [ 42.12931034,   6.        ,  16.1       ,  67.        ,\n",
       "          6.        ],\n",
       "       [ 42.12931034,   6.        ,   9.2       ,  84.        ,\n",
       "          6.        ],\n",
       "       [ 42.12931034,   6.        ,   8.6       ,  85.        ,\n",
       "          6.        ],\n",
       "       [ 42.12931034,   6.        ,  14.3       ,  79.        ,\n",
       "          6.        ],\n",
       "       [ 29.        ,   6.        ,   9.7       ,  82.        ,\n",
       "          6.        ],\n",
       "       [ 42.12931034,   6.        ,   6.9       ,  87.        ,\n",
       "          6.        ],\n",
       "       [ 71.        ,   6.        ,  13.8       ,  90.        ,\n",
       "          6.        ],\n",
       "       [ 39.        ,   6.        ,  11.5       ,  87.        ,\n",
       "          6.        ],\n",
       "       [ 42.12931034,   6.        ,  10.9       ,  93.        ,\n",
       "          6.        ],\n",
       "       [ 42.12931034,   6.        ,   9.2       ,  92.        ,\n",
       "          6.        ],\n",
       "       [ 23.        ,   6.        ,   8.        ,  82.        ,\n",
       "          6.        ],\n",
       "       [ 42.12931034,   6.        ,  13.8       ,  80.        ,\n",
       "          6.        ],\n",
       "       [ 42.12931034,   6.        ,  11.5       ,  79.        ,\n",
       "          6.        ],\n",
       "       [ 21.        ,   6.        ,  14.9       ,  77.        ,\n",
       "          6.        ],\n",
       "       [ 37.        ,   6.        ,  20.7       ,  72.        ,\n",
       "          6.        ],\n",
       "       [ 20.        ,   6.        ,   9.2       ,  65.        ,\n",
       "          6.        ],\n",
       "       [ 12.        ,   6.        ,  11.5       ,  73.        ,\n",
       "          6.        ],\n",
       "       [ 13.        ,   6.        ,  10.3       ,  76.        ,\n",
       "          6.        ],\n",
       "       [ 42.12931034,   6.        ,   6.3       ,  77.        ,\n",
       "          6.        ],\n",
       "       [ 42.12931034,   6.        ,   1.7       ,  76.        ,\n",
       "          6.        ],\n",
       "       [ 42.12931034,   6.        ,   4.6       ,  76.        ,\n",
       "          6.        ],\n",
       "       [ 42.12931034,   6.        ,   6.3       ,  76.        ,\n",
       "          6.        ],\n",
       "       [ 42.12931034,   6.        ,   8.        ,  75.        ,\n",
       "          6.        ],\n",
       "       [ 42.12931034,   6.        ,   8.        ,  78.        ,\n",
       "          6.        ],\n",
       "       [ 42.12931034,   6.        ,  10.3       ,  73.        ,\n",
       "          6.        ],\n",
       "       [ 42.12931034,   6.        ,  11.5       ,  80.        ,\n",
       "          6.        ],\n",
       "       [ 42.12931034,   6.        ,  14.9       ,  77.        ,\n",
       "          6.        ],\n",
       "       [ 42.12931034,   6.        ,   8.        ,  83.        ,\n",
       "          6.        ],\n",
       "       [135.        ,   7.        ,   4.1       ,  84.        ,\n",
       "          7.        ],\n",
       "       [ 49.        ,   7.        ,   9.2       ,  85.        ,\n",
       "          7.        ],\n",
       "       [ 32.        ,   7.        ,   9.2       ,  81.        ,\n",
       "          7.        ],\n",
       "       [ 42.12931034,   7.        ,  10.9       ,  84.        ,\n",
       "          7.        ],\n",
       "       [ 64.        ,   7.        ,   4.6       ,  83.        ,\n",
       "          7.        ],\n",
       "       [ 40.        ,   7.        ,  10.9       ,  83.        ,\n",
       "          7.        ],\n",
       "       [ 77.        ,   7.        ,   5.1       ,  88.        ,\n",
       "          7.        ],\n",
       "       [ 97.        ,   7.        ,   6.3       ,  92.        ,\n",
       "          7.        ],\n",
       "       [ 97.        ,   7.        ,   5.7       ,  92.        ,\n",
       "          7.        ],\n",
       "       [ 85.        ,   7.        ,   7.4       ,  89.        ,\n",
       "          7.        ],\n",
       "       [ 42.12931034,   7.        ,   8.6       ,  82.        ,\n",
       "          7.        ],\n",
       "       [ 10.        ,   7.        ,  14.3       ,  73.        ,\n",
       "          7.        ],\n",
       "       [ 27.        ,   7.        ,  14.9       ,  81.        ,\n",
       "          7.        ],\n",
       "       [ 42.12931034,   7.        ,  14.9       ,  91.        ,\n",
       "          7.        ],\n",
       "       [  7.        ,   7.        ,  14.3       ,  80.        ,\n",
       "          7.        ],\n",
       "       [ 48.        ,   7.        ,   6.9       ,  81.        ,\n",
       "          7.        ],\n",
       "       [ 35.        ,   7.        ,  10.3       ,  82.        ,\n",
       "          7.        ],\n",
       "       [ 61.        ,   7.        ,   6.3       ,  84.        ,\n",
       "          7.        ],\n",
       "       [ 79.        ,   7.        ,   5.1       ,  87.        ,\n",
       "          7.        ],\n",
       "       [ 63.        ,   7.        ,  11.5       ,  85.        ,\n",
       "          7.        ],\n",
       "       [ 16.        ,   7.        ,   6.9       ,  74.        ,\n",
       "          7.        ],\n",
       "       [ 42.12931034,   7.        ,   9.7       ,  81.        ,\n",
       "          7.        ],\n",
       "       [ 42.12931034,   7.        ,  11.5       ,  82.        ,\n",
       "          7.        ],\n",
       "       [ 80.        ,   7.        ,   8.6       ,  86.        ,\n",
       "          7.        ],\n",
       "       [108.        ,   7.        ,   8.        ,  85.        ,\n",
       "          7.        ],\n",
       "       [ 20.        ,   7.        ,   8.6       ,  82.        ,\n",
       "          7.        ],\n",
       "       [ 52.        ,   7.        ,  12.        ,  86.        ,\n",
       "          7.        ],\n",
       "       [ 82.        ,   7.        ,   7.4       ,  88.        ,\n",
       "          7.        ],\n",
       "       [ 50.        ,   7.        ,   7.4       ,  86.        ,\n",
       "          7.        ],\n",
       "       [ 64.        ,   7.        ,   7.4       ,  83.        ,\n",
       "          7.        ],\n",
       "       [ 59.        ,   7.        ,   9.2       ,  81.        ,\n",
       "          7.        ],\n",
       "       [ 39.        ,   8.        ,   6.9       ,  81.        ,\n",
       "          8.        ],\n",
       "       [  9.        ,   8.        ,  13.8       ,  81.        ,\n",
       "          8.        ],\n",
       "       [ 16.        ,   8.        ,   7.4       ,  82.        ,\n",
       "          8.        ],\n",
       "       [ 78.        ,   8.        ,   6.9       ,  86.        ,\n",
       "          8.        ],\n",
       "       [ 35.        ,   8.        ,   7.4       ,  85.        ,\n",
       "          8.        ],\n",
       "       [ 66.        ,   8.        ,   4.6       ,  87.        ,\n",
       "          8.        ],\n",
       "       [122.        ,   8.        ,   4.        ,  89.        ,\n",
       "          8.        ],\n",
       "       [ 89.        ,   8.        ,  10.3       ,  90.        ,\n",
       "          8.        ],\n",
       "       [110.        ,   8.        ,   8.        ,  90.        ,\n",
       "          8.        ],\n",
       "       [ 42.12931034,   8.        ,   8.6       ,  92.        ,\n",
       "          8.        ],\n",
       "       [ 42.12931034,   8.        ,  11.5       ,  86.        ,\n",
       "          8.        ],\n",
       "       [ 44.        ,   8.        ,  11.5       ,  86.        ,\n",
       "          8.        ],\n",
       "       [ 28.        ,   8.        ,  11.5       ,  82.        ,\n",
       "          8.        ],\n",
       "       [ 65.        ,   8.        ,   9.7       ,  80.        ,\n",
       "          8.        ],\n",
       "       [ 42.12931034,   8.        ,  11.5       ,  79.        ,\n",
       "          8.        ],\n",
       "       [ 22.        ,   8.        ,  10.3       ,  77.        ,\n",
       "          8.        ],\n",
       "       [ 59.        ,   8.        ,   6.3       ,  79.        ,\n",
       "          8.        ],\n",
       "       [ 23.        ,   8.        ,   7.4       ,  76.        ,\n",
       "          8.        ],\n",
       "       [ 31.        ,   8.        ,  10.9       ,  78.        ,\n",
       "          8.        ],\n",
       "       [ 44.        ,   8.        ,  10.3       ,  78.        ,\n",
       "          8.        ],\n",
       "       [ 21.        ,   8.        ,  15.5       ,  77.        ,\n",
       "          8.        ],\n",
       "       [  9.        ,   8.        ,  14.3       ,  72.        ,\n",
       "          8.        ],\n",
       "       [ 42.12931034,   8.        ,  12.6       ,  75.        ,\n",
       "          8.        ],\n",
       "       [ 45.        ,   8.        ,   9.7       ,  79.        ,\n",
       "          8.        ],\n",
       "       [168.        ,   8.        ,   3.4       ,  81.        ,\n",
       "          8.        ],\n",
       "       [ 73.        ,   8.        ,   8.        ,  86.        ,\n",
       "          8.        ],\n",
       "       [ 42.12931034,   8.        ,   5.7       ,  88.        ,\n",
       "          8.        ],\n",
       "       [ 76.        ,   8.        ,   9.7       ,  97.        ,\n",
       "          8.        ],\n",
       "       [118.        ,   8.        ,   2.3       ,  94.        ,\n",
       "          8.        ],\n",
       "       [ 84.        ,   8.        ,   6.3       ,  96.        ,\n",
       "          8.        ],\n",
       "       [ 85.        ,   8.        ,   6.3       ,  94.        ,\n",
       "          8.        ],\n",
       "       [ 96.        ,   9.        ,   6.9       ,  91.        ,\n",
       "          9.        ],\n",
       "       [ 78.        ,   9.        ,   5.1       ,  92.        ,\n",
       "          9.        ],\n",
       "       [ 73.        ,   9.        ,   2.8       ,  93.        ,\n",
       "          9.        ],\n",
       "       [ 91.        ,   9.        ,   4.6       ,  93.        ,\n",
       "          9.        ],\n",
       "       [ 47.        ,   9.        ,   7.4       ,  87.        ,\n",
       "          9.        ],\n",
       "       [ 32.        ,   9.        ,  15.5       ,  84.        ,\n",
       "          9.        ],\n",
       "       [ 20.        ,   9.        ,  10.9       ,  80.        ,\n",
       "          9.        ],\n",
       "       [ 23.        ,   9.        ,  10.3       ,  78.        ,\n",
       "          9.        ],\n",
       "       [ 21.        ,   9.        ,  10.9       ,  75.        ,\n",
       "          9.        ],\n",
       "       [ 24.        ,   9.        ,   9.7       ,  73.        ,\n",
       "          9.        ],\n",
       "       [ 44.        ,   9.        ,  14.9       ,  81.        ,\n",
       "          9.        ],\n",
       "       [ 21.        ,   9.        ,  15.5       ,  76.        ,\n",
       "          9.        ],\n",
       "       [ 28.        ,   9.        ,   6.3       ,  77.        ,\n",
       "          9.        ],\n",
       "       [  9.        ,   9.        ,  10.9       ,  71.        ,\n",
       "          9.        ],\n",
       "       [ 13.        ,   9.        ,  11.5       ,  71.        ,\n",
       "          9.        ],\n",
       "       [ 46.        ,   9.        ,   6.9       ,  78.        ,\n",
       "          9.        ],\n",
       "       [ 18.        ,   9.        ,  13.8       ,  67.        ,\n",
       "          9.        ],\n",
       "       [ 13.        ,   9.        ,  10.3       ,  76.        ,\n",
       "          9.        ],\n",
       "       [ 24.        ,   9.        ,  10.3       ,  68.        ,\n",
       "          9.        ],\n",
       "       [ 16.        ,   9.        ,   8.        ,  82.        ,\n",
       "          9.        ],\n",
       "       [ 13.        ,   9.        ,  12.6       ,  64.        ,\n",
       "          9.        ],\n",
       "       [ 23.        ,   9.        ,   9.2       ,  71.        ,\n",
       "          9.        ],\n",
       "       [ 36.        ,   9.        ,  10.3       ,  81.        ,\n",
       "          9.        ],\n",
       "       [  7.        ,   9.        ,  10.3       ,  69.        ,\n",
       "          9.        ],\n",
       "       [ 14.        ,   9.        ,  16.6       ,  63.        ,\n",
       "          9.        ],\n",
       "       [ 30.        ,   9.        ,   6.9       ,  70.        ,\n",
       "          9.        ],\n",
       "       [ 42.12931034,   9.        ,  13.2       ,  77.        ,\n",
       "          9.        ],\n",
       "       [ 14.        ,   9.        ,  14.3       ,  75.        ,\n",
       "          9.        ],\n",
       "       [ 18.        ,   9.        ,   8.        ,  76.        ,\n",
       "          9.        ],\n",
       "       [ 20.        ,   9.        ,  11.5       ,  68.        ,\n",
       "          9.        ]])"
      ]
     },
     "execution_count": 112,
     "metadata": {},
     "output_type": "execute_result"
    }
   ],
   "source": [
    "features"
   ]
  },
  {
   "cell_type": "code",
   "execution_count": 113,
   "metadata": {},
   "outputs": [],
   "source": [
    "df1 = pd.DataFrame(features)"
   ]
  },
  {
   "cell_type": "code",
   "execution_count": 114,
   "metadata": {},
   "outputs": [
    {
     "data": {
      "text/html": [
       "<div>\n",
       "<style scoped>\n",
       "    .dataframe tbody tr th:only-of-type {\n",
       "        vertical-align: middle;\n",
       "    }\n",
       "\n",
       "    .dataframe tbody tr th {\n",
       "        vertical-align: top;\n",
       "    }\n",
       "\n",
       "    .dataframe thead th {\n",
       "        text-align: right;\n",
       "    }\n",
       "</style>\n",
       "<table border=\"1\" class=\"dataframe\">\n",
       "  <thead>\n",
       "    <tr style=\"text-align: right;\">\n",
       "      <th></th>\n",
       "      <th>0</th>\n",
       "      <th>1</th>\n",
       "      <th>2</th>\n",
       "      <th>3</th>\n",
       "      <th>4</th>\n",
       "    </tr>\n",
       "  </thead>\n",
       "  <tbody>\n",
       "    <tr>\n",
       "      <td>0</td>\n",
       "      <td>41.00000</td>\n",
       "      <td>5.0</td>\n",
       "      <td>7.4</td>\n",
       "      <td>67.0</td>\n",
       "      <td>5.0</td>\n",
       "    </tr>\n",
       "    <tr>\n",
       "      <td>1</td>\n",
       "      <td>36.00000</td>\n",
       "      <td>5.0</td>\n",
       "      <td>8.0</td>\n",
       "      <td>72.0</td>\n",
       "      <td>5.0</td>\n",
       "    </tr>\n",
       "    <tr>\n",
       "      <td>2</td>\n",
       "      <td>12.00000</td>\n",
       "      <td>5.0</td>\n",
       "      <td>12.6</td>\n",
       "      <td>74.0</td>\n",
       "      <td>5.0</td>\n",
       "    </tr>\n",
       "    <tr>\n",
       "      <td>3</td>\n",
       "      <td>18.00000</td>\n",
       "      <td>5.0</td>\n",
       "      <td>11.5</td>\n",
       "      <td>62.0</td>\n",
       "      <td>5.0</td>\n",
       "    </tr>\n",
       "    <tr>\n",
       "      <td>4</td>\n",
       "      <td>42.12931</td>\n",
       "      <td>5.0</td>\n",
       "      <td>14.3</td>\n",
       "      <td>56.0</td>\n",
       "      <td>5.0</td>\n",
       "    </tr>\n",
       "    <tr>\n",
       "      <td>...</td>\n",
       "      <td>...</td>\n",
       "      <td>...</td>\n",
       "      <td>...</td>\n",
       "      <td>...</td>\n",
       "      <td>...</td>\n",
       "    </tr>\n",
       "    <tr>\n",
       "      <td>148</td>\n",
       "      <td>30.00000</td>\n",
       "      <td>9.0</td>\n",
       "      <td>6.9</td>\n",
       "      <td>70.0</td>\n",
       "      <td>9.0</td>\n",
       "    </tr>\n",
       "    <tr>\n",
       "      <td>149</td>\n",
       "      <td>42.12931</td>\n",
       "      <td>9.0</td>\n",
       "      <td>13.2</td>\n",
       "      <td>77.0</td>\n",
       "      <td>9.0</td>\n",
       "    </tr>\n",
       "    <tr>\n",
       "      <td>150</td>\n",
       "      <td>14.00000</td>\n",
       "      <td>9.0</td>\n",
       "      <td>14.3</td>\n",
       "      <td>75.0</td>\n",
       "      <td>9.0</td>\n",
       "    </tr>\n",
       "    <tr>\n",
       "      <td>151</td>\n",
       "      <td>18.00000</td>\n",
       "      <td>9.0</td>\n",
       "      <td>8.0</td>\n",
       "      <td>76.0</td>\n",
       "      <td>9.0</td>\n",
       "    </tr>\n",
       "    <tr>\n",
       "      <td>152</td>\n",
       "      <td>20.00000</td>\n",
       "      <td>9.0</td>\n",
       "      <td>11.5</td>\n",
       "      <td>68.0</td>\n",
       "      <td>9.0</td>\n",
       "    </tr>\n",
       "  </tbody>\n",
       "</table>\n",
       "<p>153 rows × 5 columns</p>\n",
       "</div>"
      ],
      "text/plain": [
       "            0    1     2     3    4\n",
       "0    41.00000  5.0   7.4  67.0  5.0\n",
       "1    36.00000  5.0   8.0  72.0  5.0\n",
       "2    12.00000  5.0  12.6  74.0  5.0\n",
       "3    18.00000  5.0  11.5  62.0  5.0\n",
       "4    42.12931  5.0  14.3  56.0  5.0\n",
       "..        ...  ...   ...   ...  ...\n",
       "148  30.00000  9.0   6.9  70.0  9.0\n",
       "149  42.12931  9.0  13.2  77.0  9.0\n",
       "150  14.00000  9.0  14.3  75.0  9.0\n",
       "151  18.00000  9.0   8.0  76.0  9.0\n",
       "152  20.00000  9.0  11.5  68.0  9.0\n",
       "\n",
       "[153 rows x 5 columns]"
      ]
     },
     "execution_count": 114,
     "metadata": {},
     "output_type": "execute_result"
    }
   ],
   "source": [
    "df1"
   ]
  },
  {
   "cell_type": "code",
   "execution_count": 173,
   "metadata": {},
   "outputs": [
    {
     "data": {
      "text/html": [
       "<div>\n",
       "<style scoped>\n",
       "    .dataframe tbody tr th:only-of-type {\n",
       "        vertical-align: middle;\n",
       "    }\n",
       "\n",
       "    .dataframe tbody tr th {\n",
       "        vertical-align: top;\n",
       "    }\n",
       "\n",
       "    .dataframe thead th {\n",
       "        text-align: right;\n",
       "    }\n",
       "</style>\n",
       "<table border=\"1\" class=\"dataframe\">\n",
       "  <thead>\n",
       "    <tr style=\"text-align: right;\">\n",
       "      <th></th>\n",
       "      <th>Ozone</th>\n",
       "      <th>Solar.R</th>\n",
       "      <th>Wind</th>\n",
       "      <th>Temp</th>\n",
       "      <th>Month</th>\n",
       "    </tr>\n",
       "  </thead>\n",
       "  <tbody>\n",
       "    <tr>\n",
       "      <td>0</td>\n",
       "      <td>41.00000</td>\n",
       "      <td>5.0</td>\n",
       "      <td>7.4</td>\n",
       "      <td>67.0</td>\n",
       "      <td>5.0</td>\n",
       "    </tr>\n",
       "    <tr>\n",
       "      <td>1</td>\n",
       "      <td>36.00000</td>\n",
       "      <td>5.0</td>\n",
       "      <td>8.0</td>\n",
       "      <td>72.0</td>\n",
       "      <td>5.0</td>\n",
       "    </tr>\n",
       "    <tr>\n",
       "      <td>2</td>\n",
       "      <td>12.00000</td>\n",
       "      <td>5.0</td>\n",
       "      <td>12.6</td>\n",
       "      <td>74.0</td>\n",
       "      <td>5.0</td>\n",
       "    </tr>\n",
       "    <tr>\n",
       "      <td>3</td>\n",
       "      <td>18.00000</td>\n",
       "      <td>5.0</td>\n",
       "      <td>11.5</td>\n",
       "      <td>62.0</td>\n",
       "      <td>5.0</td>\n",
       "    </tr>\n",
       "    <tr>\n",
       "      <td>4</td>\n",
       "      <td>42.12931</td>\n",
       "      <td>5.0</td>\n",
       "      <td>14.3</td>\n",
       "      <td>56.0</td>\n",
       "      <td>5.0</td>\n",
       "    </tr>\n",
       "    <tr>\n",
       "      <td>...</td>\n",
       "      <td>...</td>\n",
       "      <td>...</td>\n",
       "      <td>...</td>\n",
       "      <td>...</td>\n",
       "      <td>...</td>\n",
       "    </tr>\n",
       "    <tr>\n",
       "      <td>148</td>\n",
       "      <td>30.00000</td>\n",
       "      <td>9.0</td>\n",
       "      <td>6.9</td>\n",
       "      <td>70.0</td>\n",
       "      <td>9.0</td>\n",
       "    </tr>\n",
       "    <tr>\n",
       "      <td>149</td>\n",
       "      <td>42.12931</td>\n",
       "      <td>9.0</td>\n",
       "      <td>13.2</td>\n",
       "      <td>77.0</td>\n",
       "      <td>9.0</td>\n",
       "    </tr>\n",
       "    <tr>\n",
       "      <td>150</td>\n",
       "      <td>14.00000</td>\n",
       "      <td>9.0</td>\n",
       "      <td>14.3</td>\n",
       "      <td>75.0</td>\n",
       "      <td>9.0</td>\n",
       "    </tr>\n",
       "    <tr>\n",
       "      <td>151</td>\n",
       "      <td>18.00000</td>\n",
       "      <td>9.0</td>\n",
       "      <td>8.0</td>\n",
       "      <td>76.0</td>\n",
       "      <td>9.0</td>\n",
       "    </tr>\n",
       "    <tr>\n",
       "      <td>152</td>\n",
       "      <td>20.00000</td>\n",
       "      <td>9.0</td>\n",
       "      <td>11.5</td>\n",
       "      <td>68.0</td>\n",
       "      <td>9.0</td>\n",
       "    </tr>\n",
       "  </tbody>\n",
       "</table>\n",
       "<p>153 rows × 5 columns</p>\n",
       "</div>"
      ],
      "text/plain": [
       "        Ozone  Solar.R  Wind  Temp  Month\n",
       "0    41.00000      5.0   7.4  67.0    5.0\n",
       "1    36.00000      5.0   8.0  72.0    5.0\n",
       "2    12.00000      5.0  12.6  74.0    5.0\n",
       "3    18.00000      5.0  11.5  62.0    5.0\n",
       "4    42.12931      5.0  14.3  56.0    5.0\n",
       "..        ...      ...   ...   ...    ...\n",
       "148  30.00000      9.0   6.9  70.0    9.0\n",
       "149  42.12931      9.0  13.2  77.0    9.0\n",
       "150  14.00000      9.0  14.3  75.0    9.0\n",
       "151  18.00000      9.0   8.0  76.0    9.0\n",
       "152  20.00000      9.0  11.5  68.0    9.0\n",
       "\n",
       "[153 rows x 5 columns]"
      ]
     },
     "execution_count": 173,
     "metadata": {},
     "output_type": "execute_result"
    }
   ],
   "source": [
    "#rename columns\n",
    "df1.rename(columns = {0:\"Ozone\",1:\"Solar.R\", 2:\"Wind\", 3:\"Temp\", 4:\"Month\", 5:\"Day\"},inplace = True) \n",
    "df1"
   ]
  },
  {
   "cell_type": "code",
   "execution_count": 174,
   "metadata": {},
   "outputs": [
    {
     "data": {
      "text/plain": [
       "Ozone      0\n",
       "Solar.R    0\n",
       "Wind       0\n",
       "Temp       0\n",
       "Month      0\n",
       "dtype: int64"
      ]
     },
     "execution_count": 174,
     "metadata": {},
     "output_type": "execute_result"
    }
   ],
   "source": [
    "df1.apply(lambda x: sum(x.isnull()),axis=0)"
   ]
  },
  {
   "cell_type": "code",
   "execution_count": 175,
   "metadata": {},
   "outputs": [
    {
     "data": {
      "text/plain": [
       "0      41.00000\n",
       "1      36.00000\n",
       "2      12.00000\n",
       "3      18.00000\n",
       "4      42.12931\n",
       "         ...   \n",
       "148    30.00000\n",
       "149    42.12931\n",
       "150    14.00000\n",
       "151    18.00000\n",
       "152    20.00000\n",
       "Name: Ozone, Length: 153, dtype: float64"
      ]
     },
     "execution_count": 175,
     "metadata": {},
     "output_type": "execute_result"
    }
   ],
   "source": [
    "oz=df1['Ozone']\n",
    "oz"
   ]
  },
  {
   "cell_type": "code",
   "execution_count": 176,
   "metadata": {},
   "outputs": [
    {
     "data": {
      "text/plain": [
       "0      5.0\n",
       "1      5.0\n",
       "2      5.0\n",
       "3      5.0\n",
       "4      5.0\n",
       "      ... \n",
       "148    9.0\n",
       "149    9.0\n",
       "150    9.0\n",
       "151    9.0\n",
       "152    9.0\n",
       "Name: Month, Length: 153, dtype: float64"
      ]
     },
     "execution_count": 176,
     "metadata": {},
     "output_type": "execute_result"
    }
   ],
   "source": [
    "mont=df1['Month']\n",
    "mont"
   ]
  },
  {
   "cell_type": "code",
   "execution_count": 177,
   "metadata": {},
   "outputs": [
    {
     "data": {
      "text/plain": [
       "Text(0.5, 0, 'Months')"
      ]
     },
     "execution_count": 177,
     "metadata": {},
     "output_type": "execute_result"
    },
    {
     "data": {
      "image/png": "[encoded data removed]",
      "text/plain": [
       "<Figure size 432x288 with 1 Axes>"
      ]
     },
     "metadata": {
      "needs_background": "light"
     },
     "output_type": "display_data"
    }
   ],
   "source": [
    "%matplotlib inline\n",
    "plt.plot(mont,oz,'o')\n",
    "plt.ylabel(\"Ozone\")\n",
    "plt.xlabel(\"Months\")"
   ]
  },
  {
   "cell_type": "code",
   "execution_count": 178,
   "metadata": {},
   "outputs": [
    {
     "data": {
      "text/plain": [
       "42.1293103448276"
      ]
     },
     "execution_count": 178,
     "metadata": {},
     "output_type": "execute_result"
    }
   ],
   "source": [
    "mean_oz = df1['Ozone'].mean()\n",
    "mean_oz"
   ]
  },
  {
   "cell_type": "code",
   "execution_count": 179,
   "metadata": {},
   "outputs": [
    {
     "data": {
      "image/png": "[encoded data removed]",
      "text/plain": [
       "<Figure size 432x288 with 1 Axes>"
      ]
     },
     "metadata": {
      "needs_background": "light"
     },
     "output_type": "display_data"
    }
   ],
   "source": [
    "plt.plot(mont,oz,'o')\n",
    "plt.ylabel(\"Ozone\")\n",
    "plt.xlabel(\"Months\")\n",
    "plt.axhline(mean_oz, color='r', linestyle='-')\n",
    "plt.show()"
   ]
  },
  {
   "cell_type": "code",
   "execution_count": 180,
   "metadata": {},
   "outputs": [],
   "source": [
    "import statsmodels.api as sm\n",
    "model=sm.OLS(oz,mont).fit()"
   ]
  },
  {
   "cell_type": "code",
   "execution_count": 181,
   "metadata": {},
   "outputs": [
    {
     "data": {
      "text/html": [
       "<table class=\"simpletable\">\n",
       "<caption>OLS Regression Results</caption>\n",
       "<tr>\n",
       "  <th>Dep. Variable:</th>          <td>Ozone</td>      <th>  R-squared (uncentered):</th>      <td>   0.685</td>\n",
       "</tr>\n",
       "<tr>\n",
       "  <th>Model:</th>                   <td>OLS</td>       <th>  Adj. R-squared (uncentered):</th> <td>   0.683</td>\n",
       "</tr>\n",
       "<tr>\n",
       "  <th>Method:</th>             <td>Least Squares</td>  <th>  F-statistic:       </th>          <td>   330.4</td>\n",
       "</tr>\n",
       "<tr>\n",
       "  <th>Date:</th>             <td>Sat, 07 Dec 2019</td> <th>  Prob (F-statistic):</th>          <td>5.96e-40</td>\n",
       "</tr>\n",
       "<tr>\n",
       "  <th>Time:</th>                 <td>21:26:05</td>     <th>  Log-Likelihood:    </th>          <td> -730.08</td>\n",
       "</tr>\n",
       "<tr>\n",
       "  <th>No. Observations:</th>      <td>   153</td>      <th>  AIC:               </th>          <td>   1462.</td>\n",
       "</tr>\n",
       "<tr>\n",
       "  <th>Df Residuals:</th>          <td>   152</td>      <th>  BIC:               </th>          <td>   1465.</td>\n",
       "</tr>\n",
       "<tr>\n",
       "  <th>Df Model:</th>              <td>     1</td>      <th>                     </th>              <td> </td>   \n",
       "</tr>\n",
       "<tr>\n",
       "  <th>Covariance Type:</th>      <td>nonrobust</td>    <th>                     </th>              <td> </td>   \n",
       "</tr>\n",
       "</table>\n",
       "<table class=\"simpletable\">\n",
       "<tr>\n",
       "    <td></td>       <th>coef</th>     <th>std err</th>      <th>t</th>      <th>P>|t|</th>  <th>[0.025</th>    <th>0.975]</th>  \n",
       "</tr>\n",
       "<tr>\n",
       "  <th>Month</th> <td>    5.9064</td> <td>    0.325</td> <td>   18.176</td> <td> 0.000</td> <td>    5.264</td> <td>    6.548</td>\n",
       "</tr>\n",
       "</table>\n",
       "<table class=\"simpletable\">\n",
       "<tr>\n",
       "  <th>Omnibus:</th>       <td>35.345</td> <th>  Durbin-Watson:     </th> <td>   1.031</td>\n",
       "</tr>\n",
       "<tr>\n",
       "  <th>Prob(Omnibus):</th> <td> 0.000</td> <th>  Jarque-Bera (JB):  </th> <td>  59.744</td>\n",
       "</tr>\n",
       "<tr>\n",
       "  <th>Skew:</th>          <td> 1.126</td> <th>  Prob(JB):          </th> <td>1.06e-13</td>\n",
       "</tr>\n",
       "<tr>\n",
       "  <th>Kurtosis:</th>      <td> 5.075</td> <th>  Cond. No.          </th> <td>    1.00</td>\n",
       "</tr>\n",
       "</table><br/><br/>Warnings:<br/>[1] Standard Errors assume that the covariance matrix of the errors is correctly specified."
      ],
      "text/plain": [
       "<class 'statsmodels.iolib.summary.Summary'>\n",
       "\"\"\"\n",
       "                                 OLS Regression Results                                \n",
       "=======================================================================================\n",
       "Dep. Variable:                  Ozone   R-squared (uncentered):                   0.685\n",
       "Model:                            OLS   Adj. R-squared (uncentered):              0.683\n",
       "Method:                 Least Squares   F-statistic:                              330.4\n",
       "Date:                Sat, 07 Dec 2019   Prob (F-statistic):                    5.96e-40\n",
       "Time:                        21:26:05   Log-Likelihood:                         -730.08\n",
       "No. Observations:                 153   AIC:                                      1462.\n",
       "Df Residuals:                     152   BIC:                                      1465.\n",
       "Df Model:                           1                                                  \n",
       "Covariance Type:            nonrobust                                                  \n",
       "==============================================================================\n",
       "                 coef    std err          t      P>|t|      [0.025      0.975]\n",
       "------------------------------------------------------------------------------\n",
       "Month          5.9064      0.325     18.176      0.000       5.264       6.548\n",
       "==============================================================================\n",
       "Omnibus:                       35.345   Durbin-Watson:                   1.031\n",
       "Prob(Omnibus):                  0.000   Jarque-Bera (JB):               59.744\n",
       "Skew:                           1.126   Prob(JB):                     1.06e-13\n",
       "Kurtosis:                       5.075   Cond. No.                         1.00\n",
       "==============================================================================\n",
       "\n",
       "Warnings:\n",
       "[1] Standard Errors assume that the covariance matrix of the errors is correctly specified.\n",
       "\"\"\""
      ]
     },
     "execution_count": 181,
     "metadata": {},
     "output_type": "execute_result"
    }
   ],
   "source": [
    "model.summary()"
   ]
  },
  {
   "cell_type": "code",
   "execution_count": 182,
   "metadata": {},
   "outputs": [
    {
     "data": {
      "text/plain": [
       "<seaborn.axisgrid.PairGrid at 0x27d98fbc4c8>"
      ]
     },
     "execution_count": 182,
     "metadata": {},
     "output_type": "execute_result"
    },
    {
     "data": {
      "image/png": "[encoded data removed]",
      "text/plain": [
       "<Figure size 900x900 with 30 Axes>"
      ]
     },
     "metadata": {
      "needs_background": "light"
     },
     "output_type": "display_data"
    }
   ],
   "source": [
    "import seaborn as sns\n",
    "sns.pairplot(df1)"
   ]
  },
  {
   "cell_type": "code",
   "execution_count": 183,
   "metadata": {},
   "outputs": [
    {
     "data": {
      "text/plain": [
       "<matplotlib.axes._subplots.AxesSubplot at 0x27d99b63388>"
      ]
     },
     "execution_count": 183,
     "metadata": {},
     "output_type": "execute_result"
    },
    {
     "data": {
      "image/png": "[encoded data removed]",
      "text/plain": [
       "<Figure size 432x288 with 1 Axes>"
      ]
     },
     "metadata": {
      "needs_background": "light"
     },
     "output_type": "display_data"
    }
   ],
   "source": [
    "sns.distplot(df1['Month'])"
   ]
  },
  {
   "cell_type": "code",
   "execution_count": 130,
   "metadata": {},
   "outputs": [
    {
     "data": {
      "text/plain": [
       "<matplotlib.axes._subplots.AxesSubplot at 0x27d97bf6988>"
      ]
     },
     "execution_count": 130,
     "metadata": {},
     "output_type": "execute_result"
    },
    {
     "data": {
      "image/png": "[encoded data removed]",
      "text/plain": [
       "<Figure size 432x288 with 2 Axes>"
      ]
     },
     "metadata": {
      "needs_background": "light"
     },
     "output_type": "display_data"
    }
   ],
   "source": [
    "corr = df1.corr()\n",
    "sns.heatmap(corr,xticklabels=corr.columns,yticklabels=corr.columns)"
   ]
  },
  {
   "cell_type": "code",
   "execution_count": 131,
   "metadata": {},
   "outputs": [
    {
     "data": {
      "text/plain": [
       "<matplotlib.axes._subplots.AxesSubplot at 0x27d97c8f308>"
      ]
     },
     "execution_count": 131,
     "metadata": {},
     "output_type": "execute_result"
    },
    {
     "data": {
      "image/png": "[encoded data removed]",
      "text/plain": [
       "<Figure size 432x288 with 1 Axes>"
      ]
     },
     "metadata": {
      "needs_background": "light"
     },
     "output_type": "display_data"
    }
   ],
   "source": [
    "#Plot a regression line\n",
    "plt.plot(mont,oz,'o')\n",
    "plt.ylabel(\"Ozone\")\n",
    "plt.xlabel(\"Month\")\n",
    "plt.axhline(mean_oz, color='r', linestyle='-')\n",
    "sns.regplot(x=mont, y=oz, data=df1)"
   ]
  },
  {
   "cell_type": "code",
   "execution_count": 133,
   "metadata": {},
   "outputs": [],
   "source": [
    "#Split up the data into 'x' array that contains the features to train on and 'y' array with the target variable\n",
    "X=df1['Month']\n",
    "y=df1['Ozone']"
   ]
  },
  {
   "cell_type": "code",
   "execution_count": 134,
   "metadata": {},
   "outputs": [
    {
     "data": {
      "text/plain": [
       "0      5.0\n",
       "1      5.0\n",
       "2      5.0\n",
       "3      5.0\n",
       "4      5.0\n",
       "      ... \n",
       "148    9.0\n",
       "149    9.0\n",
       "150    9.0\n",
       "151    9.0\n",
       "152    9.0\n",
       "Name: Month, Length: 153, dtype: float64"
      ]
     },
     "execution_count": 134,
     "metadata": {},
     "output_type": "execute_result"
    }
   ],
   "source": [
    "X"
   ]
  },
  {
   "cell_type": "code",
   "execution_count": 135,
   "metadata": {},
   "outputs": [
    {
     "data": {
      "text/plain": [
       "0      41.00000\n",
       "1      36.00000\n",
       "2      12.00000\n",
       "3      18.00000\n",
       "4      42.12931\n",
       "         ...   \n",
       "148    30.00000\n",
       "149    42.12931\n",
       "150    14.00000\n",
       "151    18.00000\n",
       "152    20.00000\n",
       "Name: Ozone, Length: 153, dtype: float64"
      ]
     },
     "execution_count": 135,
     "metadata": {},
     "output_type": "execute_result"
    }
   ],
   "source": [
    "y"
   ]
  },
  {
   "cell_type": "code",
   "execution_count": 136,
   "metadata": {},
   "outputs": [],
   "source": [
    "# Split the data into Training set and Test set\n",
    "from sklearn.model_selection import train_test_split  #train_test_split splits arrays or matrices into random train and test subsets. \n",
    "X_train, X_test, y_train, y_test = train_test_split(X, y,test_size=0.4,random_state =1) \n",
    "#random_state=some_number,guarantees that the output of Run 1 will be equal to the output of Run 2, \n",
    "# i.e. split will be always the same."
   ]
  },
  {
   "cell_type": "code",
   "execution_count": 137,
   "metadata": {},
   "outputs": [
    {
     "data": {
      "text/plain": [
       "136    9.0\n",
       "11     5.0\n",
       "114    8.0\n",
       "2      5.0\n",
       "105    8.0\n",
       "      ... \n",
       "133    9.0\n",
       "137    9.0\n",
       "72     7.0\n",
       "140    9.0\n",
       "37     6.0\n",
       "Name: Month, Length: 91, dtype: float64"
      ]
     },
     "execution_count": 137,
     "metadata": {},
     "output_type": "execute_result"
    }
   ],
   "source": [
    "X_train"
   ]
  },
  {
   "cell_type": "code",
   "execution_count": 138,
   "metadata": {},
   "outputs": [
    {
     "data": {
      "text/plain": [
       "136     9.00000\n",
       "11     16.00000\n",
       "114    42.12931\n",
       "2      12.00000\n",
       "105    65.00000\n",
       "         ...   \n",
       "133    44.00000\n",
       "137    13.00000\n",
       "72     10.00000\n",
       "140    13.00000\n",
       "37     29.00000\n",
       "Name: Ozone, Length: 91, dtype: float64"
      ]
     },
     "execution_count": 138,
     "metadata": {},
     "output_type": "execute_result"
    }
   ],
   "source": [
    "y_train"
   ]
  },
  {
   "cell_type": "code",
   "execution_count": 139,
   "metadata": {},
   "outputs": [],
   "source": [
    "X_train = X_train.values.reshape((-1,1))"
   ]
  },
  {
   "cell_type": "code",
   "execution_count": 140,
   "metadata": {},
   "outputs": [
    {
     "data": {
      "text/plain": [
       "array([[9.],\n",
       "       [5.],\n",
       "       [8.],\n",
       "       [5.],\n",
       "       [8.],\n",
       "       [5.],\n",
       "       [5.],\n",
       "       [8.],\n",
       "       [7.],\n",
       "       [6.],\n",
       "       [8.],\n",
       "       [9.],\n",
       "       [6.],\n",
       "       [7.],\n",
       "       [7.],\n",
       "       [8.],\n",
       "       [8.],\n",
       "       [9.],\n",
       "       [7.],\n",
       "       [5.],\n",
       "       [6.],\n",
       "       [6.],\n",
       "       [9.],\n",
       "       [6.],\n",
       "       [7.],\n",
       "       [8.],\n",
       "       [9.],\n",
       "       [5.],\n",
       "       [5.],\n",
       "       [7.],\n",
       "       [5.],\n",
       "       [9.],\n",
       "       [8.],\n",
       "       [8.],\n",
       "       [9.],\n",
       "       [7.],\n",
       "       [9.],\n",
       "       [8.],\n",
       "       [7.],\n",
       "       [5.],\n",
       "       [7.],\n",
       "       [6.],\n",
       "       [7.],\n",
       "       [6.],\n",
       "       [5.],\n",
       "       [7.],\n",
       "       [6.],\n",
       "       [5.],\n",
       "       [9.],\n",
       "       [8.],\n",
       "       [9.],\n",
       "       [6.],\n",
       "       [5.],\n",
       "       [7.],\n",
       "       [5.],\n",
       "       [9.],\n",
       "       [5.],\n",
       "       [9.],\n",
       "       [8.],\n",
       "       [6.],\n",
       "       [8.],\n",
       "       [5.],\n",
       "       [7.],\n",
       "       [5.],\n",
       "       [7.],\n",
       "       [6.],\n",
       "       [9.],\n",
       "       [5.],\n",
       "       [6.],\n",
       "       [5.],\n",
       "       [7.],\n",
       "       [7.],\n",
       "       [5.],\n",
       "       [7.],\n",
       "       [8.],\n",
       "       [7.],\n",
       "       [6.],\n",
       "       [9.],\n",
       "       [8.],\n",
       "       [5.],\n",
       "       [5.],\n",
       "       [9.],\n",
       "       [7.],\n",
       "       [9.],\n",
       "       [9.],\n",
       "       [7.],\n",
       "       [9.],\n",
       "       [9.],\n",
       "       [7.],\n",
       "       [9.],\n",
       "       [6.]])"
      ]
     },
     "execution_count": 140,
     "metadata": {},
     "output_type": "execute_result"
    }
   ],
   "source": [
    "X_train"
   ]
  },
  {
   "cell_type": "code",
   "execution_count": 141,
   "metadata": {},
   "outputs": [
    {
     "data": {
      "text/plain": [
       "136     9.00000\n",
       "11     16.00000\n",
       "114    42.12931\n",
       "2      12.00000\n",
       "105    65.00000\n",
       "         ...   \n",
       "133    44.00000\n",
       "137    13.00000\n",
       "72     10.00000\n",
       "140    13.00000\n",
       "37     29.00000\n",
       "Name: Ozone, Length: 91, dtype: float64"
      ]
     },
     "execution_count": 141,
     "metadata": {},
     "output_type": "execute_result"
    }
   ],
   "source": [
    "y_train"
   ]
  },
  {
   "cell_type": "code",
   "execution_count": 142,
   "metadata": {},
   "outputs": [],
   "source": [
    "from sklearn import linear_model as lm\n",
    "model=lm.LinearRegression()\n",
    "results=model.fit(X_train,y_train) "
   ]
  },
  {
   "cell_type": "code",
   "execution_count": 143,
   "metadata": {},
   "outputs": [
    {
     "name": "stdout",
     "output_type": "stream",
     "text": [
      "Accuracy of the model: 0.012196255698388447\n"
     ]
    }
   ],
   "source": [
    "accuracy = model.score(X_train, y_train)\n",
    "print('Accuracy of the model:', accuracy)"
   ]
  },
  {
   "cell_type": "code",
   "execution_count": 144,
   "metadata": {},
   "outputs": [
    {
     "name": "stdout",
     "output_type": "stream",
     "text": [
      "intercept: 23.04029958884582\n",
      "slope: [2.20762304]\n"
     ]
    }
   ],
   "source": [
    "#Print coefficients\n",
    "print('intercept:', model.intercept_)\n",
    "print('slope:', model.coef_)"
   ]
  },
  {
   "cell_type": "code",
   "execution_count": 145,
   "metadata": {},
   "outputs": [
    {
     "data": {
      "text/plain": [
       "LinearRegression(copy_X=True, fit_intercept=True, n_jobs=None, normalize=False)"
      ]
     },
     "execution_count": 145,
     "metadata": {},
     "output_type": "execute_result"
    }
   ],
   "source": [
    "model"
   ]
  },
  {
   "cell_type": "code",
   "execution_count": 146,
   "metadata": {},
   "outputs": [
    {
     "data": {
      "text/plain": [
       "59     6.0\n",
       "33     6.0\n",
       "69     7.0\n",
       "127    9.0\n",
       "31     6.0\n",
       "      ... \n",
       "108    8.0\n",
       "12     5.0\n",
       "148    9.0\n",
       "84     7.0\n",
       "123    9.0\n",
       "Name: Month, Length: 62, dtype: float64"
      ]
     },
     "execution_count": 146,
     "metadata": {},
     "output_type": "execute_result"
    }
   ],
   "source": [
    "X_test"
   ]
  },
  {
   "cell_type": "code",
   "execution_count": 147,
   "metadata": {},
   "outputs": [
    {
     "data": {
      "text/plain": [
       "array([[6.],\n",
       "       [6.],\n",
       "       [7.],\n",
       "       [9.],\n",
       "       [6.],\n",
       "       [8.],\n",
       "       [8.],\n",
       "       [5.],\n",
       "       [6.],\n",
       "       [6.],\n",
       "       [9.],\n",
       "       [9.],\n",
       "       [7.],\n",
       "       [8.],\n",
       "       [5.],\n",
       "       [7.],\n",
       "       [5.],\n",
       "       [8.],\n",
       "       [7.],\n",
       "       [8.],\n",
       "       [7.],\n",
       "       [9.],\n",
       "       [8.],\n",
       "       [8.],\n",
       "       [8.],\n",
       "       [6.],\n",
       "       [5.],\n",
       "       [6.],\n",
       "       [6.],\n",
       "       [8.],\n",
       "       [6.],\n",
       "       [5.],\n",
       "       [8.],\n",
       "       [8.],\n",
       "       [7.],\n",
       "       [9.],\n",
       "       [6.],\n",
       "       [8.],\n",
       "       [6.],\n",
       "       [5.],\n",
       "       [6.],\n",
       "       [8.],\n",
       "       [7.],\n",
       "       [5.],\n",
       "       [8.],\n",
       "       [9.],\n",
       "       [9.],\n",
       "       [7.],\n",
       "       [5.],\n",
       "       [6.],\n",
       "       [5.],\n",
       "       [6.],\n",
       "       [7.],\n",
       "       [6.],\n",
       "       [6.],\n",
       "       [8.],\n",
       "       [9.],\n",
       "       [8.],\n",
       "       [5.],\n",
       "       [9.],\n",
       "       [7.],\n",
       "       [9.]])"
      ]
     },
     "execution_count": 147,
     "metadata": {},
     "output_type": "execute_result"
    }
   ],
   "source": [
    "X_test = X_test.values.reshape((-1,1))\n",
    "X_test"
   ]
  },
  {
   "cell_type": "code",
   "execution_count": 152,
   "metadata": {},
   "outputs": [
    {
     "name": "stdout",
     "output_type": "stream",
     "text": [
      "predicted Ozone:\n",
      "[36.28603784 36.28603784 38.49366088 42.90890697 36.28603784 40.70128392\n",
      " 40.70128392 34.0784148  36.28603784 36.28603784 42.90890697 42.90890697\n",
      " 38.49366088 40.70128392 34.0784148  38.49366088 34.0784148  40.70128392\n",
      " 38.49366088 40.70128392 38.49366088 42.90890697 40.70128392 40.70128392\n",
      " 40.70128392 36.28603784 34.0784148  36.28603784 36.28603784 40.70128392\n",
      " 36.28603784 34.0784148  40.70128392 40.70128392 38.49366088 42.90890697\n",
      " 36.28603784 40.70128392 36.28603784 34.0784148  36.28603784 40.70128392\n",
      " 38.49366088 34.0784148  40.70128392 42.90890697 42.90890697 38.49366088\n",
      " 34.0784148  36.28603784 34.0784148  36.28603784 38.49366088 36.28603784\n",
      " 36.28603784 40.70128392 42.90890697 40.70128392 34.0784148  42.90890697\n",
      " 38.49366088 42.90890697]\n"
     ]
    }
   ],
   "source": [
    "#Predictions from the model\n",
    "predictions = model.predict(X_test)\n",
    "print('predicted Ozone:',predictions, sep = '\\n')"
   ]
  },
  {
   "cell_type": "code",
   "execution_count": 153,
   "metadata": {},
   "outputs": [
    {
     "data": {
      "text/plain": [
       "59     42.12931\n",
       "33     42.12931\n",
       "69     97.00000\n",
       "127    47.00000\n",
       "31     42.12931\n",
       "         ...   \n",
       "108    59.00000\n",
       "12     11.00000\n",
       "148    30.00000\n",
       "84     80.00000\n",
       "123    96.00000\n",
       "Name: Ozone, Length: 62, dtype: float64"
      ]
     },
     "execution_count": 153,
     "metadata": {},
     "output_type": "execute_result"
    }
   ],
   "source": [
    "y_test"
   ]
  },
  {
   "cell_type": "code",
   "execution_count": 154,
   "metadata": {},
   "outputs": [
    {
     "data": {
      "text/plain": [
       "<matplotlib.collections.PathCollection at 0x27d98d8d108>"
      ]
     },
     "execution_count": 154,
     "metadata": {},
     "output_type": "execute_result"
    },
    {
     "data": {
      "image/png": "[encoded data removed]",
      "text/plain": [
       "<Figure size 432x288 with 1 Axes>"
      ]
     },
     "metadata": {
      "needs_background": "light"
     },
     "output_type": "display_data"
    }
   ],
   "source": [
    "plt.scatter(y_test, predictions)"
   ]
  },
  {
   "cell_type": "code",
   "execution_count": 155,
   "metadata": {},
   "outputs": [
    {
     "name": "stdout",
     "output_type": "stream",
     "text": [
      "predicted response:\n",
      "[[36.28603784]\n",
      " [36.28603784]\n",
      " [38.49366088]\n",
      " [42.90890697]\n",
      " [36.28603784]\n",
      " [40.70128392]\n",
      " [40.70128392]\n",
      " [34.0784148 ]\n",
      " [36.28603784]\n",
      " [36.28603784]\n",
      " [42.90890697]\n",
      " [42.90890697]\n",
      " [38.49366088]\n",
      " [40.70128392]\n",
      " [34.0784148 ]\n",
      " [38.49366088]\n",
      " [34.0784148 ]\n",
      " [40.70128392]\n",
      " [38.49366088]\n",
      " [40.70128392]\n",
      " [38.49366088]\n",
      " [42.90890697]\n",
      " [40.70128392]\n",
      " [40.70128392]\n",
      " [40.70128392]\n",
      " [36.28603784]\n",
      " [34.0784148 ]\n",
      " [36.28603784]\n",
      " [36.28603784]\n",
      " [40.70128392]\n",
      " [36.28603784]\n",
      " [34.0784148 ]\n",
      " [40.70128392]\n",
      " [40.70128392]\n",
      " [38.49366088]\n",
      " [42.90890697]\n",
      " [36.28603784]\n",
      " [40.70128392]\n",
      " [36.28603784]\n",
      " [34.0784148 ]\n",
      " [36.28603784]\n",
      " [40.70128392]\n",
      " [38.49366088]\n",
      " [34.0784148 ]\n",
      " [40.70128392]\n",
      " [42.90890697]\n",
      " [42.90890697]\n",
      " [38.49366088]\n",
      " [34.0784148 ]\n",
      " [36.28603784]\n",
      " [34.0784148 ]\n",
      " [36.28603784]\n",
      " [38.49366088]\n",
      " [36.28603784]\n",
      " [36.28603784]\n",
      " [40.70128392]\n",
      " [42.90890697]\n",
      " [40.70128392]\n",
      " [34.0784148 ]\n",
      " [42.90890697]\n",
      " [38.49366088]\n",
      " [42.90890697]]\n"
     ]
    }
   ],
   "source": [
    "y_pred = model.intercept_ + model.coef_ * X_test\n",
    "print('predicted response:', y_pred, sep='\\n')"
   ]
  },
  {
   "cell_type": "code",
   "execution_count": 158,
   "metadata": {},
   "outputs": [],
   "source": [
    "Xnew = [[10]]"
   ]
  },
  {
   "cell_type": "code",
   "execution_count": 159,
   "metadata": {},
   "outputs": [
    {
     "name": "stdout",
     "output_type": "stream",
     "text": [
      "Months=[[10]], Predicted Ozone=[45.11653001]\n"
     ]
    }
   ],
   "source": [
    "ynew = model.predict(Xnew)\n",
    "print(\"Months=%s, Predicted Ozone=%s\" % (Xnew,ynew))"
   ]
  },
  {
   "cell_type": "code",
   "execution_count": 160,
   "metadata": {},
   "outputs": [],
   "source": [
    "from sklearn.metrics import mean_squared_error, r2_score\n",
    "X_train = X_train.reshape(-1,1)\n",
    "y_train_prediction = model.predict(X_train)\n",
    "\n",
    "X_test = X_test.reshape(-1,1)\n",
    "y_test_prediction = model.predict(X_test)"
   ]
  },
  {
   "cell_type": "code",
   "execution_count": 161,
   "metadata": {},
   "outputs": [
    {
     "name": "stdout",
     "output_type": "stream",
     "text": [
      "Slope: [2.20762304]\n",
      "Intercept: 23.04029958884582\n",
      "\n",
      "\n",
      "The model performance for training set\n",
      "--------------------------------------\n",
      "RMSE is 28.932941303901067\n",
      "R2 score is 0.012196255698388447\n",
      "\n",
      "\n",
      "The model performance for testing set\n",
      "--------------------------------------\n",
      "Root mean squared error:  27.946918903272707\n",
      "R2 score:  -0.07567957911890266\n"
     ]
    }
   ],
   "source": [
    "print('Slope:' ,model.coef_)\n",
    "print('Intercept:', model.intercept_)\n",
    "print(\"\\n\")\n",
    "\n",
    "# model evaluation for training set\n",
    "import numpy as np\n",
    "rmse_training = (np.sqrt(mean_squared_error(y_train, y_train_prediction)))\n",
    "r2_training = r2_score(y_train, y_train_prediction)\n",
    "\n",
    "print(\"The model performance for training set\")\n",
    "print(\"--------------------------------------\")\n",
    "print('RMSE is {}'.format(rmse_training))\n",
    "print('R2 score is {}'.format(r2_training))\n",
    "print(\"\\n\")\n",
    "\n",
    "# model evaluation for testing set\n",
    "rmse_testing = (np.sqrt(mean_squared_error(y_test, y_test_prediction)))\n",
    "r2_testing = r2_score(y_test, y_test_prediction)\n",
    "\n",
    "print(\"The model performance for testing set\")\n",
    "print(\"--------------------------------------\")\n",
    "print('Root mean squared error: ', rmse_testing)\n",
    "print('R2 score: ', r2_testing)"
   ]
  },
  {
   "cell_type": "code",
   "execution_count": 162,
   "metadata": {},
   "outputs": [
    {
     "data": {
      "text/plain": [
       "Text(0, 0.5, 'Ozone')"
      ]
     },
     "execution_count": 162,
     "metadata": {},
     "output_type": "execute_result"
    },
    {
     "data": {
      "image/png": "[encoded data removed]",
      "text/plain": [
       "<Figure size 432x288 with 1 Axes>"
      ]
     },
     "metadata": {
      "needs_background": "light"
     },
     "output_type": "display_data"
    }
   ],
   "source": [
    "plt.scatter(X, y)\n",
    "plt.xlabel('Months')\n",
    "plt.ylabel('Ozone')"
   ]
  },
  {
   "cell_type": "code",
   "execution_count": 163,
   "metadata": {},
   "outputs": [],
   "source": [
    "X= X.values.reshape(-1,1)\n",
    "y_predicted = model.predict(X)"
   ]
  },
  {
   "cell_type": "code",
   "execution_count": 164,
   "metadata": {},
   "outputs": [
    {
     "data": {
      "image/png": "[encoded data removed]",
      "text/plain": [
       "<Figure size 432x288 with 1 Axes>"
      ]
     },
     "metadata": {
      "needs_background": "light"
     },
     "output_type": "display_data"
    }
   ],
   "source": [
    "plt.plot(X, y_predicted, color='r')\n",
    "plt.show()"
   ]
  },
  {
   "cell_type": "code",
   "execution_count": 170,
   "metadata": {},
   "outputs": [],
   "source": [
    "X = df1[[\"Temp\", \"Solar.R\"]]\n",
    "y = df1[\"Ozone\"]"
   ]
  },
  {
   "cell_type": "code",
   "execution_count": 171,
   "metadata": {},
   "outputs": [
    {
     "data": {
      "text/html": [
       "<div>\n",
       "<style scoped>\n",
       "    .dataframe tbody tr th:only-of-type {\n",
       "        vertical-align: middle;\n",
       "    }\n",
       "\n",
       "    .dataframe tbody tr th {\n",
       "        vertical-align: top;\n",
       "    }\n",
       "\n",
       "    .dataframe thead th {\n",
       "        text-align: right;\n",
       "    }\n",
       "</style>\n",
       "<table border=\"1\" class=\"dataframe\">\n",
       "  <thead>\n",
       "    <tr style=\"text-align: right;\">\n",
       "      <th></th>\n",
       "      <th>Temp</th>\n",
       "      <th>Solar.R</th>\n",
       "    </tr>\n",
       "  </thead>\n",
       "  <tbody>\n",
       "    <tr>\n",
       "      <td>0</td>\n",
       "      <td>67.0</td>\n",
       "      <td>5.0</td>\n",
       "    </tr>\n",
       "    <tr>\n",
       "      <td>1</td>\n",
       "      <td>72.0</td>\n",
       "      <td>5.0</td>\n",
       "    </tr>\n",
       "    <tr>\n",
       "      <td>2</td>\n",
       "      <td>74.0</td>\n",
       "      <td>5.0</td>\n",
       "    </tr>\n",
       "    <tr>\n",
       "      <td>3</td>\n",
       "      <td>62.0</td>\n",
       "      <td>5.0</td>\n",
       "    </tr>\n",
       "    <tr>\n",
       "      <td>4</td>\n",
       "      <td>56.0</td>\n",
       "      <td>5.0</td>\n",
       "    </tr>\n",
       "    <tr>\n",
       "      <td>...</td>\n",
       "      <td>...</td>\n",
       "      <td>...</td>\n",
       "    </tr>\n",
       "    <tr>\n",
       "      <td>148</td>\n",
       "      <td>70.0</td>\n",
       "      <td>9.0</td>\n",
       "    </tr>\n",
       "    <tr>\n",
       "      <td>149</td>\n",
       "      <td>77.0</td>\n",
       "      <td>9.0</td>\n",
       "    </tr>\n",
       "    <tr>\n",
       "      <td>150</td>\n",
       "      <td>75.0</td>\n",
       "      <td>9.0</td>\n",
       "    </tr>\n",
       "    <tr>\n",
       "      <td>151</td>\n",
       "      <td>76.0</td>\n",
       "      <td>9.0</td>\n",
       "    </tr>\n",
       "    <tr>\n",
       "      <td>152</td>\n",
       "      <td>68.0</td>\n",
       "      <td>9.0</td>\n",
       "    </tr>\n",
       "  </tbody>\n",
       "</table>\n",
       "<p>153 rows × 2 columns</p>\n",
       "</div>"
      ],
      "text/plain": [
       "     Temp  Solar.R\n",
       "0    67.0      5.0\n",
       "1    72.0      5.0\n",
       "2    74.0      5.0\n",
       "3    62.0      5.0\n",
       "4    56.0      5.0\n",
       "..    ...      ...\n",
       "148  70.0      9.0\n",
       "149  77.0      9.0\n",
       "150  75.0      9.0\n",
       "151  76.0      9.0\n",
       "152  68.0      9.0\n",
       "\n",
       "[153 rows x 2 columns]"
      ]
     },
     "execution_count": 171,
     "metadata": {},
     "output_type": "execute_result"
    }
   ],
   "source": [
    "X"
   ]
  },
  {
   "cell_type": "code",
   "execution_count": 66,
   "metadata": {},
   "outputs": [
    {
     "data": {
      "text/plain": [
       "0      41.00000\n",
       "1      36.00000\n",
       "2      12.00000\n",
       "3      18.00000\n",
       "4      42.12931\n",
       "         ...   \n",
       "148    30.00000\n",
       "149    42.12931\n",
       "150    14.00000\n",
       "151    18.00000\n",
       "152    20.00000\n",
       "Name: 0, Length: 153, dtype: float64"
      ]
     },
     "execution_count": 66,
     "metadata": {},
     "output_type": "execute_result"
    }
   ],
   "source": [
    "y"
   ]
  },
  {
   "cell_type": "code",
   "execution_count": 67,
   "metadata": {},
   "outputs": [
    {
     "data": {
      "text/html": [
       "<table class=\"simpletable\">\n",
       "<caption>OLS Regression Results</caption>\n",
       "<tr>\n",
       "  <th>Dep. Variable:</th>            <td>y</td>        <th>  R-squared (uncentered):</th>      <td>   0.685</td>\n",
       "</tr>\n",
       "<tr>\n",
       "  <th>Model:</th>                   <td>OLS</td>       <th>  Adj. R-squared (uncentered):</th> <td>   0.683</td>\n",
       "</tr>\n",
       "<tr>\n",
       "  <th>Method:</th>             <td>Least Squares</td>  <th>  F-statistic:       </th>          <td>   330.4</td>\n",
       "</tr>\n",
       "<tr>\n",
       "  <th>Date:</th>             <td>Sat, 07 Dec 2019</td> <th>  Prob (F-statistic):</th>          <td>5.96e-40</td>\n",
       "</tr>\n",
       "<tr>\n",
       "  <th>Time:</th>                 <td>21:04:21</td>     <th>  Log-Likelihood:    </th>          <td> -730.08</td>\n",
       "</tr>\n",
       "<tr>\n",
       "  <th>No. Observations:</th>      <td>   153</td>      <th>  AIC:               </th>          <td>   1462.</td>\n",
       "</tr>\n",
       "<tr>\n",
       "  <th>Df Residuals:</th>          <td>   152</td>      <th>  BIC:               </th>          <td>   1465.</td>\n",
       "</tr>\n",
       "<tr>\n",
       "  <th>Df Model:</th>              <td>     1</td>      <th>                     </th>              <td> </td>   \n",
       "</tr>\n",
       "<tr>\n",
       "  <th>Covariance Type:</th>      <td>nonrobust</td>    <th>                     </th>              <td> </td>   \n",
       "</tr>\n",
       "</table>\n",
       "<table class=\"simpletable\">\n",
       "<tr>\n",
       "  <td></td>     <th>coef</th>     <th>std err</th>      <th>t</th>      <th>P>|t|</th>  <th>[0.025</th>    <th>0.975]</th>  \n",
       "</tr>\n",
       "<tr>\n",
       "  <th>1</th> <td>    2.9532</td> <td>    0.162</td> <td>   18.176</td> <td> 0.000</td> <td>    2.632</td> <td>    3.274</td>\n",
       "</tr>\n",
       "<tr>\n",
       "  <th>4</th> <td>    2.9532</td> <td>    0.162</td> <td>   18.176</td> <td> 0.000</td> <td>    2.632</td> <td>    3.274</td>\n",
       "</tr>\n",
       "</table>\n",
       "<table class=\"simpletable\">\n",
       "<tr>\n",
       "  <th>Omnibus:</th>       <td>35.345</td> <th>  Durbin-Watson:     </th> <td>   1.031</td>\n",
       "</tr>\n",
       "<tr>\n",
       "  <th>Prob(Omnibus):</th> <td> 0.000</td> <th>  Jarque-Bera (JB):  </th> <td>  59.744</td>\n",
       "</tr>\n",
       "<tr>\n",
       "  <th>Skew:</th>          <td> 1.126</td> <th>  Prob(JB):          </th> <td>1.06e-13</td>\n",
       "</tr>\n",
       "<tr>\n",
       "  <th>Kurtosis:</th>      <td> 5.075</td> <th>  Cond. No.          </th> <td>1.16e+16</td>\n",
       "</tr>\n",
       "</table><br/><br/>Warnings:<br/>[1] Standard Errors assume that the covariance matrix of the errors is correctly specified.<br/>[2] The smallest eigenvalue is 1.16e-28. This might indicate that there are<br/>strong multicollinearity problems or that the design matrix is singular."
      ],
      "text/plain": [
       "<class 'statsmodels.iolib.summary.Summary'>\n",
       "\"\"\"\n",
       "                                 OLS Regression Results                                \n",
       "=======================================================================================\n",
       "Dep. Variable:                      y   R-squared (uncentered):                   0.685\n",
       "Model:                            OLS   Adj. R-squared (uncentered):              0.683\n",
       "Method:                 Least Squares   F-statistic:                              330.4\n",
       "Date:                Sat, 07 Dec 2019   Prob (F-statistic):                    5.96e-40\n",
       "Time:                        21:04:21   Log-Likelihood:                         -730.08\n",
       "No. Observations:                 153   AIC:                                      1462.\n",
       "Df Residuals:                     152   BIC:                                      1465.\n",
       "Df Model:                           1                                                  \n",
       "Covariance Type:            nonrobust                                                  \n",
       "==============================================================================\n",
       "                 coef    std err          t      P>|t|      [0.025      0.975]\n",
       "------------------------------------------------------------------------------\n",
       "1              2.9532      0.162     18.176      0.000       2.632       3.274\n",
       "4              2.9532      0.162     18.176      0.000       2.632       3.274\n",
       "==============================================================================\n",
       "Omnibus:                       35.345   Durbin-Watson:                   1.031\n",
       "Prob(Omnibus):                  0.000   Jarque-Bera (JB):               59.744\n",
       "Skew:                           1.126   Prob(JB):                     1.06e-13\n",
       "Kurtosis:                       5.075   Cond. No.                     1.16e+16\n",
       "==============================================================================\n",
       "\n",
       "Warnings:\n",
       "[1] Standard Errors assume that the covariance matrix of the errors is correctly specified.\n",
       "[2] The smallest eigenvalue is 1.16e-28. This might indicate that there are\n",
       "strong multicollinearity problems or that the design matrix is singular.\n",
       "\"\"\""
      ]
     },
     "execution_count": 67,
     "metadata": {},
     "output_type": "execute_result"
    }
   ],
   "source": [
    "model1 = sm.OLS(y,X).fit()\n",
    "predictions = model1.predict(X)\n",
    "model1.summary()"
   ]
  },
  {
   "cell_type": "code",
   "execution_count": 68,
   "metadata": {},
   "outputs": [],
   "source": [
    "from sklearn.model_selection import train_test_split\n",
    "X_train, X_test, y_train, y_test = train_test_split(X, y,test_size = 0.4, random_state=1)"
   ]
  },
  {
   "cell_type": "code",
   "execution_count": 69,
   "metadata": {
    "scrolled": true
   },
   "outputs": [
    {
     "data": {
      "text/html": [
       "<div>\n",
       "<style scoped>\n",
       "    .dataframe tbody tr th:only-of-type {\n",
       "        vertical-align: middle;\n",
       "    }\n",
       "\n",
       "    .dataframe tbody tr th {\n",
       "        vertical-align: top;\n",
       "    }\n",
       "\n",
       "    .dataframe thead th {\n",
       "        text-align: right;\n",
       "    }\n",
       "</style>\n",
       "<table border=\"1\" class=\"dataframe\">\n",
       "  <thead>\n",
       "    <tr style=\"text-align: right;\">\n",
       "      <th></th>\n",
       "      <th>1</th>\n",
       "      <th>4</th>\n",
       "    </tr>\n",
       "  </thead>\n",
       "  <tbody>\n",
       "    <tr>\n",
       "      <td>136</td>\n",
       "      <td>9.0</td>\n",
       "      <td>9.0</td>\n",
       "    </tr>\n",
       "    <tr>\n",
       "      <td>11</td>\n",
       "      <td>5.0</td>\n",
       "      <td>5.0</td>\n",
       "    </tr>\n",
       "    <tr>\n",
       "      <td>114</td>\n",
       "      <td>8.0</td>\n",
       "      <td>8.0</td>\n",
       "    </tr>\n",
       "    <tr>\n",
       "      <td>2</td>\n",
       "      <td>5.0</td>\n",
       "      <td>5.0</td>\n",
       "    </tr>\n",
       "    <tr>\n",
       "      <td>105</td>\n",
       "      <td>8.0</td>\n",
       "      <td>8.0</td>\n",
       "    </tr>\n",
       "    <tr>\n",
       "      <td>...</td>\n",
       "      <td>...</td>\n",
       "      <td>...</td>\n",
       "    </tr>\n",
       "    <tr>\n",
       "      <td>133</td>\n",
       "      <td>9.0</td>\n",
       "      <td>9.0</td>\n",
       "    </tr>\n",
       "    <tr>\n",
       "      <td>137</td>\n",
       "      <td>9.0</td>\n",
       "      <td>9.0</td>\n",
       "    </tr>\n",
       "    <tr>\n",
       "      <td>72</td>\n",
       "      <td>7.0</td>\n",
       "      <td>7.0</td>\n",
       "    </tr>\n",
       "    <tr>\n",
       "      <td>140</td>\n",
       "      <td>9.0</td>\n",
       "      <td>9.0</td>\n",
       "    </tr>\n",
       "    <tr>\n",
       "      <td>37</td>\n",
       "      <td>6.0</td>\n",
       "      <td>6.0</td>\n",
       "    </tr>\n",
       "  </tbody>\n",
       "</table>\n",
       "<p>91 rows × 2 columns</p>\n",
       "</div>"
      ],
      "text/plain": [
       "       1    4\n",
       "136  9.0  9.0\n",
       "11   5.0  5.0\n",
       "114  8.0  8.0\n",
       "2    5.0  5.0\n",
       "105  8.0  8.0\n",
       "..   ...  ...\n",
       "133  9.0  9.0\n",
       "137  9.0  9.0\n",
       "72   7.0  7.0\n",
       "140  9.0  9.0\n",
       "37   6.0  6.0\n",
       "\n",
       "[91 rows x 2 columns]"
      ]
     },
     "execution_count": 69,
     "metadata": {},
     "output_type": "execute_result"
    }
   ],
   "source": [
    "X_train"
   ]
  },
  {
   "cell_type": "code",
   "execution_count": 70,
   "metadata": {},
   "outputs": [
    {
     "data": {
      "text/plain": [
       "136     9.00000\n",
       "11     16.00000\n",
       "114    42.12931\n",
       "2      12.00000\n",
       "105    65.00000\n",
       "         ...   \n",
       "133    44.00000\n",
       "137    13.00000\n",
       "72     10.00000\n",
       "140    13.00000\n",
       "37     29.00000\n",
       "Name: 0, Length: 91, dtype: float64"
      ]
     },
     "execution_count": 70,
     "metadata": {},
     "output_type": "execute_result"
    }
   ],
   "source": [
    "y_train"
   ]
  },
  {
   "cell_type": "code",
   "execution_count": 1,
   "metadata": {},
   "outputs": [
    {
     "ename": "NameError",
     "evalue": "name 'X_train' is not defined",
     "output_type": "error",
     "traceback": [
      "\u001b[1;31m---------------------------------------------------------------------------\u001b[0m",
      "\u001b[1;31mNameError\u001b[0m                                 Traceback (most recent call last)",
      "\u001b[1;32m<ipython-input-1-f9b635847289>\u001b[0m in \u001b[0;36m<module>\u001b[1;34m\u001b[0m\n\u001b[1;32m----> 1\u001b[1;33m \u001b[0mfeatures\u001b[0m \u001b[1;33m=\u001b[0m \u001b[0mX_train\u001b[0m\u001b[1;33m.\u001b[0m\u001b[0miloc\u001b[0m\u001b[1;33m[\u001b[0m\u001b[1;33m:\u001b[0m\u001b[1;33m,\u001b[0m\u001b[1;33m:\u001b[0m\u001b[1;33m-\u001b[0m\u001b[1;36m1\u001b[0m\u001b[1;33m]\u001b[0m\u001b[1;33m.\u001b[0m\u001b[0mvalues\u001b[0m\u001b[1;33m\u001b[0m\u001b[1;33m\u001b[0m\u001b[0m\n\u001b[0m",
      "\u001b[1;31mNameError\u001b[0m: name 'X_train' is not defined"
     ]
    }
   ],
   "source": [
    "features = X_train.iloc[:,:-1].values"
   ]
  },
  {
   "cell_type": "code",
   "execution_count": 72,
   "metadata": {},
   "outputs": [
    {
     "data": {
      "text/plain": [
       "array([[9., 9.],\n",
       "       [5., 5.],\n",
       "       [8., 8.],\n",
       "       [5., 5.],\n",
       "       [8., 8.],\n",
       "       [5., 5.],\n",
       "       [5., 5.],\n",
       "       [8., 8.],\n",
       "       [7., 7.],\n",
       "       [6., 6.],\n",
       "       [8., 8.],\n",
       "       [9., 9.],\n",
       "       [6., 6.],\n",
       "       [7., 7.],\n",
       "       [7., 7.],\n",
       "       [8., 8.],\n",
       "       [8., 8.],\n",
       "       [9., 9.],\n",
       "       [7., 7.],\n",
       "       [5., 5.],\n",
       "       [6., 6.],\n",
       "       [6., 6.],\n",
       "       [9., 9.],\n",
       "       [6., 6.],\n",
       "       [7., 7.],\n",
       "       [8., 8.],\n",
       "       [9., 9.],\n",
       "       [5., 5.],\n",
       "       [5., 5.],\n",
       "       [7., 7.],\n",
       "       [5., 5.],\n",
       "       [9., 9.],\n",
       "       [8., 8.],\n",
       "       [8., 8.],\n",
       "       [9., 9.],\n",
       "       [7., 7.],\n",
       "       [9., 9.],\n",
       "       [8., 8.],\n",
       "       [7., 7.],\n",
       "       [5., 5.],\n",
       "       [7., 7.],\n",
       "       [6., 6.],\n",
       "       [7., 7.],\n",
       "       [6., 6.],\n",
       "       [5., 5.],\n",
       "       [7., 7.],\n",
       "       [6., 6.],\n",
       "       [5., 5.],\n",
       "       [9., 9.],\n",
       "       [8., 8.],\n",
       "       [9., 9.],\n",
       "       [6., 6.],\n",
       "       [5., 5.],\n",
       "       [7., 7.],\n",
       "       [5., 5.],\n",
       "       [9., 9.],\n",
       "       [5., 5.],\n",
       "       [9., 9.],\n",
       "       [8., 8.],\n",
       "       [6., 6.],\n",
       "       [8., 8.],\n",
       "       [5., 5.],\n",
       "       [7., 7.],\n",
       "       [5., 5.],\n",
       "       [7., 7.],\n",
       "       [6., 6.],\n",
       "       [9., 9.],\n",
       "       [5., 5.],\n",
       "       [6., 6.],\n",
       "       [5., 5.],\n",
       "       [7., 7.],\n",
       "       [7., 7.],\n",
       "       [5., 5.],\n",
       "       [7., 7.],\n",
       "       [8., 8.],\n",
       "       [7., 7.],\n",
       "       [6., 6.],\n",
       "       [9., 9.],\n",
       "       [8., 8.],\n",
       "       [5., 5.],\n",
       "       [5., 5.],\n",
       "       [9., 9.],\n",
       "       [7., 7.],\n",
       "       [9., 9.],\n",
       "       [9., 9.],\n",
       "       [7., 7.],\n",
       "       [9., 9.],\n",
       "       [9., 9.],\n",
       "       [7., 7.],\n",
       "       [9., 9.],\n",
       "       [6., 6.]])"
      ]
     },
     "execution_count": 72,
     "metadata": {},
     "output_type": "execute_result"
    }
   ],
   "source": [
    "features"
   ]
  },
  {
   "cell_type": "code",
   "execution_count": 73,
   "metadata": {},
   "outputs": [],
   "source": [
    "labels = y_train.iloc[:].values"
   ]
  },
  {
   "cell_type": "code",
   "execution_count": 74,
   "metadata": {},
   "outputs": [
    {
     "data": {
      "text/plain": [
       "array([  9.        ,  16.        ,  42.12931034,  12.        ,\n",
       "        65.        ,  23.        ,  41.        ,  44.        ,\n",
       "        64.        ,  42.12931034,  28.        ,  28.        ,\n",
       "        21.        ,  49.        ,  42.12931034,  73.        ,\n",
       "        16.        ,  18.        ,  64.        ,   7.        ,\n",
       "        42.12931034,  42.12931034,  73.        ,  42.12931034,\n",
       "        42.12931034,  21.        ,  20.        ,  23.        ,\n",
       "        32.        ,  77.        ,  42.12931034,  21.        ,\n",
       "       122.        , 118.        ,  13.        ,  52.        ,\n",
       "        16.        ,  31.        ,  42.12931034,  14.        ,\n",
       "        42.12931034,  42.12931034,  63.        ,  42.12931034,\n",
       "        42.12931034,  48.        ,  23.        ,  42.12931034,\n",
       "        42.12931034, 168.        ,  23.        ,  12.        ,\n",
       "        11.        ,  85.        ,  18.        ,   7.        ,\n",
       "        37.        ,  14.        ,  42.12931034,  37.        ,\n",
       "        45.        ,  14.        ,  82.        ,   8.        ,\n",
       "        16.        ,  42.12931034,  32.        ,  36.        ,\n",
       "        42.12931034,   4.        , 135.        ,  32.        ,\n",
       "        19.        ,  20.        ,  35.        ,  97.        ,\n",
       "        13.        ,  18.        ,  42.12931034,   1.        ,\n",
       "        42.12931034,  21.        ,  42.12931034,  20.        ,\n",
       "        23.        ,  79.        ,  44.        ,  13.        ,\n",
       "        10.        ,  13.        ,  29.        ])"
      ]
     },
     "execution_count": 74,
     "metadata": {},
     "output_type": "execute_result"
    }
   ],
   "source": [
    "labels"
   ]
  },
  {
   "cell_type": "code",
   "execution_count": 75,
   "metadata": {},
   "outputs": [],
   "source": [
    "X=features\n",
    "y=labels"
   ]
  },
  {
   "cell_type": "code",
   "execution_count": 76,
   "metadata": {},
   "outputs": [],
   "source": [
    "from sklearn import linear_model as lm\n",
    "model=lm.LinearRegression()\n",
    "results=model.fit(X,y)"
   ]
  },
  {
   "cell_type": "code",
   "execution_count": 77,
   "metadata": {},
   "outputs": [],
   "source": [
    "predictions = model.predict(X)"
   ]
  },
  {
   "cell_type": "code",
   "execution_count": 78,
   "metadata": {},
   "outputs": [
    {
     "name": "stdout",
     "output_type": "stream",
     "text": [
      "Accuracy of the model: 0.01219625569838867\n"
     ]
    }
   ],
   "source": [
    "accuracy=model.score(X,y)\n",
    "print('Accuracy of the model:', accuracy)"
   ]
  },
  {
   "cell_type": "code",
   "execution_count": 79,
   "metadata": {},
   "outputs": [
    {
     "data": {
      "text/plain": [
       "<matplotlib.collections.PathCollection at 0x27d967fd988>"
      ]
     },
     "execution_count": 79,
     "metadata": {},
     "output_type": "execute_result"
    },
    {
     "data": {
      "image/png": "[encoded data removed]",
      "text/plain": [
       "<Figure size 432x288 with 1 Axes>"
      ]
     },
     "metadata": {
      "needs_background": "light"
     },
     "output_type": "display_data"
    }
   ],
   "source": [
    "plt.scatter(y, predictions)\n",
    "plt.xlabel('Solar.R & ')\n",
    "plt.ylabel('Ozone')"
   ]
  },
  {
   "cell_type": "code",
   "execution_count": 80,
   "metadata": {},
   "outputs": [
    {
     "name": "stdout",
     "output_type": "stream",
     "text": [
      "Slope: [1.10381152 1.10381152]\n",
      "Intercept: 23.040299588845834\n",
      "\n",
      "\n",
      "The model performance\n",
      "--------------------------------------\n",
      "RMSE is 28.93294130390106\n",
      "R2 score is 0.01219625569838867\n",
      "\n",
      "\n"
     ]
    }
   ],
   "source": [
    "#Evaluating the model \n",
    "from sklearn.metrics import mean_squared_error, r2_score\n",
    "\n",
    "# printing values\n",
    "print('Slope:' ,model.coef_)\n",
    "print('Intercept:', model.intercept_)\n",
    "print(\"\\n\")\n",
    "\n",
    "\n",
    "import numpy as np\n",
    "rmse = (np.sqrt(mean_squared_error(y,predictions)))\n",
    "r2 = r2_score(y,predictions)\n",
    "\n",
    "print(\"The model performance\")\n",
    "print(\"--------------------------------------\")\n",
    "print('RMSE is {}'.format(rmse))\n",
    "print('R2 score is {}'.format(r2))\n",
    "print(\"\\n\")"
   ]
  },
  {
   "cell_type": "code",
   "execution_count": null,
   "metadata": {},
   "outputs": [],
   "source": []
  },
  {
   "cell_type": "code",
   "execution_count": null,
   "metadata": {},
   "outputs": [],
   "source": []
  }
 ],
 "metadata": {
  "kernelspec": {
   "display_name": "Python 3",
   "language": "python",
   "name": "python3"
  },
  "language_info": {
   "codemirror_mode": {
    "name": "ipython",
    "version": 3
   },
   "file_extension": ".py",
   "mimetype": "text/x-python",
   "name": "python",
   "nbconvert_exporter": "python",
   "pygments_lexer": "ipython3",
   "version": "3.7.4"
  }
 },
 "nbformat": 4,
 "nbformat_minor": 2
}
