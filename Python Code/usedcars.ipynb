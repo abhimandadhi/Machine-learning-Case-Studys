{
 "cells": [
  {
   "cell_type": "code",
   "execution_count": 1,
   "metadata": {},
   "outputs": [
    {
     "data": {
      "text/plain": [
       "'C:\\\\Users\\\\AbhilashMandadhi\\\\Desktop\\\\Data Sets'"
      ]
     },
     "execution_count": 1,
     "metadata": {},
     "output_type": "execute_result"
    }
   ],
   "source": [
    "import os\n",
    "os.getcwd()"
   ]
  },
  {
   "cell_type": "code",
   "execution_count": 34,
   "metadata": {
    "scrolled": false
   },
   "outputs": [
    {
     "data": {
      "text/html": [
       "<div>\n",
       "<style scoped>\n",
       "    .dataframe tbody tr th:only-of-type {\n",
       "        vertical-align: middle;\n",
       "    }\n",
       "\n",
       "    .dataframe tbody tr th {\n",
       "        vertical-align: top;\n",
       "    }\n",
       "\n",
       "    .dataframe thead th {\n",
       "        text-align: right;\n",
       "    }\n",
       "</style>\n",
       "<table border=\"1\" class=\"dataframe\">\n",
       "  <thead>\n",
       "    <tr style=\"text-align: right;\">\n",
       "      <th></th>\n",
       "      <th>year</th>\n",
       "      <th>model</th>\n",
       "      <th>price</th>\n",
       "      <th>mileage</th>\n",
       "      <th>color</th>\n",
       "      <th>transmission</th>\n",
       "    </tr>\n",
       "  </thead>\n",
       "  <tbody>\n",
       "    <tr>\n",
       "      <td>0</td>\n",
       "      <td>2011</td>\n",
       "      <td>SEL</td>\n",
       "      <td>21992.0</td>\n",
       "      <td>7413.0</td>\n",
       "      <td>Yellow</td>\n",
       "      <td>AUTO</td>\n",
       "    </tr>\n",
       "    <tr>\n",
       "      <td>1</td>\n",
       "      <td>2011</td>\n",
       "      <td>SEL</td>\n",
       "      <td>20995.0</td>\n",
       "      <td>10926.0</td>\n",
       "      <td>Gray</td>\n",
       "      <td>AUTO</td>\n",
       "    </tr>\n",
       "    <tr>\n",
       "      <td>2</td>\n",
       "      <td>2011</td>\n",
       "      <td>SEL</td>\n",
       "      <td>19995.0</td>\n",
       "      <td>7351.0</td>\n",
       "      <td>Silver</td>\n",
       "      <td>AUTO</td>\n",
       "    </tr>\n",
       "    <tr>\n",
       "      <td>3</td>\n",
       "      <td>2011</td>\n",
       "      <td>SEL</td>\n",
       "      <td>17809.0</td>\n",
       "      <td>11613.0</td>\n",
       "      <td>Gray</td>\n",
       "      <td>AUTO</td>\n",
       "    </tr>\n",
       "    <tr>\n",
       "      <td>4</td>\n",
       "      <td>2012</td>\n",
       "      <td>SE</td>\n",
       "      <td>17500.0</td>\n",
       "      <td>8367.0</td>\n",
       "      <td>White</td>\n",
       "      <td>AUTO</td>\n",
       "    </tr>\n",
       "    <tr>\n",
       "      <td>...</td>\n",
       "      <td>...</td>\n",
       "      <td>...</td>\n",
       "      <td>...</td>\n",
       "      <td>...</td>\n",
       "      <td>...</td>\n",
       "      <td>...</td>\n",
       "    </tr>\n",
       "    <tr>\n",
       "      <td>145</td>\n",
       "      <td>2006</td>\n",
       "      <td>SES</td>\n",
       "      <td>6200.0</td>\n",
       "      <td>95000.0</td>\n",
       "      <td>Silver</td>\n",
       "      <td>AUTO</td>\n",
       "    </tr>\n",
       "    <tr>\n",
       "      <td>146</td>\n",
       "      <td>2002</td>\n",
       "      <td>SE</td>\n",
       "      <td>5995.0</td>\n",
       "      <td>87003.0</td>\n",
       "      <td>Red</td>\n",
       "      <td>AUTO</td>\n",
       "    </tr>\n",
       "    <tr>\n",
       "      <td>147</td>\n",
       "      <td>2000</td>\n",
       "      <td>SE</td>\n",
       "      <td>5980.0</td>\n",
       "      <td>NaN</td>\n",
       "      <td>Red</td>\n",
       "      <td>AUTO</td>\n",
       "    </tr>\n",
       "    <tr>\n",
       "      <td>148</td>\n",
       "      <td>2001</td>\n",
       "      <td>SE</td>\n",
       "      <td>4899.0</td>\n",
       "      <td>151479.0</td>\n",
       "      <td>Yellow</td>\n",
       "      <td>AUTO</td>\n",
       "    </tr>\n",
       "    <tr>\n",
       "      <td>149</td>\n",
       "      <td>2000</td>\n",
       "      <td>SE</td>\n",
       "      <td>3800.0</td>\n",
       "      <td>109259.0</td>\n",
       "      <td>Red</td>\n",
       "      <td>AUTO</td>\n",
       "    </tr>\n",
       "  </tbody>\n",
       "</table>\n",
       "<p>150 rows × 6 columns</p>\n",
       "</div>"
      ],
      "text/plain": [
       "     year model    price   mileage   color transmission\n",
       "0    2011   SEL  21992.0    7413.0  Yellow         AUTO\n",
       "1    2011   SEL  20995.0   10926.0    Gray         AUTO\n",
       "2    2011   SEL  19995.0    7351.0  Silver         AUTO\n",
       "3    2011   SEL  17809.0   11613.0    Gray         AUTO\n",
       "4    2012    SE  17500.0    8367.0   White         AUTO\n",
       "..    ...   ...      ...       ...     ...          ...\n",
       "145  2006   SES   6200.0   95000.0  Silver         AUTO\n",
       "146  2002    SE   5995.0   87003.0     Red         AUTO\n",
       "147  2000    SE   5980.0       NaN     Red         AUTO\n",
       "148  2001    SE   4899.0  151479.0  Yellow         AUTO\n",
       "149  2000    SE   3800.0  109259.0     Red         AUTO\n",
       "\n",
       "[150 rows x 6 columns]"
      ]
     },
     "execution_count": 34,
     "metadata": {},
     "output_type": "execute_result"
    }
   ],
   "source": [
    "import numpy as np\n",
    "import pandas as pd\n",
    "from sklearn import preprocessing\n",
    "import matplotlib.pyplot as plt\n",
    "cdata = pd.read_csv(\"usedcars.csv\")\n",
    "cdata"
   ]
  },
  {
   "cell_type": "code",
   "execution_count": 35,
   "metadata": {},
   "outputs": [
    {
     "data": {
      "text/html": [
       "<div>\n",
       "<style scoped>\n",
       "    .dataframe tbody tr th:only-of-type {\n",
       "        vertical-align: middle;\n",
       "    }\n",
       "\n",
       "    .dataframe tbody tr th {\n",
       "        vertical-align: top;\n",
       "    }\n",
       "\n",
       "    .dataframe thead th {\n",
       "        text-align: right;\n",
       "    }\n",
       "</style>\n",
       "<table border=\"1\" class=\"dataframe\">\n",
       "  <thead>\n",
       "    <tr style=\"text-align: right;\">\n",
       "      <th></th>\n",
       "      <th>year</th>\n",
       "      <th>price</th>\n",
       "      <th>mileage</th>\n",
       "    </tr>\n",
       "  </thead>\n",
       "  <tbody>\n",
       "    <tr>\n",
       "      <td>count</td>\n",
       "      <td>150.000000</td>\n",
       "      <td>142.000000</td>\n",
       "      <td>143.000000</td>\n",
       "    </tr>\n",
       "    <tr>\n",
       "      <td>mean</td>\n",
       "      <td>2008.726667</td>\n",
       "      <td>12918.246479</td>\n",
       "      <td>43727.027972</td>\n",
       "    </tr>\n",
       "    <tr>\n",
       "      <td>std</td>\n",
       "      <td>2.200966</td>\n",
       "      <td>3169.089050</td>\n",
       "      <td>27084.279522</td>\n",
       "    </tr>\n",
       "    <tr>\n",
       "      <td>min</td>\n",
       "      <td>2000.000000</td>\n",
       "      <td>3800.000000</td>\n",
       "      <td>4867.000000</td>\n",
       "    </tr>\n",
       "    <tr>\n",
       "      <td>25%</td>\n",
       "      <td>2008.000000</td>\n",
       "      <td>10995.000000</td>\n",
       "      <td>26801.500000</td>\n",
       "    </tr>\n",
       "    <tr>\n",
       "      <td>50%</td>\n",
       "      <td>2009.000000</td>\n",
       "      <td>13631.000000</td>\n",
       "      <td>36306.000000</td>\n",
       "    </tr>\n",
       "    <tr>\n",
       "      <td>75%</td>\n",
       "      <td>2010.000000</td>\n",
       "      <td>14904.500000</td>\n",
       "      <td>53817.500000</td>\n",
       "    </tr>\n",
       "    <tr>\n",
       "      <td>max</td>\n",
       "      <td>2012.000000</td>\n",
       "      <td>21992.000000</td>\n",
       "      <td>151479.000000</td>\n",
       "    </tr>\n",
       "  </tbody>\n",
       "</table>\n",
       "</div>"
      ],
      "text/plain": [
       "              year         price        mileage\n",
       "count   150.000000    142.000000     143.000000\n",
       "mean   2008.726667  12918.246479   43727.027972\n",
       "std       2.200966   3169.089050   27084.279522\n",
       "min    2000.000000   3800.000000    4867.000000\n",
       "25%    2008.000000  10995.000000   26801.500000\n",
       "50%    2009.000000  13631.000000   36306.000000\n",
       "75%    2010.000000  14904.500000   53817.500000\n",
       "max    2012.000000  21992.000000  151479.000000"
      ]
     },
     "execution_count": 35,
     "metadata": {},
     "output_type": "execute_result"
    }
   ],
   "source": [
    "cdata.describe()"
   ]
  },
  {
   "cell_type": "code",
   "execution_count": 36,
   "metadata": {},
   "outputs": [
    {
     "data": {
      "text/plain": [
       "150"
      ]
     },
     "execution_count": 36,
     "metadata": {},
     "output_type": "execute_result"
    }
   ],
   "source": [
    "cdata['year'].count()"
   ]
  },
  {
   "cell_type": "code",
   "execution_count": 37,
   "metadata": {},
   "outputs": [
    {
     "data": {
      "text/plain": [
       "142"
      ]
     },
     "execution_count": 37,
     "metadata": {},
     "output_type": "execute_result"
    }
   ],
   "source": [
    "cdata['price'].count()"
   ]
  },
  {
   "cell_type": "code",
   "execution_count": 38,
   "metadata": {},
   "outputs": [
    {
     "data": {
      "text/plain": [
       "143"
      ]
     },
     "execution_count": 38,
     "metadata": {},
     "output_type": "execute_result"
    }
   ],
   "source": [
    "cdata['mileage'].count()"
   ]
  },
  {
   "cell_type": "code",
   "execution_count": 39,
   "metadata": {},
   "outputs": [
    {
     "data": {
      "text/plain": [
       "141"
      ]
     },
     "execution_count": 39,
     "metadata": {},
     "output_type": "execute_result"
    }
   ],
   "source": [
    "cdata['color'].count()"
   ]
  },
  {
   "cell_type": "code",
   "execution_count": 40,
   "metadata": {},
   "outputs": [
    {
     "data": {
      "text/plain": [
       "142"
      ]
     },
     "execution_count": 40,
     "metadata": {},
     "output_type": "execute_result"
    }
   ],
   "source": [
    "cdata['transmission'].count()"
   ]
  },
  {
   "cell_type": "code",
   "execution_count": 41,
   "metadata": {},
   "outputs": [
    {
     "data": {
      "text/plain": [
       "AUTO      124\n",
       "MANUAL     18\n",
       "Name: transmission, dtype: int64"
      ]
     },
     "execution_count": 41,
     "metadata": {},
     "output_type": "execute_result"
    }
   ],
   "source": [
    "cdata['transmission'].value_counts()"
   ]
  },
  {
   "cell_type": "code",
   "execution_count": 42,
   "metadata": {},
   "outputs": [],
   "source": [
    "cdata ['transmission'].fillna('AUTO', inplace=True)"
   ]
  },
  {
   "cell_type": "code",
   "execution_count": 43,
   "metadata": {},
   "outputs": [
    {
     "data": {
      "text/plain": [
       "AUTO      132\n",
       "MANUAL     18\n",
       "Name: transmission, dtype: int64"
      ]
     },
     "execution_count": 43,
     "metadata": {},
     "output_type": "execute_result"
    }
   ],
   "source": [
    "cdata['transmission'].value_counts()"
   ]
  },
  {
   "cell_type": "code",
   "execution_count": 44,
   "metadata": {},
   "outputs": [
    {
     "data": {
      "text/plain": [
       "Black     33\n",
       "Silver    32\n",
       "Red       22\n",
       "Blue      16\n",
       "Gray      15\n",
       "White     14\n",
       "Green      5\n",
       "Yellow     3\n",
       "Gold       1\n",
       "Name: color, dtype: int64"
      ]
     },
     "execution_count": 44,
     "metadata": {},
     "output_type": "execute_result"
    }
   ],
   "source": [
    "cdata['color'].value_counts()"
   ]
  },
  {
   "cell_type": "code",
   "execution_count": 45,
   "metadata": {},
   "outputs": [],
   "source": [
    "cdata ['color'].fillna('Black', inplace=True)"
   ]
  },
  {
   "cell_type": "code",
   "execution_count": 46,
   "metadata": {},
   "outputs": [
    {
     "data": {
      "text/plain": [
       "Black     42\n",
       "Silver    32\n",
       "Red       22\n",
       "Blue      16\n",
       "Gray      15\n",
       "White     14\n",
       "Green      5\n",
       "Yellow     3\n",
       "Gold       1\n",
       "Name: color, dtype: int64"
      ]
     },
     "execution_count": 46,
     "metadata": {},
     "output_type": "execute_result"
    }
   ],
   "source": [
    "cdata['color'].value_counts()"
   ]
  },
  {
   "cell_type": "code",
   "execution_count": 47,
   "metadata": {},
   "outputs": [
    {
     "data": {
      "text/html": [
       "<div>\n",
       "<style scoped>\n",
       "    .dataframe tbody tr th:only-of-type {\n",
       "        vertical-align: middle;\n",
       "    }\n",
       "\n",
       "    .dataframe tbody tr th {\n",
       "        vertical-align: top;\n",
       "    }\n",
       "\n",
       "    .dataframe thead th {\n",
       "        text-align: right;\n",
       "    }\n",
       "</style>\n",
       "<table border=\"1\" class=\"dataframe\">\n",
       "  <thead>\n",
       "    <tr style=\"text-align: right;\">\n",
       "      <th></th>\n",
       "      <th>year</th>\n",
       "      <th>model</th>\n",
       "      <th>price</th>\n",
       "      <th>mileage</th>\n",
       "      <th>transmission</th>\n",
       "    </tr>\n",
       "  </thead>\n",
       "  <tbody>\n",
       "    <tr>\n",
       "      <td>0</td>\n",
       "      <td>2011</td>\n",
       "      <td>SEL</td>\n",
       "      <td>21992.0</td>\n",
       "      <td>7413.0</td>\n",
       "      <td>AUTO</td>\n",
       "    </tr>\n",
       "    <tr>\n",
       "      <td>1</td>\n",
       "      <td>2011</td>\n",
       "      <td>SEL</td>\n",
       "      <td>20995.0</td>\n",
       "      <td>10926.0</td>\n",
       "      <td>AUTO</td>\n",
       "    </tr>\n",
       "    <tr>\n",
       "      <td>2</td>\n",
       "      <td>2011</td>\n",
       "      <td>SEL</td>\n",
       "      <td>19995.0</td>\n",
       "      <td>7351.0</td>\n",
       "      <td>AUTO</td>\n",
       "    </tr>\n",
       "    <tr>\n",
       "      <td>3</td>\n",
       "      <td>2011</td>\n",
       "      <td>SEL</td>\n",
       "      <td>17809.0</td>\n",
       "      <td>11613.0</td>\n",
       "      <td>AUTO</td>\n",
       "    </tr>\n",
       "    <tr>\n",
       "      <td>4</td>\n",
       "      <td>2012</td>\n",
       "      <td>SE</td>\n",
       "      <td>17500.0</td>\n",
       "      <td>8367.0</td>\n",
       "      <td>AUTO</td>\n",
       "    </tr>\n",
       "    <tr>\n",
       "      <td>...</td>\n",
       "      <td>...</td>\n",
       "      <td>...</td>\n",
       "      <td>...</td>\n",
       "      <td>...</td>\n",
       "      <td>...</td>\n",
       "    </tr>\n",
       "    <tr>\n",
       "      <td>145</td>\n",
       "      <td>2006</td>\n",
       "      <td>SES</td>\n",
       "      <td>6200.0</td>\n",
       "      <td>95000.0</td>\n",
       "      <td>AUTO</td>\n",
       "    </tr>\n",
       "    <tr>\n",
       "      <td>146</td>\n",
       "      <td>2002</td>\n",
       "      <td>SE</td>\n",
       "      <td>5995.0</td>\n",
       "      <td>87003.0</td>\n",
       "      <td>AUTO</td>\n",
       "    </tr>\n",
       "    <tr>\n",
       "      <td>147</td>\n",
       "      <td>2000</td>\n",
       "      <td>SE</td>\n",
       "      <td>5980.0</td>\n",
       "      <td>NaN</td>\n",
       "      <td>AUTO</td>\n",
       "    </tr>\n",
       "    <tr>\n",
       "      <td>148</td>\n",
       "      <td>2001</td>\n",
       "      <td>SE</td>\n",
       "      <td>4899.0</td>\n",
       "      <td>151479.0</td>\n",
       "      <td>AUTO</td>\n",
       "    </tr>\n",
       "    <tr>\n",
       "      <td>149</td>\n",
       "      <td>2000</td>\n",
       "      <td>SE</td>\n",
       "      <td>3800.0</td>\n",
       "      <td>109259.0</td>\n",
       "      <td>AUTO</td>\n",
       "    </tr>\n",
       "  </tbody>\n",
       "</table>\n",
       "<p>150 rows × 5 columns</p>\n",
       "</div>"
      ],
      "text/plain": [
       "     year model    price   mileage transmission\n",
       "0    2011   SEL  21992.0    7413.0         AUTO\n",
       "1    2011   SEL  20995.0   10926.0         AUTO\n",
       "2    2011   SEL  19995.0    7351.0         AUTO\n",
       "3    2011   SEL  17809.0   11613.0         AUTO\n",
       "4    2012    SE  17500.0    8367.0         AUTO\n",
       "..    ...   ...      ...       ...          ...\n",
       "145  2006   SES   6200.0   95000.0         AUTO\n",
       "146  2002    SE   5995.0   87003.0         AUTO\n",
       "147  2000    SE   5980.0       NaN         AUTO\n",
       "148  2001    SE   4899.0  151479.0         AUTO\n",
       "149  2000    SE   3800.0  109259.0         AUTO\n",
       "\n",
       "[150 rows x 5 columns]"
      ]
     },
     "execution_count": 47,
     "metadata": {},
     "output_type": "execute_result"
    }
   ],
   "source": [
    "cdata.drop(columns=[\"color\"])"
   ]
  },
  {
   "cell_type": "code",
   "execution_count": 48,
   "metadata": {},
   "outputs": [
    {
     "data": {
      "text/plain": [
       "150"
      ]
     },
     "execution_count": 48,
     "metadata": {},
     "output_type": "execute_result"
    }
   ],
   "source": [
    "cdata['model'].count()"
   ]
  },
  {
   "cell_type": "code",
   "execution_count": 49,
   "metadata": {},
   "outputs": [
    {
     "data": {
      "text/plain": [
       "(150, 6)"
      ]
     },
     "execution_count": 49,
     "metadata": {},
     "output_type": "execute_result"
    }
   ],
   "source": [
    "cdata.shape"
   ]
  },
  {
   "cell_type": "code",
   "execution_count": 75,
   "metadata": {},
   "outputs": [
    {
     "data": {
      "text/plain": [
       "<matplotlib.axes._subplots.AxesSubplot at 0x1db77585348>"
      ]
     },
     "execution_count": 75,
     "metadata": {},
     "output_type": "execute_result"
    },
    {
     "data": {
      "image/png": "[encoded data removed]",
      "text/plain": [
       "<Figure size 432x288 with 1 Axes>"
      ]
     },
     "metadata": {
      "needs_background": "light"
     },
     "output_type": "display_data"
    }
   ],
   "source": [
    "%matplotlib inline\n",
    "cdata.boxplot(column='price')"
   ]
  },
  {
   "cell_type": "code",
   "execution_count": 76,
   "metadata": {},
   "outputs": [
    {
     "data": {
      "text/plain": [
       "<matplotlib.axes._subplots.AxesSubplot at 0x1db778f3648>"
      ]
     },
     "execution_count": 76,
     "metadata": {},
     "output_type": "execute_result"
    },
    {
     "data": {
      "image/png": "[encoded data removed]",
      "text/plain": [
       "<Figure size 432x288 with 1 Axes>"
      ]
     },
     "metadata": {
      "needs_background": "light"
     },
     "output_type": "display_data"
    }
   ],
   "source": [
    "cdata.boxplot(column='mileage')"
   ]
  },
  {
   "cell_type": "code",
   "execution_count": 50,
   "metadata": {},
   "outputs": [
    {
     "data": {
      "text/plain": [
       "year            0\n",
       "model           0\n",
       "price           8\n",
       "mileage         7\n",
       "color           0\n",
       "transmission    0\n",
       "dtype: int64"
      ]
     },
     "execution_count": 50,
     "metadata": {},
     "output_type": "execute_result"
    }
   ],
   "source": [
    "cdata.apply(lambda x: sum(x.isnull()),axis=0)"
   ]
  },
  {
   "cell_type": "code",
   "execution_count": 51,
   "metadata": {},
   "outputs": [],
   "source": [
    "features = cdata.iloc[:,:-1].values"
   ]
  },
  {
   "cell_type": "code",
   "execution_count": 52,
   "metadata": {},
   "outputs": [
    {
     "data": {
      "text/plain": [
       "array([[2011, 'SEL', 21992.0, 7413.0, 'Yellow'],\n",
       "       [2011, 'SEL', 20995.0, 10926.0, 'Gray'],\n",
       "       [2011, 'SEL', 19995.0, 7351.0, 'Silver'],\n",
       "       [2011, 'SEL', 17809.0, 11613.0, 'Gray'],\n",
       "       [2012, 'SE', 17500.0, 8367.0, 'White'],\n",
       "       [2010, 'SEL', 17495.0, 25125.0, 'Silver'],\n",
       "       [2011, 'SEL', 17000.0, nan, 'Blue'],\n",
       "       [2010, 'SEL', 16995.0, 21026.0, 'Silver'],\n",
       "       [2011, 'SES', nan, 32655.0, 'Silver'],\n",
       "       [2010, 'SES', 16995.0, 36116.0, 'Silver'],\n",
       "       [2010, 'SES', 16995.0, 40539.0, 'Black'],\n",
       "       [2011, 'SES', 16992.0, 9199.0, 'Silver'],\n",
       "       [2011, 'SEL', 16950.0, 9388.0, 'Green'],\n",
       "       [2010, 'SES', 16950.0, 32058.0, 'Red'],\n",
       "       [2011, 'SE', 16000.0, 15367.0, 'White'],\n",
       "       [2011, 'SES', 15999.0, 16368.0, 'Blue'],\n",
       "       [2010, 'SEL', 15999.0, 19926.0, 'Silver'],\n",
       "       [2010, 'SES', 15995.0, nan, 'Silver'],\n",
       "       [2011, 'SEL', 15992.0, 11662.0, 'Blue'],\n",
       "       [2011, 'SEL', 15992.0, 32069.0, 'Silver'],\n",
       "       [2010, 'SES', 15988.0, 16035.0, 'Silver'],\n",
       "       [2010, 'SEL', 15980.0, 39943.0, 'Black'],\n",
       "       [2011, 'SE', 15899.0, 36685.0, 'Silver'],\n",
       "       [2010, 'SEL', 15889.0, 24920.0, 'Black'],\n",
       "       [2009, 'SEL', nan, 20019.0, 'Blue'],\n",
       "       [2010, 'SE', 15500.0, 29338.0, 'Blue'],\n",
       "       [2010, 'SE', 15499.0, 7784.0, 'Black'],\n",
       "       [2010, 'SE', 15499.0, 35636.0, 'Black'],\n",
       "       [2010, 'SES', 15298.0, 22029.0, 'Gray'],\n",
       "       [2009, 'SEL', 14999.0, 33107.0, 'Silver'],\n",
       "       [2010, 'SES', 14999.0, 36306.0, 'Black'],\n",
       "       [2009, 'SE', 14995.0, 34419.0, 'Black'],\n",
       "       [2011, 'SE', 14992.0, 4867.0, 'Black'],\n",
       "       [2011, 'SEL', 14992.0, 18948.0, 'Black'],\n",
       "       [2009, 'SES', 14992.0, 24030.0, 'Red'],\n",
       "       [2010, 'SEL', 14990.0, 33036.0, 'Black'],\n",
       "       [2011, 'SE', 14989.0, 23967.0, 'White'],\n",
       "       [2010, 'SE', 14906.0, nan, 'Silver'],\n",
       "       [2010, 'SE', 14900.0, 28955.0, 'White'],\n",
       "       [2010, 'SE', nan, 11165.0, 'White'],\n",
       "       [2010, 'SES', 14761.0, 44813.0, 'Black'],\n",
       "       [2010, 'SES', 14699.0, 36469.0, 'Gray'],\n",
       "       [2010, 'SES', 14677.0, 22143.0, 'Black'],\n",
       "       [2009, 'SES', 14549.0, 34046.0, 'Silver'],\n",
       "       [2010, 'SE', 14499.0, 32703.0, 'Red'],\n",
       "       [2010, 'SES', 14495.0, 35894.0, 'Silver'],\n",
       "       [2010, 'SE', 14495.0, 38275.0, 'Black'],\n",
       "       [2010, 'SE', 14480.0, 24855.0, 'Blue'],\n",
       "       [2009, 'SEL', 14477.0, 29501.0, 'Gray'],\n",
       "       [2009, 'SEL', 14355.0, 35394.0, 'Red'],\n",
       "       [2010, 'SE', 14299.0, 36447.0, 'Black'],\n",
       "       [2010, 'SES', 14275.0, 35318.0, 'Black'],\n",
       "       [2010, 'SES', 14000.0, 24929.0, 'Silver'],\n",
       "       [2009, 'SE', 13999.0, 23785.0, 'Red'],\n",
       "       [2010, 'SE', 13997.0, 15167.0, 'Black'],\n",
       "       [2010, 'SE', 13995.0, 13541.0, 'Silver'],\n",
       "       [2010, 'SE', 13995.0, 20278.0, 'Black'],\n",
       "       [2009, 'SES', 13995.0, 46126.0, 'Black'],\n",
       "       [2009, 'SES', 13995.0, 53733.0, 'Silver'],\n",
       "       [2009, 'SES', 13992.0, 21108.0, 'Silver'],\n",
       "       [2010, 'SE', 13992.0, 21721.0, 'Green'],\n",
       "       [2010, 'SES', 13992.0, 26716.0, 'Gray'],\n",
       "       [2009, 'SES', 13992.0, 26887.0, 'Black'],\n",
       "       [2009, 'SE', 13991.0, 36252.0, 'Silver'],\n",
       "       [2009, 'SE', 13950.0, 9450.0, 'Black'],\n",
       "       [2010, 'SE', 13950.0, 31414.0, 'Black'],\n",
       "       [2010, 'SE', 13950.0, 37185.0, 'Blue'],\n",
       "       [2010, 'SE', 13895.0, 48174.0, 'Gray'],\n",
       "       [2009, 'SE', 13888.0, 50533.0, 'White'],\n",
       "       [2009, 'SE', 13845.0, 36713.0, 'Blue'],\n",
       "       [2009, 'SES', 13799.0, 34888.0, 'Black'],\n",
       "       [2009, 'SES', 13742.0, 38380.0, 'Black'],\n",
       "       [2010, 'SEL', 13687.0, 35574.0, 'Gray'],\n",
       "       [2009, 'SEL', 13663.0, 27528.0, 'Silver'],\n",
       "       [2010, 'SES', 13599.0, 33302.0, 'Red'],\n",
       "       [2009, 'SEL', 13584.0, 43369.0, 'Red'],\n",
       "       [2009, 'SES', 13425.0, nan, 'Black'],\n",
       "       [2010, 'SE', 13384.0, 41342.0, 'Gray'],\n",
       "       [2010, 'SE', 13383.0, 34503.0, 'Black'],\n",
       "       [2010, 'SE', nan, 16573.0, 'Blue'],\n",
       "       [2009, 'SES', 12999.0, 32403.0, 'Blue'],\n",
       "       [2009, 'SE', 12998.0, 34846.0, 'Black'],\n",
       "       [2007, 'SE', 12997.0, 39665.0, 'Red'],\n",
       "       [2010, 'SE', nan, 21325.0, 'Black'],\n",
       "       [2010, 'SE', 12995.0, 32743.0, 'Black'],\n",
       "       [2010, 'SE', 12995.0, 40058.0, 'White'],\n",
       "       [2009, 'SE', 12995.0, 42325.0, 'Blue'],\n",
       "       [2009, 'SE', nan, 44518.0, 'Black'],\n",
       "       [2009, 'SE', 12995.0, 53902.0, 'Gray'],\n",
       "       [2008, 'SE', 12995.0, 127327.0, 'Red'],\n",
       "       [2009, 'SE', 12992.0, 27136.0, 'Gray'],\n",
       "       [2009, 'SES', 12990.0, 45813.0, 'Silver'],\n",
       "       [2009, 'SE', nan, 31538.0, 'Gray'],\n",
       "       [2010, 'SE', 12849.0, 29517.0, 'Silver'],\n",
       "       [2010, 'SE', 12780.0, 35871.0, 'Black'],\n",
       "       [2008, 'SE', 12777.0, 49787.0, 'Black'],\n",
       "       [2008, 'SES', 12704.0, 36323.0, 'Blue'],\n",
       "       [2009, 'SES', 12595.0, 39211.0, 'Blue'],\n",
       "       [2009, 'SE', 12507.0, 44789.0, 'Black'],\n",
       "       [2008, 'SE', 12500.0, 45996.0, 'White'],\n",
       "       [2009, 'SE', 12500.0, nan, 'White'],\n",
       "       [2009, 'SE', 12280.0, 29288.0, 'Red'],\n",
       "       [2009, 'SE', 11999.0, 36124.0, 'Blue'],\n",
       "       [2009, 'SE', 11992.0, 32559.0, 'Black'],\n",
       "       [2009, 'SES', 11984.0, 59048.0, 'Black'],\n",
       "       [2009, 'SE', 11980.0, 55170.0, 'Black'],\n",
       "       [2010, 'SE', 11792.0, 39722.0, 'Green'],\n",
       "       [2008, 'SE', 11754.0, 38286.0, 'Black'],\n",
       "       [2008, 'SES', 11749.0, 57341.0, 'Red'],\n",
       "       [2008, 'SES', 11495.0, 82221.0, 'Silver'],\n",
       "       [2008, 'SE', 11450.0, 85229.0, 'Red'],\n",
       "       [2009, 'SES', 10995.0, 42834.0, 'Red'],\n",
       "       [2005, 'SES', 10995.0, 69415.0, 'Blue'],\n",
       "       [2009, 'SEL', 10995.0, 78264.0, 'Gray'],\n",
       "       [2009, 'SE', 10979.0, 60709.0, 'Red'],\n",
       "       [2008, 'SE', 10955.0, 39643.0, 'Gray'],\n",
       "       [2009, 'SE', 10955.0, 40180.0, 'Gold'],\n",
       "       [2008, 'SE', 10836.0, 40330.0, 'Green'],\n",
       "       [2007, 'SES', 10815.0, 77231.0, 'Red'],\n",
       "       [2007, 'SE', 10770.0, 72937.0, 'Silver'],\n",
       "       [2010, 'SE', 10717.0, 64199.0, 'Black'],\n",
       "       [2007, 'SES', 10000.0, 63926.0, 'Red'],\n",
       "       [2007, 'SES', 9999.0, 74427.0, 'Silver'],\n",
       "       [2007, 'SES', 9999.0, 78948.0, 'Black'],\n",
       "       [2006, 'SE', 9995.0, 51311.0, 'Silver'],\n",
       "       [2008, 'SE', nan, 95364.0, 'White'],\n",
       "       [2008, 'SE', 9992.0, 74109.0, 'White'],\n",
       "       [2007, 'SE', 9651.0, 63296.0, 'Blue'],\n",
       "       [2007, 'SES', 9000.0, 80605.0, 'Red'],\n",
       "       [2006, 'SE', 8999.0, 49656.0, 'Silver'],\n",
       "       [2007, 'SE', 8996.0, 48652.0, 'Silver'],\n",
       "       [2006, 'SE', 8800.0, 71331.0, 'White'],\n",
       "       [2008, 'SE', 8495.0, 106171.0, 'Black'],\n",
       "       [2008, 'SE', 8494.0, nan, 'Silver'],\n",
       "       [2009, 'SE', 8480.0, 70036.0, 'Black'],\n",
       "       [2007, 'SES', 7999.0, 81596.0, 'Yellow'],\n",
       "       [2006, 'SES', 7995.0, 35000.0, 'Black'],\n",
       "       [2006, 'SES', 7995.0, 97987.0, 'Red'],\n",
       "       [2003, 'SES', 7900.0, 96000.0, 'White'],\n",
       "       [2005, 'SES', 7488.0, 59013.0, 'Red'],\n",
       "       [2004, 'SE', 6999.0, 105714.0, 'Silver'],\n",
       "       [2007, 'SE', 6995.0, 86862.0, 'White'],\n",
       "       [2000, 'SE', 6980.0, 60161.0, 'Green'],\n",
       "       [2004, 'SES', 6980.0, 101130.0, 'Gray'],\n",
       "       [2004, 'SES', 6950.0, 119720.0, 'Black'],\n",
       "       [2006, 'SES', 6200.0, 95000.0, 'Silver'],\n",
       "       [2002, 'SE', 5995.0, 87003.0, 'Red'],\n",
       "       [2000, 'SE', 5980.0, nan, 'Red'],\n",
       "       [2001, 'SE', 4899.0, 151479.0, 'Yellow'],\n",
       "       [2000, 'SE', 3800.0, 109259.0, 'Red']], dtype=object)"
      ]
     },
     "execution_count": 52,
     "metadata": {},
     "output_type": "execute_result"
    }
   ],
   "source": [
    "features"
   ]
  },
  {
   "cell_type": "code",
   "execution_count": 53,
   "metadata": {},
   "outputs": [
    {
     "data": {
      "text/plain": [
       "array(['AUTO', 'AUTO', 'AUTO', 'AUTO', 'AUTO', 'AUTO', 'AUTO', 'AUTO',\n",
       "       'AUTO', 'AUTO', 'AUTO', 'AUTO', 'AUTO', 'AUTO', 'AUTO', 'AUTO',\n",
       "       'AUTO', 'AUTO', 'AUTO', 'AUTO', 'MANUAL', 'AUTO', 'AUTO', 'AUTO',\n",
       "       'AUTO', 'AUTO', 'AUTO', 'AUTO', 'AUTO', 'AUTO', 'AUTO', 'MANUAL',\n",
       "       'AUTO', 'AUTO', 'AUTO', 'AUTO', 'AUTO', 'AUTO', 'AUTO', 'AUTO',\n",
       "       'AUTO', 'AUTO', 'AUTO', 'AUTO', 'AUTO', 'AUTO', 'AUTO', 'AUTO',\n",
       "       'MANUAL', 'AUTO', 'AUTO', 'AUTO', 'AUTO', 'AUTO', 'MANUAL', 'AUTO',\n",
       "       'AUTO', 'AUTO', 'AUTO', 'AUTO', 'AUTO', 'MANUAL', 'AUTO', 'MANUAL',\n",
       "       'AUTO', 'AUTO', 'AUTO', 'AUTO', 'AUTO', 'AUTO', 'AUTO', 'AUTO',\n",
       "       'AUTO', 'AUTO', 'AUTO', 'AUTO', 'AUTO', 'AUTO', 'AUTO', 'AUTO',\n",
       "       'AUTO', 'AUTO', 'AUTO', 'AUTO', 'MANUAL', 'AUTO', 'AUTO', 'AUTO',\n",
       "       'AUTO', 'AUTO', 'AUTO', 'AUTO', 'AUTO', 'AUTO', 'AUTO', 'AUTO',\n",
       "       'AUTO', 'AUTO', 'AUTO', 'MANUAL', 'MANUAL', 'AUTO', 'AUTO',\n",
       "       'MANUAL', 'AUTO', 'AUTO', 'AUTO', 'AUTO', 'AUTO', 'AUTO', 'MANUAL',\n",
       "       'AUTO', 'AUTO', 'AUTO', 'AUTO', 'AUTO', 'AUTO', 'MANUAL', 'AUTO',\n",
       "       'MANUAL', 'AUTO', 'AUTO', 'AUTO', 'MANUAL', 'AUTO', 'AUTO', 'AUTO',\n",
       "       'AUTO', 'AUTO', 'AUTO', 'MANUAL', 'AUTO', 'AUTO', 'AUTO', 'MANUAL',\n",
       "       'MANUAL', 'MANUAL', 'AUTO', 'AUTO', 'AUTO', 'AUTO', 'AUTO', 'AUTO',\n",
       "       'AUTO', 'AUTO', 'AUTO', 'AUTO', 'AUTO', 'AUTO', 'AUTO'],\n",
       "      dtype=object)"
      ]
     },
     "execution_count": 53,
     "metadata": {},
     "output_type": "execute_result"
    }
   ],
   "source": [
    "labels = cdata.iloc[:,-1].values\n",
    "labels"
   ]
  },
  {
   "cell_type": "code",
   "execution_count": 54,
   "metadata": {},
   "outputs": [
    {
     "name": "stderr",
     "output_type": "stream",
     "text": [
      "C:\\Users\\AbhilashMandadhi\\Anaconda3\\lib\\site-packages\\sklearn\\utils\\deprecation.py:66: DeprecationWarning: Class Imputer is deprecated; Imputer was deprecated in version 0.20 and will be removed in 0.22. Import impute.SimpleImputer from sklearn instead.\n",
      "  warnings.warn(msg, category=DeprecationWarning)\n"
     ]
    }
   ],
   "source": [
    "from sklearn.preprocessing import Imputer\n",
    "imputer = Imputer(missing_values='NaN', strategy='mean',axis=0)\n",
    "\n",
    "#2 step transformation\n",
    "#Fit and transform\n",
    "imputer.fit(features[:,[2,3]])\n",
    "features[:,[2,3]] = imputer.fit_transform(features[:,[2,3]])"
   ]
  },
  {
   "cell_type": "code",
   "execution_count": 55,
   "metadata": {},
   "outputs": [
    {
     "data": {
      "text/plain": [
       "array([[2011, 'SEL', 21992.0, 7413.0, 'Yellow'],\n",
       "       [2011, 'SEL', 20995.0, 10926.0, 'Gray'],\n",
       "       [2011, 'SEL', 19995.0, 7351.0, 'Silver'],\n",
       "       [2011, 'SEL', 17809.0, 11613.0, 'Gray'],\n",
       "       [2012, 'SE', 17500.0, 8367.0, 'White'],\n",
       "       [2010, 'SEL', 17495.0, 25125.0, 'Silver'],\n",
       "       [2011, 'SEL', 17000.0, 43727.02797202797, 'Blue'],\n",
       "       [2010, 'SEL', 16995.0, 21026.0, 'Silver'],\n",
       "       [2011, 'SES', 12918.24647887324, 32655.0, 'Silver'],\n",
       "       [2010, 'SES', 16995.0, 36116.0, 'Silver'],\n",
       "       [2010, 'SES', 16995.0, 40539.0, 'Black'],\n",
       "       [2011, 'SES', 16992.0, 9199.0, 'Silver'],\n",
       "       [2011, 'SEL', 16950.0, 9388.0, 'Green'],\n",
       "       [2010, 'SES', 16950.0, 32058.0, 'Red'],\n",
       "       [2011, 'SE', 16000.0, 15367.0, 'White'],\n",
       "       [2011, 'SES', 15999.0, 16368.0, 'Blue'],\n",
       "       [2010, 'SEL', 15999.0, 19926.0, 'Silver'],\n",
       "       [2010, 'SES', 15995.0, 43727.02797202797, 'Silver'],\n",
       "       [2011, 'SEL', 15992.0, 11662.0, 'Blue'],\n",
       "       [2011, 'SEL', 15992.0, 32069.0, 'Silver'],\n",
       "       [2010, 'SES', 15988.0, 16035.0, 'Silver'],\n",
       "       [2010, 'SEL', 15980.0, 39943.0, 'Black'],\n",
       "       [2011, 'SE', 15899.0, 36685.0, 'Silver'],\n",
       "       [2010, 'SEL', 15889.0, 24920.0, 'Black'],\n",
       "       [2009, 'SEL', 12918.24647887324, 20019.0, 'Blue'],\n",
       "       [2010, 'SE', 15500.0, 29338.0, 'Blue'],\n",
       "       [2010, 'SE', 15499.0, 7784.0, 'Black'],\n",
       "       [2010, 'SE', 15499.0, 35636.0, 'Black'],\n",
       "       [2010, 'SES', 15298.0, 22029.0, 'Gray'],\n",
       "       [2009, 'SEL', 14999.0, 33107.0, 'Silver'],\n",
       "       [2010, 'SES', 14999.0, 36306.0, 'Black'],\n",
       "       [2009, 'SE', 14995.0, 34419.0, 'Black'],\n",
       "       [2011, 'SE', 14992.0, 4867.0, 'Black'],\n",
       "       [2011, 'SEL', 14992.0, 18948.0, 'Black'],\n",
       "       [2009, 'SES', 14992.0, 24030.0, 'Red'],\n",
       "       [2010, 'SEL', 14990.0, 33036.0, 'Black'],\n",
       "       [2011, 'SE', 14989.0, 23967.0, 'White'],\n",
       "       [2010, 'SE', 14906.0, 43727.02797202797, 'Silver'],\n",
       "       [2010, 'SE', 14900.0, 28955.0, 'White'],\n",
       "       [2010, 'SE', 12918.24647887324, 11165.0, 'White'],\n",
       "       [2010, 'SES', 14761.0, 44813.0, 'Black'],\n",
       "       [2010, 'SES', 14699.0, 36469.0, 'Gray'],\n",
       "       [2010, 'SES', 14677.0, 22143.0, 'Black'],\n",
       "       [2009, 'SES', 14549.0, 34046.0, 'Silver'],\n",
       "       [2010, 'SE', 14499.0, 32703.0, 'Red'],\n",
       "       [2010, 'SES', 14495.0, 35894.0, 'Silver'],\n",
       "       [2010, 'SE', 14495.0, 38275.0, 'Black'],\n",
       "       [2010, 'SE', 14480.0, 24855.0, 'Blue'],\n",
       "       [2009, 'SEL', 14477.0, 29501.0, 'Gray'],\n",
       "       [2009, 'SEL', 14355.0, 35394.0, 'Red'],\n",
       "       [2010, 'SE', 14299.0, 36447.0, 'Black'],\n",
       "       [2010, 'SES', 14275.0, 35318.0, 'Black'],\n",
       "       [2010, 'SES', 14000.0, 24929.0, 'Silver'],\n",
       "       [2009, 'SE', 13999.0, 23785.0, 'Red'],\n",
       "       [2010, 'SE', 13997.0, 15167.0, 'Black'],\n",
       "       [2010, 'SE', 13995.0, 13541.0, 'Silver'],\n",
       "       [2010, 'SE', 13995.0, 20278.0, 'Black'],\n",
       "       [2009, 'SES', 13995.0, 46126.0, 'Black'],\n",
       "       [2009, 'SES', 13995.0, 53733.0, 'Silver'],\n",
       "       [2009, 'SES', 13992.0, 21108.0, 'Silver'],\n",
       "       [2010, 'SE', 13992.0, 21721.0, 'Green'],\n",
       "       [2010, 'SES', 13992.0, 26716.0, 'Gray'],\n",
       "       [2009, 'SES', 13992.0, 26887.0, 'Black'],\n",
       "       [2009, 'SE', 13991.0, 36252.0, 'Silver'],\n",
       "       [2009, 'SE', 13950.0, 9450.0, 'Black'],\n",
       "       [2010, 'SE', 13950.0, 31414.0, 'Black'],\n",
       "       [2010, 'SE', 13950.0, 37185.0, 'Blue'],\n",
       "       [2010, 'SE', 13895.0, 48174.0, 'Gray'],\n",
       "       [2009, 'SE', 13888.0, 50533.0, 'White'],\n",
       "       [2009, 'SE', 13845.0, 36713.0, 'Blue'],\n",
       "       [2009, 'SES', 13799.0, 34888.0, 'Black'],\n",
       "       [2009, 'SES', 13742.0, 38380.0, 'Black'],\n",
       "       [2010, 'SEL', 13687.0, 35574.0, 'Gray'],\n",
       "       [2009, 'SEL', 13663.0, 27528.0, 'Silver'],\n",
       "       [2010, 'SES', 13599.0, 33302.0, 'Red'],\n",
       "       [2009, 'SEL', 13584.0, 43369.0, 'Red'],\n",
       "       [2009, 'SES', 13425.0, 43727.02797202797, 'Black'],\n",
       "       [2010, 'SE', 13384.0, 41342.0, 'Gray'],\n",
       "       [2010, 'SE', 13383.0, 34503.0, 'Black'],\n",
       "       [2010, 'SE', 12918.24647887324, 16573.0, 'Blue'],\n",
       "       [2009, 'SES', 12999.0, 32403.0, 'Blue'],\n",
       "       [2009, 'SE', 12998.0, 34846.0, 'Black'],\n",
       "       [2007, 'SE', 12997.0, 39665.0, 'Red'],\n",
       "       [2010, 'SE', 12918.24647887324, 21325.0, 'Black'],\n",
       "       [2010, 'SE', 12995.0, 32743.0, 'Black'],\n",
       "       [2010, 'SE', 12995.0, 40058.0, 'White'],\n",
       "       [2009, 'SE', 12995.0, 42325.0, 'Blue'],\n",
       "       [2009, 'SE', 12918.24647887324, 44518.0, 'Black'],\n",
       "       [2009, 'SE', 12995.0, 53902.0, 'Gray'],\n",
       "       [2008, 'SE', 12995.0, 127327.0, 'Red'],\n",
       "       [2009, 'SE', 12992.0, 27136.0, 'Gray'],\n",
       "       [2009, 'SES', 12990.0, 45813.0, 'Silver'],\n",
       "       [2009, 'SE', 12918.24647887324, 31538.0, 'Gray'],\n",
       "       [2010, 'SE', 12849.0, 29517.0, 'Silver'],\n",
       "       [2010, 'SE', 12780.0, 35871.0, 'Black'],\n",
       "       [2008, 'SE', 12777.0, 49787.0, 'Black'],\n",
       "       [2008, 'SES', 12704.0, 36323.0, 'Blue'],\n",
       "       [2009, 'SES', 12595.0, 39211.0, 'Blue'],\n",
       "       [2009, 'SE', 12507.0, 44789.0, 'Black'],\n",
       "       [2008, 'SE', 12500.0, 45996.0, 'White'],\n",
       "       [2009, 'SE', 12500.0, 43727.02797202797, 'White'],\n",
       "       [2009, 'SE', 12280.0, 29288.0, 'Red'],\n",
       "       [2009, 'SE', 11999.0, 36124.0, 'Blue'],\n",
       "       [2009, 'SE', 11992.0, 32559.0, 'Black'],\n",
       "       [2009, 'SES', 11984.0, 59048.0, 'Black'],\n",
       "       [2009, 'SE', 11980.0, 55170.0, 'Black'],\n",
       "       [2010, 'SE', 11792.0, 39722.0, 'Green'],\n",
       "       [2008, 'SE', 11754.0, 38286.0, 'Black'],\n",
       "       [2008, 'SES', 11749.0, 57341.0, 'Red'],\n",
       "       [2008, 'SES', 11495.0, 82221.0, 'Silver'],\n",
       "       [2008, 'SE', 11450.0, 85229.0, 'Red'],\n",
       "       [2009, 'SES', 10995.0, 42834.0, 'Red'],\n",
       "       [2005, 'SES', 10995.0, 69415.0, 'Blue'],\n",
       "       [2009, 'SEL', 10995.0, 78264.0, 'Gray'],\n",
       "       [2009, 'SE', 10979.0, 60709.0, 'Red'],\n",
       "       [2008, 'SE', 10955.0, 39643.0, 'Gray'],\n",
       "       [2009, 'SE', 10955.0, 40180.0, 'Gold'],\n",
       "       [2008, 'SE', 10836.0, 40330.0, 'Green'],\n",
       "       [2007, 'SES', 10815.0, 77231.0, 'Red'],\n",
       "       [2007, 'SE', 10770.0, 72937.0, 'Silver'],\n",
       "       [2010, 'SE', 10717.0, 64199.0, 'Black'],\n",
       "       [2007, 'SES', 10000.0, 63926.0, 'Red'],\n",
       "       [2007, 'SES', 9999.0, 74427.0, 'Silver'],\n",
       "       [2007, 'SES', 9999.0, 78948.0, 'Black'],\n",
       "       [2006, 'SE', 9995.0, 51311.0, 'Silver'],\n",
       "       [2008, 'SE', 12918.24647887324, 95364.0, 'White'],\n",
       "       [2008, 'SE', 9992.0, 74109.0, 'White'],\n",
       "       [2007, 'SE', 9651.0, 63296.0, 'Blue'],\n",
       "       [2007, 'SES', 9000.0, 80605.0, 'Red'],\n",
       "       [2006, 'SE', 8999.0, 49656.0, 'Silver'],\n",
       "       [2007, 'SE', 8996.0, 48652.0, 'Silver'],\n",
       "       [2006, 'SE', 8800.0, 71331.0, 'White'],\n",
       "       [2008, 'SE', 8495.0, 106171.0, 'Black'],\n",
       "       [2008, 'SE', 8494.0, 43727.02797202797, 'Silver'],\n",
       "       [2009, 'SE', 8480.0, 70036.0, 'Black'],\n",
       "       [2007, 'SES', 7999.0, 81596.0, 'Yellow'],\n",
       "       [2006, 'SES', 7995.0, 35000.0, 'Black'],\n",
       "       [2006, 'SES', 7995.0, 97987.0, 'Red'],\n",
       "       [2003, 'SES', 7900.0, 96000.0, 'White'],\n",
       "       [2005, 'SES', 7488.0, 59013.0, 'Red'],\n",
       "       [2004, 'SE', 6999.0, 105714.0, 'Silver'],\n",
       "       [2007, 'SE', 6995.0, 86862.0, 'White'],\n",
       "       [2000, 'SE', 6980.0, 60161.0, 'Green'],\n",
       "       [2004, 'SES', 6980.0, 101130.0, 'Gray'],\n",
       "       [2004, 'SES', 6950.0, 119720.0, 'Black'],\n",
       "       [2006, 'SES', 6200.0, 95000.0, 'Silver'],\n",
       "       [2002, 'SE', 5995.0, 87003.0, 'Red'],\n",
       "       [2000, 'SE', 5980.0, 43727.02797202797, 'Red'],\n",
       "       [2001, 'SE', 4899.0, 151479.0, 'Yellow'],\n",
       "       [2000, 'SE', 3800.0, 109259.0, 'Red']], dtype=object)"
      ]
     },
     "execution_count": 55,
     "metadata": {},
     "output_type": "execute_result"
    }
   ],
   "source": [
    "features"
   ]
  },
  {
   "cell_type": "code",
   "execution_count": 56,
   "metadata": {},
   "outputs": [],
   "source": [
    "df1 = pd.DataFrame(features)"
   ]
  },
  {
   "cell_type": "code",
   "execution_count": 57,
   "metadata": {},
   "outputs": [
    {
     "data": {
      "text/html": [
       "<div>\n",
       "<style scoped>\n",
       "    .dataframe tbody tr th:only-of-type {\n",
       "        vertical-align: middle;\n",
       "    }\n",
       "\n",
       "    .dataframe tbody tr th {\n",
       "        vertical-align: top;\n",
       "    }\n",
       "\n",
       "    .dataframe thead th {\n",
       "        text-align: right;\n",
       "    }\n",
       "</style>\n",
       "<table border=\"1\" class=\"dataframe\">\n",
       "  <thead>\n",
       "    <tr style=\"text-align: right;\">\n",
       "      <th></th>\n",
       "      <th>0</th>\n",
       "      <th>1</th>\n",
       "      <th>2</th>\n",
       "      <th>3</th>\n",
       "      <th>4</th>\n",
       "    </tr>\n",
       "  </thead>\n",
       "  <tbody>\n",
       "    <tr>\n",
       "      <td>0</td>\n",
       "      <td>2011</td>\n",
       "      <td>SEL</td>\n",
       "      <td>21992</td>\n",
       "      <td>7413</td>\n",
       "      <td>Yellow</td>\n",
       "    </tr>\n",
       "    <tr>\n",
       "      <td>1</td>\n",
       "      <td>2011</td>\n",
       "      <td>SEL</td>\n",
       "      <td>20995</td>\n",
       "      <td>10926</td>\n",
       "      <td>Gray</td>\n",
       "    </tr>\n",
       "    <tr>\n",
       "      <td>2</td>\n",
       "      <td>2011</td>\n",
       "      <td>SEL</td>\n",
       "      <td>19995</td>\n",
       "      <td>7351</td>\n",
       "      <td>Silver</td>\n",
       "    </tr>\n",
       "    <tr>\n",
       "      <td>3</td>\n",
       "      <td>2011</td>\n",
       "      <td>SEL</td>\n",
       "      <td>17809</td>\n",
       "      <td>11613</td>\n",
       "      <td>Gray</td>\n",
       "    </tr>\n",
       "    <tr>\n",
       "      <td>4</td>\n",
       "      <td>2012</td>\n",
       "      <td>SE</td>\n",
       "      <td>17500</td>\n",
       "      <td>8367</td>\n",
       "      <td>White</td>\n",
       "    </tr>\n",
       "    <tr>\n",
       "      <td>...</td>\n",
       "      <td>...</td>\n",
       "      <td>...</td>\n",
       "      <td>...</td>\n",
       "      <td>...</td>\n",
       "      <td>...</td>\n",
       "    </tr>\n",
       "    <tr>\n",
       "      <td>145</td>\n",
       "      <td>2006</td>\n",
       "      <td>SES</td>\n",
       "      <td>6200</td>\n",
       "      <td>95000</td>\n",
       "      <td>Silver</td>\n",
       "    </tr>\n",
       "    <tr>\n",
       "      <td>146</td>\n",
       "      <td>2002</td>\n",
       "      <td>SE</td>\n",
       "      <td>5995</td>\n",
       "      <td>87003</td>\n",
       "      <td>Red</td>\n",
       "    </tr>\n",
       "    <tr>\n",
       "      <td>147</td>\n",
       "      <td>2000</td>\n",
       "      <td>SE</td>\n",
       "      <td>5980</td>\n",
       "      <td>43727</td>\n",
       "      <td>Red</td>\n",
       "    </tr>\n",
       "    <tr>\n",
       "      <td>148</td>\n",
       "      <td>2001</td>\n",
       "      <td>SE</td>\n",
       "      <td>4899</td>\n",
       "      <td>151479</td>\n",
       "      <td>Yellow</td>\n",
       "    </tr>\n",
       "    <tr>\n",
       "      <td>149</td>\n",
       "      <td>2000</td>\n",
       "      <td>SE</td>\n",
       "      <td>3800</td>\n",
       "      <td>109259</td>\n",
       "      <td>Red</td>\n",
       "    </tr>\n",
       "  </tbody>\n",
       "</table>\n",
       "<p>150 rows × 5 columns</p>\n",
       "</div>"
      ],
      "text/plain": [
       "        0    1      2       3       4\n",
       "0    2011  SEL  21992    7413  Yellow\n",
       "1    2011  SEL  20995   10926    Gray\n",
       "2    2011  SEL  19995    7351  Silver\n",
       "3    2011  SEL  17809   11613    Gray\n",
       "4    2012   SE  17500    8367   White\n",
       "..    ...  ...    ...     ...     ...\n",
       "145  2006  SES   6200   95000  Silver\n",
       "146  2002   SE   5995   87003     Red\n",
       "147  2000   SE   5980   43727     Red\n",
       "148  2001   SE   4899  151479  Yellow\n",
       "149  2000   SE   3800  109259     Red\n",
       "\n",
       "[150 rows x 5 columns]"
      ]
     },
     "execution_count": 57,
     "metadata": {},
     "output_type": "execute_result"
    }
   ],
   "source": [
    "df1"
   ]
  },
  {
   "cell_type": "code",
   "execution_count": 58,
   "metadata": {},
   "outputs": [
    {
     "data": {
      "text/plain": [
       "0    0\n",
       "1    0\n",
       "2    0\n",
       "3    0\n",
       "4    0\n",
       "dtype: int64"
      ]
     },
     "execution_count": 58,
     "metadata": {},
     "output_type": "execute_result"
    }
   ],
   "source": [
    "df1.apply(lambda x: sum(x.isnull()),axis=0)"
   ]
  },
  {
   "cell_type": "code",
   "execution_count": 59,
   "metadata": {},
   "outputs": [
    {
     "data": {
      "text/html": [
       "<div>\n",
       "<style scoped>\n",
       "    .dataframe tbody tr th:only-of-type {\n",
       "        vertical-align: middle;\n",
       "    }\n",
       "\n",
       "    .dataframe tbody tr th {\n",
       "        vertical-align: top;\n",
       "    }\n",
       "\n",
       "    .dataframe thead th {\n",
       "        text-align: right;\n",
       "    }\n",
       "</style>\n",
       "<table border=\"1\" class=\"dataframe\">\n",
       "  <thead>\n",
       "    <tr style=\"text-align: right;\">\n",
       "      <th></th>\n",
       "      <th>0</th>\n",
       "      <th>1</th>\n",
       "      <th>2</th>\n",
       "      <th>3</th>\n",
       "      <th>4</th>\n",
       "    </tr>\n",
       "  </thead>\n",
       "  <tbody>\n",
       "    <tr>\n",
       "      <td>count</td>\n",
       "      <td>150</td>\n",
       "      <td>150</td>\n",
       "      <td>150.000000</td>\n",
       "      <td>150.000000</td>\n",
       "      <td>150</td>\n",
       "    </tr>\n",
       "    <tr>\n",
       "      <td>unique</td>\n",
       "      <td>13</td>\n",
       "      <td>3</td>\n",
       "      <td>114.000000</td>\n",
       "      <td>144.000000</td>\n",
       "      <td>9</td>\n",
       "    </tr>\n",
       "    <tr>\n",
       "      <td>top</td>\n",
       "      <td>2010</td>\n",
       "      <td>SE</td>\n",
       "      <td>12918.246479</td>\n",
       "      <td>43727.027972</td>\n",
       "      <td>Black</td>\n",
       "    </tr>\n",
       "    <tr>\n",
       "      <td>freq</td>\n",
       "      <td>49</td>\n",
       "      <td>78</td>\n",
       "      <td>8.000000</td>\n",
       "      <td>7.000000</td>\n",
       "      <td>42</td>\n",
       "    </tr>\n",
       "  </tbody>\n",
       "</table>\n",
       "</div>"
      ],
      "text/plain": [
       "           0    1             2             3      4\n",
       "count    150  150    150.000000    150.000000    150\n",
       "unique    13    3    114.000000    144.000000      9\n",
       "top     2010   SE  12918.246479  43727.027972  Black\n",
       "freq      49   78      8.000000      7.000000     42"
      ]
     },
     "execution_count": 59,
     "metadata": {},
     "output_type": "execute_result"
    }
   ],
   "source": [
    "df1.describe()"
   ]
  },
  {
   "cell_type": "code",
   "execution_count": 60,
   "metadata": {},
   "outputs": [
    {
     "data": {
      "text/plain": [
       "0      Yellow\n",
       "1        Gray\n",
       "2      Silver\n",
       "3        Gray\n",
       "4       White\n",
       "        ...  \n",
       "145    Silver\n",
       "146       Red\n",
       "147       Red\n",
       "148    Yellow\n",
       "149       Red\n",
       "Name: 4, Length: 150, dtype: object"
      ]
     },
     "execution_count": 60,
     "metadata": {},
     "output_type": "execute_result"
    }
   ],
   "source": [
    "df1[4]"
   ]
  },
  {
   "cell_type": "code",
   "execution_count": 61,
   "metadata": {},
   "outputs": [
    {
     "data": {
      "text/html": [
       "<div>\n",
       "<style scoped>\n",
       "    .dataframe tbody tr th:only-of-type {\n",
       "        vertical-align: middle;\n",
       "    }\n",
       "\n",
       "    .dataframe tbody tr th {\n",
       "        vertical-align: top;\n",
       "    }\n",
       "\n",
       "    .dataframe thead th {\n",
       "        text-align: right;\n",
       "    }\n",
       "</style>\n",
       "<table border=\"1\" class=\"dataframe\">\n",
       "  <thead>\n",
       "    <tr style=\"text-align: right;\">\n",
       "      <th></th>\n",
       "      <th>0</th>\n",
       "      <th>1</th>\n",
       "      <th>2</th>\n",
       "      <th>3</th>\n",
       "      <th>4</th>\n",
       "    </tr>\n",
       "  </thead>\n",
       "  <tbody>\n",
       "    <tr>\n",
       "      <td>0</td>\n",
       "      <td>2011</td>\n",
       "      <td>SEL</td>\n",
       "      <td>21992</td>\n",
       "      <td>7413</td>\n",
       "      <td>Yellow</td>\n",
       "    </tr>\n",
       "    <tr>\n",
       "      <td>1</td>\n",
       "      <td>2011</td>\n",
       "      <td>SEL</td>\n",
       "      <td>20995</td>\n",
       "      <td>10926</td>\n",
       "      <td>Gray</td>\n",
       "    </tr>\n",
       "    <tr>\n",
       "      <td>2</td>\n",
       "      <td>2011</td>\n",
       "      <td>SEL</td>\n",
       "      <td>19995</td>\n",
       "      <td>7351</td>\n",
       "      <td>Silver</td>\n",
       "    </tr>\n",
       "    <tr>\n",
       "      <td>3</td>\n",
       "      <td>2011</td>\n",
       "      <td>SEL</td>\n",
       "      <td>17809</td>\n",
       "      <td>11613</td>\n",
       "      <td>Gray</td>\n",
       "    </tr>\n",
       "    <tr>\n",
       "      <td>4</td>\n",
       "      <td>2012</td>\n",
       "      <td>SE</td>\n",
       "      <td>17500</td>\n",
       "      <td>8367</td>\n",
       "      <td>White</td>\n",
       "    </tr>\n",
       "    <tr>\n",
       "      <td>...</td>\n",
       "      <td>...</td>\n",
       "      <td>...</td>\n",
       "      <td>...</td>\n",
       "      <td>...</td>\n",
       "      <td>...</td>\n",
       "    </tr>\n",
       "    <tr>\n",
       "      <td>145</td>\n",
       "      <td>2006</td>\n",
       "      <td>SES</td>\n",
       "      <td>6200</td>\n",
       "      <td>95000</td>\n",
       "      <td>Silver</td>\n",
       "    </tr>\n",
       "    <tr>\n",
       "      <td>146</td>\n",
       "      <td>2002</td>\n",
       "      <td>SE</td>\n",
       "      <td>5995</td>\n",
       "      <td>87003</td>\n",
       "      <td>Red</td>\n",
       "    </tr>\n",
       "    <tr>\n",
       "      <td>147</td>\n",
       "      <td>2000</td>\n",
       "      <td>SE</td>\n",
       "      <td>5980</td>\n",
       "      <td>43727</td>\n",
       "      <td>Red</td>\n",
       "    </tr>\n",
       "    <tr>\n",
       "      <td>148</td>\n",
       "      <td>2001</td>\n",
       "      <td>SE</td>\n",
       "      <td>4899</td>\n",
       "      <td>151479</td>\n",
       "      <td>Yellow</td>\n",
       "    </tr>\n",
       "    <tr>\n",
       "      <td>149</td>\n",
       "      <td>2000</td>\n",
       "      <td>SE</td>\n",
       "      <td>3800</td>\n",
       "      <td>109259</td>\n",
       "      <td>Red</td>\n",
       "    </tr>\n",
       "  </tbody>\n",
       "</table>\n",
       "<p>150 rows × 5 columns</p>\n",
       "</div>"
      ],
      "text/plain": [
       "        0    1      2       3       4\n",
       "0    2011  SEL  21992    7413  Yellow\n",
       "1    2011  SEL  20995   10926    Gray\n",
       "2    2011  SEL  19995    7351  Silver\n",
       "3    2011  SEL  17809   11613    Gray\n",
       "4    2012   SE  17500    8367   White\n",
       "..    ...  ...    ...     ...     ...\n",
       "145  2006  SES   6200   95000  Silver\n",
       "146  2002   SE   5995   87003     Red\n",
       "147  2000   SE   5980   43727     Red\n",
       "148  2001   SE   4899  151479  Yellow\n",
       "149  2000   SE   3800  109259     Red\n",
       "\n",
       "[150 rows x 5 columns]"
      ]
     },
     "execution_count": 61,
     "metadata": {},
     "output_type": "execute_result"
    }
   ],
   "source": [
    "x=df1.iloc[:,0:5]\n",
    "x"
   ]
  },
  {
   "cell_type": "code",
   "execution_count": 62,
   "metadata": {},
   "outputs": [
    {
     "data": {
      "text/plain": [
       "SE     78\n",
       "SES    49\n",
       "SEL    23\n",
       "Name: 1, dtype: int64"
      ]
     },
     "execution_count": 62,
     "metadata": {},
     "output_type": "execute_result"
    }
   ],
   "source": [
    "df1[1].value_counts()"
   ]
  },
  {
   "cell_type": "code",
   "execution_count": 63,
   "metadata": {},
   "outputs": [],
   "source": [
    "df1[1].replace(['SE','SES', 'SEL'],[11,12,13],inplace=True)"
   ]
  },
  {
   "cell_type": "code",
   "execution_count": 64,
   "metadata": {},
   "outputs": [
    {
     "data": {
      "text/plain": [
       "Black     42\n",
       "Silver    32\n",
       "Red       22\n",
       "Blue      16\n",
       "Gray      15\n",
       "White     14\n",
       "Green      5\n",
       "Yellow     3\n",
       "Gold       1\n",
       "Name: 4, dtype: int64"
      ]
     },
     "execution_count": 64,
     "metadata": {},
     "output_type": "execute_result"
    }
   ],
   "source": [
    "df1[4].value_counts()"
   ]
  },
  {
   "cell_type": "code",
   "execution_count": 65,
   "metadata": {},
   "outputs": [],
   "source": [
    "df1[4].replace(['Black','Silver','Red','Blue','Gray','White','Green','Yellow','Gold'],[2,3,4,5,6,7,8,9,10],inplace=True)"
   ]
  },
  {
   "cell_type": "code",
   "execution_count": 66,
   "metadata": {},
   "outputs": [],
   "source": [
    "cdata['transmission'].replace(['AUTO','MANUAL'],[0,1],inplace=True)"
   ]
  },
  {
   "cell_type": "code",
   "execution_count": 67,
   "metadata": {},
   "outputs": [
    {
     "data": {
      "text/html": [
       "<div>\n",
       "<style scoped>\n",
       "    .dataframe tbody tr th:only-of-type {\n",
       "        vertical-align: middle;\n",
       "    }\n",
       "\n",
       "    .dataframe tbody tr th {\n",
       "        vertical-align: top;\n",
       "    }\n",
       "\n",
       "    .dataframe thead th {\n",
       "        text-align: right;\n",
       "    }\n",
       "</style>\n",
       "<table border=\"1\" class=\"dataframe\">\n",
       "  <thead>\n",
       "    <tr style=\"text-align: right;\">\n",
       "      <th></th>\n",
       "      <th>0</th>\n",
       "      <th>1</th>\n",
       "      <th>2</th>\n",
       "      <th>3</th>\n",
       "      <th>4</th>\n",
       "    </tr>\n",
       "  </thead>\n",
       "  <tbody>\n",
       "    <tr>\n",
       "      <td>0</td>\n",
       "      <td>2011</td>\n",
       "      <td>13</td>\n",
       "      <td>21992</td>\n",
       "      <td>7413</td>\n",
       "      <td>9</td>\n",
       "    </tr>\n",
       "    <tr>\n",
       "      <td>1</td>\n",
       "      <td>2011</td>\n",
       "      <td>13</td>\n",
       "      <td>20995</td>\n",
       "      <td>10926</td>\n",
       "      <td>6</td>\n",
       "    </tr>\n",
       "    <tr>\n",
       "      <td>2</td>\n",
       "      <td>2011</td>\n",
       "      <td>13</td>\n",
       "      <td>19995</td>\n",
       "      <td>7351</td>\n",
       "      <td>3</td>\n",
       "    </tr>\n",
       "    <tr>\n",
       "      <td>3</td>\n",
       "      <td>2011</td>\n",
       "      <td>13</td>\n",
       "      <td>17809</td>\n",
       "      <td>11613</td>\n",
       "      <td>6</td>\n",
       "    </tr>\n",
       "    <tr>\n",
       "      <td>4</td>\n",
       "      <td>2012</td>\n",
       "      <td>11</td>\n",
       "      <td>17500</td>\n",
       "      <td>8367</td>\n",
       "      <td>7</td>\n",
       "    </tr>\n",
       "    <tr>\n",
       "      <td>...</td>\n",
       "      <td>...</td>\n",
       "      <td>...</td>\n",
       "      <td>...</td>\n",
       "      <td>...</td>\n",
       "      <td>...</td>\n",
       "    </tr>\n",
       "    <tr>\n",
       "      <td>145</td>\n",
       "      <td>2006</td>\n",
       "      <td>12</td>\n",
       "      <td>6200</td>\n",
       "      <td>95000</td>\n",
       "      <td>3</td>\n",
       "    </tr>\n",
       "    <tr>\n",
       "      <td>146</td>\n",
       "      <td>2002</td>\n",
       "      <td>11</td>\n",
       "      <td>5995</td>\n",
       "      <td>87003</td>\n",
       "      <td>4</td>\n",
       "    </tr>\n",
       "    <tr>\n",
       "      <td>147</td>\n",
       "      <td>2000</td>\n",
       "      <td>11</td>\n",
       "      <td>5980</td>\n",
       "      <td>43727</td>\n",
       "      <td>4</td>\n",
       "    </tr>\n",
       "    <tr>\n",
       "      <td>148</td>\n",
       "      <td>2001</td>\n",
       "      <td>11</td>\n",
       "      <td>4899</td>\n",
       "      <td>151479</td>\n",
       "      <td>9</td>\n",
       "    </tr>\n",
       "    <tr>\n",
       "      <td>149</td>\n",
       "      <td>2000</td>\n",
       "      <td>11</td>\n",
       "      <td>3800</td>\n",
       "      <td>109259</td>\n",
       "      <td>4</td>\n",
       "    </tr>\n",
       "  </tbody>\n",
       "</table>\n",
       "<p>150 rows × 5 columns</p>\n",
       "</div>"
      ],
      "text/plain": [
       "        0   1      2       3  4\n",
       "0    2011  13  21992    7413  9\n",
       "1    2011  13  20995   10926  6\n",
       "2    2011  13  19995    7351  3\n",
       "3    2011  13  17809   11613  6\n",
       "4    2012  11  17500    8367  7\n",
       "..    ...  ..    ...     ... ..\n",
       "145  2006  12   6200   95000  3\n",
       "146  2002  11   5995   87003  4\n",
       "147  2000  11   5980   43727  4\n",
       "148  2001  11   4899  151479  9\n",
       "149  2000  11   3800  109259  4\n",
       "\n",
       "[150 rows x 5 columns]"
      ]
     },
     "execution_count": 67,
     "metadata": {},
     "output_type": "execute_result"
    }
   ],
   "source": [
    "x=df1.iloc[:,0:5]\n",
    "x"
   ]
  },
  {
   "cell_type": "code",
   "execution_count": 68,
   "metadata": {},
   "outputs": [
    {
     "data": {
      "text/plain": [
       "0      0\n",
       "1      0\n",
       "2      0\n",
       "3      0\n",
       "4      0\n",
       "      ..\n",
       "145    0\n",
       "146    0\n",
       "147    0\n",
       "148    0\n",
       "149    0\n",
       "Name: transmission, Length: 150, dtype: int64"
      ]
     },
     "execution_count": 68,
     "metadata": {},
     "output_type": "execute_result"
    }
   ],
   "source": [
    "y=cdata.iloc[:,5]\n",
    "y"
   ]
  },
  {
   "cell_type": "code",
   "execution_count": 69,
   "metadata": {},
   "outputs": [
    {
     "data": {
      "text/plain": [
       "array([[0.91666667, 1.        , 1.        , 0.01736556, 0.875     ],\n",
       "       [0.91666667, 1.        , 0.94519569, 0.04132677, 0.5       ],\n",
       "       [0.91666667, 1.        , 0.89022647, 0.01694268, 0.125     ],\n",
       "       [0.91666667, 1.        , 0.77006376, 0.0460126 , 0.5       ],\n",
       "       [1.        , 0.        , 0.75307828, 0.02387253, 0.625     ],\n",
       "       [0.83333333, 1.        , 0.75280343, 0.13817423, 0.125     ],\n",
       "       [0.91666667, 1.        , 0.72559367, 0.26505353, 0.375     ],\n",
       "       [0.83333333, 1.        , 0.72531882, 0.11021608, 0.125     ],\n",
       "       [0.91666667, 0.5       , 0.50122287, 0.18953428, 0.125     ],\n",
       "       [0.83333333, 0.5       , 0.72531882, 0.21314081, 0.125     ],\n",
       "       [0.83333333, 0.5       , 0.72531882, 0.24330887, 0.        ],\n",
       "       [0.91666667, 0.5       , 0.72515391, 0.02954738, 0.125     ],\n",
       "       [0.91666667, 1.        , 0.72284521, 0.03083649, 0.75      ],\n",
       "       [0.83333333, 0.5       , 0.72284521, 0.18546231, 0.25      ],\n",
       "       [0.91666667, 0.        , 0.67062445, 0.0716176 , 0.625     ],\n",
       "       [0.91666667, 0.5       , 0.67056948, 0.07844515, 0.375     ],\n",
       "       [0.83333333, 1.        , 0.67056948, 0.10271328, 0.125     ],\n",
       "       [0.83333333, 0.5       , 0.6703496 , 0.26505353, 0.125     ],\n",
       "       [0.91666667, 1.        , 0.6701847 , 0.04634682, 0.375     ],\n",
       "       [0.91666667, 1.        , 0.6701847 , 0.18553734, 0.125     ],\n",
       "       [0.83333333, 0.5       , 0.66996482, 0.07617385, 0.125     ],\n",
       "       [0.83333333, 1.        , 0.66952507, 0.23924372, 0.        ],\n",
       "       [0.91666667, 0.        , 0.66507256, 0.2170218 , 0.125     ],\n",
       "       [0.83333333, 1.        , 0.66452287, 0.13677598, 0.        ],\n",
       "       [0.75      , 1.        , 0.50122287, 0.10334761, 0.375     ],\n",
       "       [0.83333333, 0.        , 0.64313984, 0.16690994, 0.375     ],\n",
       "       [0.83333333, 0.        , 0.64308487, 0.01989605, 0.        ],\n",
       "       [0.83333333, 0.        , 0.64308487, 0.20986686, 0.        ],\n",
       "       [0.83333333, 0.5       , 0.63203606, 0.11705727, 0.5       ],\n",
       "       [0.75      , 1.        , 0.61560026, 0.19261725, 0.125     ],\n",
       "       [0.83333333, 0.5       , 0.61560026, 0.21443674, 0.        ],\n",
       "       [0.75      , 0.        , 0.61538039, 0.20156604, 0.        ],\n",
       "       [0.91666667, 0.        , 0.61521548, 0.        , 0.        ],\n",
       "       [0.91666667, 1.        , 0.61521548, 0.09604262, 0.        ],\n",
       "       [0.75      , 0.5       , 0.61521548, 0.13070554, 0.25      ],\n",
       "       [0.83333333, 1.        , 0.61510554, 0.19213298, 0.        ],\n",
       "       [0.91666667, 0.        , 0.61505057, 0.13027583, 0.625     ],\n",
       "       [0.83333333, 0.        , 0.61048813, 0.26505353, 0.125     ],\n",
       "       [0.83333333, 0.        , 0.61015831, 0.1642976 , 0.625     ],\n",
       "       [0.83333333, 0.        , 0.50122287, 0.04295692, 0.625     ],\n",
       "       [0.83333333, 0.5       , 0.60251759, 0.27246064, 0.        ],\n",
       "       [0.83333333, 0.5       , 0.5991095 , 0.21554852, 0.5       ],\n",
       "       [0.83333333, 0.5       , 0.59790018, 0.11783483, 0.        ],\n",
       "       [0.75      , 0.5       , 0.59086412, 0.19902191, 0.125     ],\n",
       "       [0.83333333, 0.        , 0.58811566, 0.18986168, 0.25      ],\n",
       "       [0.83333333, 0.5       , 0.58789578, 0.21162661, 0.125     ],\n",
       "       [0.83333333, 0.        , 0.58789578, 0.22786675, 0.        ],\n",
       "       [0.83333333, 0.        , 0.58707124, 0.13633263, 0.375     ],\n",
       "       [0.75      , 1.        , 0.58690633, 0.16802172, 0.5       ],\n",
       "       [0.75      , 1.        , 0.58020009, 0.20821624, 0.25      ],\n",
       "       [0.83333333, 0.        , 0.57712181, 0.21539847, 0.        ],\n",
       "       [0.83333333, 0.5       , 0.57580255, 0.20769787, 0.        ],\n",
       "       [0.83333333, 0.5       , 0.56068602, 0.13683737, 0.125     ],\n",
       "       [0.75      , 0.        , 0.56063105, 0.12903446, 0.25      ],\n",
       "       [0.83333333, 0.        , 0.56052111, 0.07025346, 0.        ],\n",
       "       [0.83333333, 0.        , 0.56041117, 0.05916296, 0.125     ],\n",
       "       [0.83333333, 0.        , 0.56041117, 0.10511418, 0.        ],\n",
       "       [0.75      , 0.5       , 0.56041117, 0.28141626, 0.        ],\n",
       "       [0.75      , 0.5       , 0.56041117, 0.3333015 , 0.125     ],\n",
       "       [0.75      , 0.5       , 0.56024626, 0.11077538, 0.125     ],\n",
       "       [0.83333333, 0.        , 0.56024626, 0.11495648, 0.75      ],\n",
       "       [0.83333333, 0.5       , 0.56024626, 0.149026  , 0.5       ],\n",
       "       [0.75      , 0.5       , 0.56024626, 0.15019234, 0.        ],\n",
       "       [0.75      , 0.        , 0.56019129, 0.21406843, 0.125     ],\n",
       "       [0.75      , 0.        , 0.55793755, 0.03125938, 0.        ],\n",
       "       [0.83333333, 0.        , 0.55793755, 0.18106976, 0.        ],\n",
       "       [0.83333333, 0.        , 0.55793755, 0.22043216, 0.375     ],\n",
       "       [0.83333333, 0.        , 0.55491425, 0.2953851 , 0.5       ],\n",
       "       [0.75      , 0.        , 0.55452946, 0.31147519, 0.625     ],\n",
       "       [0.75      , 0.        , 0.55216579, 0.21721278, 0.375     ],\n",
       "       [0.75      , 0.5       , 0.5496372 , 0.20476496, 0.        ],\n",
       "       [0.75      , 0.5       , 0.54650396, 0.22858293, 0.        ],\n",
       "       [0.83333333, 1.        , 0.54348065, 0.20944397, 0.5       ],\n",
       "       [0.75      , 1.        , 0.54216139, 0.15456443, 0.125     ],\n",
       "       [0.83333333, 0.5       , 0.53864336, 0.19394729, 0.25      ],\n",
       "       [0.75      , 1.        , 0.53781882, 0.26261152, 0.25      ],\n",
       "       [0.75      , 0.5       , 0.52907872, 0.26505353, 0.        ],\n",
       "       [0.83333333, 0.        , 0.52682498, 0.24878591, 0.5       ],\n",
       "       [0.83333333, 0.        , 0.52677001, 0.20213898, 0.        ],\n",
       "       [0.83333333, 0.        , 0.50122287, 0.0798434 , 0.375     ],\n",
       "       [0.75      , 0.5       , 0.50566183, 0.18781546, 0.375     ],\n",
       "       [0.75      , 0.        , 0.50560686, 0.20447849, 0.        ],\n",
       "       [0.58333333, 0.        , 0.50555189, 0.23734756, 0.25      ],\n",
       "       [0.83333333, 0.        , 0.50122287, 0.11225548, 0.        ],\n",
       "       [0.83333333, 0.        , 0.50544195, 0.1901345 , 0.        ],\n",
       "       [0.83333333, 0.        , 0.50544195, 0.2400281 , 0.625     ],\n",
       "       [0.75      , 0.        , 0.50544195, 0.25549068, 0.375     ],\n",
       "       [0.75      , 0.        , 0.50122287, 0.27044853, 0.        ],\n",
       "       [0.75      , 0.        , 0.50544195, 0.33445421, 0.5       ],\n",
       "       [0.66666667, 0.        , 0.50544195, 0.83526587, 0.25      ],\n",
       "       [0.75      , 0.        , 0.50527704, 0.1518907 , 0.5       ],\n",
       "       [0.75      , 0.5       , 0.50516711, 0.27928137, 0.125     ],\n",
       "       [0.75      , 0.        , 0.50122287, 0.18191553, 0.5       ],\n",
       "       [0.83333333, 0.        , 0.49741645, 0.16813085, 0.125     ],\n",
       "       [0.83333333, 0.        , 0.49362357, 0.21146973, 0.        ],\n",
       "       [0.66666667, 0.        , 0.49345866, 0.30638693, 0.        ],\n",
       "       [0.66666667, 0.5       , 0.48944591, 0.2145527 , 0.375     ],\n",
       "       [0.75      , 0.5       , 0.48345427, 0.23425095, 0.375     ],\n",
       "       [0.75      , 0.        , 0.47861697, 0.27229695, 0.        ],\n",
       "       [0.66666667, 0.        , 0.47823219, 0.28052956, 0.625     ],\n",
       "       [0.75      , 0.        , 0.47823219, 0.26505353, 0.625     ],\n",
       "       [0.75      , 0.        , 0.46613896, 0.1665689 , 0.25      ],\n",
       "       [0.75      , 0.        , 0.45069261, 0.21319537, 0.375     ],\n",
       "       [0.75      , 0.        , 0.45030783, 0.18887949, 0.        ],\n",
       "       [0.75      , 0.5       , 0.44986807, 0.36955365, 0.        ],\n",
       "       [0.75      , 0.        , 0.4496482 , 0.34310288, 0.        ],\n",
       "       [0.83333333, 0.        , 0.43931398, 0.23773634, 0.75      ],\n",
       "       [0.66666667, 0.        , 0.43722515, 0.22794178, 0.        ],\n",
       "       [0.66666667, 0.5       , 0.43695031, 0.35791068, 0.25      ],\n",
       "       [0.66666667, 0.5       , 0.42298813, 0.52761029, 0.125     ],\n",
       "       [0.66666667, 0.        , 0.42051451, 0.54812703, 0.25      ],\n",
       "       [0.75      , 0.5       , 0.39550352, 0.25896243, 0.25      ],\n",
       "       [0.41666667, 0.5       , 0.39550352, 0.4402641 , 0.375     ],\n",
       "       [0.75      , 1.        , 0.39550352, 0.50062069, 0.5       ],\n",
       "       [0.75      , 0.        , 0.39462401, 0.38088287, 0.25      ],\n",
       "       [0.66666667, 0.        , 0.39330475, 0.2371975 , 0.5       ],\n",
       "       [0.75      , 0.        , 0.39330475, 0.24086023, 1.        ],\n",
       "       [0.66666667, 0.        , 0.38676341, 0.24188334, 0.75      ],\n",
       "       [0.58333333, 0.5       , 0.38560906, 0.49357488, 0.25      ],\n",
       "       [0.58333333, 0.        , 0.38313544, 0.46428669, 0.125     ],\n",
       "       [0.83333333, 0.        , 0.38022208, 0.4046872 , 0.        ],\n",
       "       [0.58333333, 0.5       , 0.34080915, 0.40282514, 0.25      ],\n",
       "       [0.58333333, 0.5       , 0.34075418, 0.47444957, 0.125     ],\n",
       "       [0.58333333, 0.5       , 0.34075418, 0.50528606, 0.        ],\n",
       "       [0.5       , 0.        , 0.3405343 , 0.31678171, 0.125     ],\n",
       "       [0.66666667, 0.        , 0.50122287, 0.61725507, 0.625     ],\n",
       "       [0.66666667, 0.        , 0.34036939, 0.47228058, 0.625     ],\n",
       "       [0.58333333, 0.        , 0.32162489, 0.39852809, 0.375     ],\n",
       "       [0.58333333, 0.5       , 0.28583993, 0.516588  , 0.25      ],\n",
       "       [0.5       , 0.        , 0.28578496, 0.30549341, 0.125     ],\n",
       "       [0.58333333, 0.        , 0.28562005, 0.2986454 , 0.125     ],\n",
       "       [0.5       , 0.        , 0.27484609, 0.45333261, 0.625     ],\n",
       "       [0.66666667, 0.        , 0.25808047, 0.69096663, 0.        ],\n",
       "       [0.66666667, 0.        , 0.25802551, 0.26505353, 0.125     ],\n",
       "       [0.75      , 0.        , 0.25725594, 0.44449977, 0.        ],\n",
       "       [0.58333333, 0.5       , 0.23081574, 0.52334734, 0.875     ],\n",
       "       [0.5       , 0.5       , 0.23059587, 0.20552888, 0.        ],\n",
       "       [0.5       , 0.5       , 0.23059587, 0.63514583, 0.25      ],\n",
       "       [0.25      , 0.5       , 0.22537379, 0.62159305, 0.625     ],\n",
       "       [0.41666667, 0.5       , 0.20272647, 0.36931493, 0.25      ],\n",
       "       [0.33333333, 0.        , 0.17584653, 0.68784956, 0.125     ],\n",
       "       [0.58333333, 0.        , 0.17562665, 0.55926527, 0.625     ],\n",
       "       [0.        , 0.        , 0.17480211, 0.37714512, 0.75      ],\n",
       "       [0.33333333, 0.5       , 0.17480211, 0.65658336, 0.5       ],\n",
       "       [0.33333333, 0.5       , 0.17315303, 0.78338062, 0.        ],\n",
       "       [0.5       , 0.5       , 0.13192612, 0.61477232, 0.125     ],\n",
       "       [0.16666667, 0.        , 0.12065743, 0.56022699, 0.25      ],\n",
       "       [0.        , 0.        , 0.11983289, 0.26505353, 0.25      ],\n",
       "       [0.08333333, 0.        , 0.06041117, 1.        , 0.875     ],\n",
       "       [0.        , 0.        , 0.        , 0.71202903, 0.25      ]])"
      ]
     },
     "execution_count": 69,
     "metadata": {},
     "output_type": "execute_result"
    }
   ],
   "source": [
    "minmax=preprocessing.MinMaxScaler(feature_range=(0,1))\n",
    "minmax.fit(x).transform(x)"
   ]
  },
  {
   "cell_type": "code",
   "execution_count": 152,
   "metadata": {},
   "outputs": [],
   "source": [
    "from sklearn import model_selection, neighbors\n",
    "from sklearn.model_selection import train_test_split\n",
    "x_train, x_test, y_train, y_test = train_test_split(x,y,test_size=0.3)"
   ]
  },
  {
   "cell_type": "code",
   "execution_count": 153,
   "metadata": {},
   "outputs": [
    {
     "data": {
      "text/html": [
       "<div>\n",
       "<style scoped>\n",
       "    .dataframe tbody tr th:only-of-type {\n",
       "        vertical-align: middle;\n",
       "    }\n",
       "\n",
       "    .dataframe tbody tr th {\n",
       "        vertical-align: top;\n",
       "    }\n",
       "\n",
       "    .dataframe thead th {\n",
       "        text-align: right;\n",
       "    }\n",
       "</style>\n",
       "<table border=\"1\" class=\"dataframe\">\n",
       "  <thead>\n",
       "    <tr style=\"text-align: right;\">\n",
       "      <th></th>\n",
       "      <th>0</th>\n",
       "      <th>1</th>\n",
       "      <th>2</th>\n",
       "      <th>3</th>\n",
       "      <th>4</th>\n",
       "    </tr>\n",
       "  </thead>\n",
       "  <tbody>\n",
       "    <tr>\n",
       "      <td>43</td>\n",
       "      <td>2009</td>\n",
       "      <td>12</td>\n",
       "      <td>14549</td>\n",
       "      <td>34046</td>\n",
       "      <td>3</td>\n",
       "    </tr>\n",
       "    <tr>\n",
       "      <td>32</td>\n",
       "      <td>2011</td>\n",
       "      <td>11</td>\n",
       "      <td>14992</td>\n",
       "      <td>4867</td>\n",
       "      <td>2</td>\n",
       "    </tr>\n",
       "    <tr>\n",
       "      <td>31</td>\n",
       "      <td>2009</td>\n",
       "      <td>11</td>\n",
       "      <td>14995</td>\n",
       "      <td>34419</td>\n",
       "      <td>2</td>\n",
       "    </tr>\n",
       "    <tr>\n",
       "      <td>39</td>\n",
       "      <td>2010</td>\n",
       "      <td>11</td>\n",
       "      <td>12918.2</td>\n",
       "      <td>11165</td>\n",
       "      <td>7</td>\n",
       "    </tr>\n",
       "    <tr>\n",
       "      <td>118</td>\n",
       "      <td>2007</td>\n",
       "      <td>12</td>\n",
       "      <td>10815</td>\n",
       "      <td>77231</td>\n",
       "      <td>4</td>\n",
       "    </tr>\n",
       "    <tr>\n",
       "      <td>...</td>\n",
       "      <td>...</td>\n",
       "      <td>...</td>\n",
       "      <td>...</td>\n",
       "      <td>...</td>\n",
       "      <td>...</td>\n",
       "    </tr>\n",
       "    <tr>\n",
       "      <td>122</td>\n",
       "      <td>2007</td>\n",
       "      <td>12</td>\n",
       "      <td>9999</td>\n",
       "      <td>74427</td>\n",
       "      <td>3</td>\n",
       "    </tr>\n",
       "    <tr>\n",
       "      <td>72</td>\n",
       "      <td>2010</td>\n",
       "      <td>13</td>\n",
       "      <td>13687</td>\n",
       "      <td>35574</td>\n",
       "      <td>6</td>\n",
       "    </tr>\n",
       "    <tr>\n",
       "      <td>121</td>\n",
       "      <td>2007</td>\n",
       "      <td>12</td>\n",
       "      <td>10000</td>\n",
       "      <td>63926</td>\n",
       "      <td>4</td>\n",
       "    </tr>\n",
       "    <tr>\n",
       "      <td>133</td>\n",
       "      <td>2008</td>\n",
       "      <td>11</td>\n",
       "      <td>8494</td>\n",
       "      <td>43727</td>\n",
       "      <td>3</td>\n",
       "    </tr>\n",
       "    <tr>\n",
       "      <td>34</td>\n",
       "      <td>2009</td>\n",
       "      <td>12</td>\n",
       "      <td>14992</td>\n",
       "      <td>24030</td>\n",
       "      <td>4</td>\n",
       "    </tr>\n",
       "  </tbody>\n",
       "</table>\n",
       "<p>105 rows × 5 columns</p>\n",
       "</div>"
      ],
      "text/plain": [
       "        0   1        2      3  4\n",
       "43   2009  12    14549  34046  3\n",
       "32   2011  11    14992   4867  2\n",
       "31   2009  11    14995  34419  2\n",
       "39   2010  11  12918.2  11165  7\n",
       "118  2007  12    10815  77231  4\n",
       "..    ...  ..      ...    ... ..\n",
       "122  2007  12     9999  74427  3\n",
       "72   2010  13    13687  35574  6\n",
       "121  2007  12    10000  63926  4\n",
       "133  2008  11     8494  43727  3\n",
       "34   2009  12    14992  24030  4\n",
       "\n",
       "[105 rows x 5 columns]"
      ]
     },
     "execution_count": 153,
     "metadata": {},
     "output_type": "execute_result"
    }
   ],
   "source": [
    "x_train"
   ]
  },
  {
   "cell_type": "code",
   "execution_count": 154,
   "metadata": {},
   "outputs": [
    {
     "data": {
      "text/plain": [
       "0      0\n",
       "1      0\n",
       "2      0\n",
       "3      0\n",
       "4      0\n",
       "      ..\n",
       "145    0\n",
       "146    0\n",
       "147    0\n",
       "148    0\n",
       "149    0\n",
       "Name: transmission, Length: 150, dtype: int64"
      ]
     },
     "execution_count": 154,
     "metadata": {},
     "output_type": "execute_result"
    }
   ],
   "source": [
    "y_train = y_train.astype('int')\n",
    "y"
   ]
  },
  {
   "cell_type": "code",
   "execution_count": 155,
   "metadata": {},
   "outputs": [
    {
     "data": {
      "text/plain": [
       "KNeighborsClassifier(algorithm='auto', leaf_size=30, metric='minkowski',\n",
       "                     metric_params=None, n_jobs=None, n_neighbors=5, p=2,\n",
       "                     weights='uniform')"
      ]
     },
     "execution_count": 155,
     "metadata": {},
     "output_type": "execute_result"
    }
   ],
   "source": [
    "#Fitting Classifier to the Training set\n",
    "clf = neighbors.KNeighborsClassifier()\n",
    "clf.fit(x_train,y_train)"
   ]
  },
  {
   "cell_type": "code",
   "execution_count": 156,
   "metadata": {},
   "outputs": [
    {
     "data": {
      "text/plain": [
       "array([0, 0, 0, 0, 0, 0, 0, 0, 0, 0, 0, 0, 0, 0, 0, 0, 0, 0, 0, 0, 0, 0,\n",
       "       0, 0, 0, 0, 0, 0, 0, 0, 0, 0, 0, 0, 0, 0, 0, 0, 0, 0, 0, 0, 0, 0,\n",
       "       0])"
      ]
     },
     "execution_count": 156,
     "metadata": {},
     "output_type": "execute_result"
    }
   ],
   "source": [
    "#Predicting the Test Set Result\n",
    "y_pred=clf.predict(x_test)\n",
    "y_pred"
   ]
  },
  {
   "cell_type": "code",
   "execution_count": 157,
   "metadata": {},
   "outputs": [
    {
     "data": {
      "text/plain": [
       "110    1\n",
       "141    0\n",
       "129    0\n",
       "144    0\n",
       "40     0\n",
       "134    1\n",
       "68     0\n",
       "59     0\n",
       "126    0\n",
       "116    0\n",
       "143    0\n",
       "111    0\n",
       "42     0\n",
       "52     0\n",
       "117    1\n",
       "125    0\n",
       "85     0\n",
       "7      0\n",
       "119    1\n",
       "30     0\n",
       "29     0\n",
       "9      0\n",
       "101    0\n",
       "136    1\n",
       "3      0\n",
       "60     0\n",
       "28     0\n",
       "33     0\n",
       "11     0\n",
       "139    0\n",
       "69     0\n",
       "62     0\n",
       "53     0\n",
       "106    0\n",
       "97     0\n",
       "135    1\n",
       "137    0\n",
       "0      0\n",
       "24     0\n",
       "36     0\n",
       "128    0\n",
       "66     0\n",
       "142    0\n",
       "112    0\n",
       "61     1\n",
       "Name: transmission, dtype: int64"
      ]
     },
     "execution_count": 157,
     "metadata": {},
     "output_type": "execute_result"
    }
   ],
   "source": [
    "y_test"
   ]
  },
  {
   "cell_type": "code",
   "execution_count": 158,
   "metadata": {},
   "outputs": [
    {
     "data": {
      "text/plain": [
       "array([[38,  0],\n",
       "       [ 7,  0]], dtype=int64)"
      ]
     },
     "execution_count": 158,
     "metadata": {},
     "output_type": "execute_result"
    }
   ],
   "source": [
    "#Confusion Matrix to accept the model or Reject the model.\n",
    "#Build Confusion Matrix on test and Train\n",
    "from sklearn.metrics import confusion_matrix\n",
    "clf_cm_test = confusion_matrix(y_test,y_pred)\n",
    "clf_cm_test"
   ]
  },
  {
   "cell_type": "code",
   "execution_count": 159,
   "metadata": {},
   "outputs": [
    {
     "data": {
      "text/plain": [
       "0.8444444444444444"
      ]
     },
     "execution_count": 159,
     "metadata": {},
     "output_type": "execute_result"
    }
   ],
   "source": [
    "#Obtain Accuracy\n",
    "accuracy = clf.score(x_test, y_test)\n",
    "accuracy"
   ]
  },
  {
   "cell_type": "code",
   "execution_count": 160,
   "metadata": {},
   "outputs": [],
   "source": [
    "probas = clf.predict_proba(x_test)"
   ]
  },
  {
   "cell_type": "code",
   "execution_count": 161,
   "metadata": {},
   "outputs": [
    {
     "data": {
      "image/png": "[encoded data removed]",
      "text/plain": [
       "<Figure size 900x600 with 1 Axes>"
      ]
     },
     "metadata": {
      "needs_background": "light"
     },
     "output_type": "display_data"
    }
   ],
   "source": [
    "#Visualize the probabilities\n",
    "# plot\n",
    "import matplotlib.pyplot as plt\n",
    "plt.figure(dpi=150)\n",
    "plt.hist(probas, bins=20)\n",
    "plt.title('Classification Probabilities')\n",
    "plt.xlabel('Probability')\n",
    "plt.ylabel('# of Instances')\n",
    "plt.xlim([0.5, 1.0])\n",
    "plt.legend(y_test)\n",
    "plt.show()"
   ]
  },
  {
   "cell_type": "code",
   "execution_count": 162,
   "metadata": {},
   "outputs": [],
   "source": [
    "# Create ROC curve for the model\n",
    "import sklearn.metrics as metrics\n",
    "\n",
    "# calculate the fpr and tpr for all thresholds of the classification\n",
    "probs =clf.predict_proba(x_test)\n",
    "preds = probs[:,1]\n",
    "fpr, tpr, threshold = metrics.roc_curve(y_test, preds)\n",
    "roc_auc = metrics.auc(fpr, tpr)"
   ]
  },
  {
   "cell_type": "code",
   "execution_count": 163,
   "metadata": {},
   "outputs": [
    {
     "data": {
      "image/png": "[encoded data removed]",
      "text/plain": [
       "<Figure size 432x288 with 1 Axes>"
      ]
     },
     "metadata": {
      "needs_background": "light"
     },
     "output_type": "display_data"
    }
   ],
   "source": [
    "# PLOT ROC curve\n",
    "import matplotlib.pyplot as plt\n",
    "plt.title('Receiver Operating Characteristic')\n",
    "plt.plot(fpr, tpr, 'b', label = 'AUC = %0.2f' % roc_auc)\n",
    "plt.legend(loc = 'lower right')\n",
    "plt.plot([0, 1], [0, 1],'r--')\n",
    "plt.xlim([0, 1])\n",
    "plt.ylim([0, 1])\n",
    "plt.ylabel('True Positive Rate')\n",
    "plt.xlabel('False Positive Rate')\n",
    "plt.show()"
   ]
  },
  {
   "cell_type": "code",
   "execution_count": 164,
   "metadata": {},
   "outputs": [
    {
     "data": {
      "text/plain": [
       "array([[ 2012,    12, 22999,  1111,     3]])"
      ]
     },
     "execution_count": 164,
     "metadata": {},
     "output_type": "execute_result"
    }
   ],
   "source": [
    "#Test new data\n",
    "example_measures=np.array([2012,12,22999,1111,3])\n",
    "example_measures = example_measures.reshape(1,-1)\n",
    "example_measures"
   ]
  },
  {
   "cell_type": "code",
   "execution_count": 165,
   "metadata": {},
   "outputs": [
    {
     "data": {
      "text/plain": [
       "array([[ 2012,    12, 22999,  1111,     3]])"
      ]
     },
     "execution_count": 165,
     "metadata": {},
     "output_type": "execute_result"
    }
   ],
   "source": [
    "example_measures1=np.array([2015,15,22333,2222,5])\n",
    "example_measures1 = example_measures.reshape(1,-1)\n",
    "example_measures1"
   ]
  },
  {
   "cell_type": "code",
   "execution_count": 166,
   "metadata": {},
   "outputs": [],
   "source": [
    "prediction = clf.predict(example_measures)\n",
    "prediction1 = clf.predict(example_measures1)"
   ]
  },
  {
   "cell_type": "code",
   "execution_count": 167,
   "metadata": {},
   "outputs": [
    {
     "name": "stdout",
     "output_type": "stream",
     "text": [
      "[0]\n",
      "[0]\n"
     ]
    }
   ],
   "source": [
    "print(prediction)\n",
    "print(prediction1)"
   ]
  },
  {
   "cell_type": "code",
   "execution_count": 168,
   "metadata": {},
   "outputs": [
    {
     "name": "stderr",
     "output_type": "stream",
     "text": [
      "C:\\Users\\AbhilashMandadhi\\Anaconda3\\lib\\site-packages\\sklearn\\linear_model\\logistic.py:432: FutureWarning: Default solver will be changed to 'lbfgs' in 0.22. Specify a solver to silence this warning.\n",
      "  FutureWarning)\n"
     ]
    }
   ],
   "source": [
    "#Perform Logistic Regression\n",
    "from sklearn.linear_model.logistic import LogisticRegression\n",
    "\n",
    "cls =LogisticRegression(random_state =0)\n",
    "\n",
    "lr_cls=cls.fit(x_train, y_train)"
   ]
  },
  {
   "cell_type": "code",
   "execution_count": 169,
   "metadata": {},
   "outputs": [
    {
     "data": {
      "text/plain": [
       "array([0, 0, 0, 0, 0, 0, 0, 0, 0, 0, 0, 0, 0, 0, 0, 0, 0, 0, 0, 0, 0, 0,\n",
       "       0, 0, 0, 0, 0, 0, 0, 0, 0, 0, 0, 0, 0, 0, 0, 0, 0, 0, 0, 0, 0, 0,\n",
       "       0])"
      ]
     },
     "execution_count": 169,
     "metadata": {},
     "output_type": "execute_result"
    }
   ],
   "source": [
    "#Predicting on test and train data\n",
    "lr_y_test =lr_cls.predict(x_test)\n",
    "lr_y_test"
   ]
  },
  {
   "cell_type": "code",
   "execution_count": 170,
   "metadata": {
    "scrolled": true
   },
   "outputs": [
    {
     "data": {
      "text/plain": [
       "array([0, 0, 0, 0, 0, 0, 0, 0, 0, 0, 0, 0, 0, 0, 0, 0, 0, 0, 0, 0, 0, 0,\n",
       "       0, 0, 0, 0, 0, 0, 0, 0, 0, 0, 0, 0, 0, 0, 0, 0, 0, 0, 0, 0, 0, 0,\n",
       "       0, 0, 0, 0, 0, 0, 0, 0, 0, 0, 0, 0, 0, 0, 0, 0, 0, 0, 0, 0, 0, 0,\n",
       "       0, 0, 0, 0, 0, 0, 0, 0, 0, 0, 0, 0, 0, 0, 0, 0, 0, 0, 0, 0, 0, 0,\n",
       "       0, 0, 0, 0, 0, 0, 0, 0, 0, 0, 0, 0, 0, 0, 0, 0, 0])"
      ]
     },
     "execution_count": 170,
     "metadata": {},
     "output_type": "execute_result"
    }
   ],
   "source": [
    "lr_y_train = lr_cls.predict(x_train)\n",
    "lr_y_train"
   ]
  },
  {
   "cell_type": "code",
   "execution_count": 171,
   "metadata": {},
   "outputs": [
    {
     "data": {
      "text/plain": [
       "array([[38,  0],\n",
       "       [ 7,  0]], dtype=int64)"
      ]
     },
     "execution_count": 171,
     "metadata": {},
     "output_type": "execute_result"
    }
   ],
   "source": [
    "#Build confusion matrix on Test and Train\n",
    "from sklearn.metrics import confusion_matrix\n",
    "lr_cm_test = confusion_matrix(y_test, lr_y_test)\n",
    "lr_cm_test"
   ]
  },
  {
   "cell_type": "code",
   "execution_count": 172,
   "metadata": {},
   "outputs": [
    {
     "data": {
      "text/plain": [
       "0.8444444444444444"
      ]
     },
     "execution_count": 172,
     "metadata": {},
     "output_type": "execute_result"
    }
   ],
   "source": [
    "#Accuracy score on Test and Train\n",
    "from sklearn.metrics import accuracy_score\n",
    "lr_accu_test= accuracy_score(y_test,lr_y_test)\n",
    "lr_accu_test"
   ]
  },
  {
   "cell_type": "code",
   "execution_count": 173,
   "metadata": {},
   "outputs": [
    {
     "data": {
      "text/plain": [
       "0.8952380952380953"
      ]
     },
     "execution_count": 173,
     "metadata": {},
     "output_type": "execute_result"
    }
   ],
   "source": [
    "lr_accu_train= accuracy_score(y_train,lr_y_train)  #train 98--rs=50  \n",
    "lr_accu_train"
   ]
  },
  {
   "cell_type": "code",
   "execution_count": 175,
   "metadata": {},
   "outputs": [
    {
     "name": "stdout",
     "output_type": "stream",
     "text": [
      "0.7130864197530864\n",
      "0.8014512471655328\n"
     ]
    }
   ],
   "source": [
    "#Precision score on Test and Train\n",
    "from sklearn.metrics import precision_score\n",
    "#recall_score\n",
    "lr_precision_test =precision_score(y_test, lr_y_test, average='weighted')  \n",
    "print(lr_precision_test)\n",
    "lr_precision_train =precision_score(y_train, lr_y_train, average='weighted')\n",
    "print(lr_precision_train)"
   ]
  },
  {
   "cell_type": "code",
   "execution_count": 176,
   "metadata": {},
   "outputs": [
    {
     "data": {
      "text/plain": [
       "GaussianNB(priors=None, var_smoothing=1e-09)"
      ]
     },
     "execution_count": 176,
     "metadata": {},
     "output_type": "execute_result"
    }
   ],
   "source": [
    "from sklearn.naive_bayes import GaussianNB\n",
    "nb_classfier  = GaussianNB()\n",
    "nb_classfier.fit(x_train, y_train)"
   ]
  },
  {
   "cell_type": "code",
   "execution_count": 177,
   "metadata": {},
   "outputs": [
    {
     "data": {
      "text/plain": [
       "array([0, 0, 0, 0, 0, 0, 0, 0, 0, 0, 0, 0, 0, 0, 0, 0, 0, 0, 0, 0, 0, 0,\n",
       "       0, 0, 0, 0, 0, 0, 0, 0, 0, 0, 0, 0, 0, 0, 0, 0, 0, 0, 0, 0, 0, 0,\n",
       "       0])"
      ]
     },
     "execution_count": 177,
     "metadata": {},
     "output_type": "execute_result"
    }
   ],
   "source": [
    "nb_y_test =  nb_classfier.predict(x_test)\n",
    "nb_y_test"
   ]
  },
  {
   "cell_type": "code",
   "execution_count": 178,
   "metadata": {},
   "outputs": [
    {
     "data": {
      "text/plain": [
       "array([0, 0, 0, 0, 0, 0, 0, 0, 0, 0, 0, 0, 0, 0, 0, 0, 0, 0, 0, 0, 0, 0,\n",
       "       0, 0, 0, 0, 0, 0, 0, 0, 0, 0, 0, 0, 0, 0, 0, 0, 0, 0, 0, 0, 0, 0,\n",
       "       0, 0, 0, 0, 0, 0, 0, 0, 0, 0, 0, 0, 0, 0, 0, 0, 0, 0, 0, 0, 0, 0,\n",
       "       0, 0, 0, 0, 0, 0, 0, 0, 0, 0, 0, 0, 0, 0, 0, 0, 0, 0, 0, 0, 0, 0,\n",
       "       0, 0, 0, 0, 0, 0, 0, 0, 0, 0, 0, 0, 0, 0, 0, 0, 0])"
      ]
     },
     "execution_count": 178,
     "metadata": {},
     "output_type": "execute_result"
    }
   ],
   "source": [
    "nb_y_train = nb_classfier.predict(x_train)\n",
    "nb_y_train"
   ]
  },
  {
   "cell_type": "code",
   "execution_count": 179,
   "metadata": {},
   "outputs": [
    {
     "data": {
      "text/plain": [
       "array([[38,  0],\n",
       "       [ 7,  0]], dtype=int64)"
      ]
     },
     "execution_count": 179,
     "metadata": {},
     "output_type": "execute_result"
    }
   ],
   "source": [
    "from sklearn.metrics import confusion_matrix\n",
    "nb_cm_test = confusion_matrix(y_test, nb_y_test)\n",
    "nb_cm_test"
   ]
  },
  {
   "cell_type": "code",
   "execution_count": 180,
   "metadata": {},
   "outputs": [
    {
     "data": {
      "text/plain": [
       "0.8444444444444444"
      ]
     },
     "execution_count": 180,
     "metadata": {},
     "output_type": "execute_result"
    }
   ],
   "source": [
    "from sklearn.metrics import accuracy_score\n",
    "nb_acc_test =  accuracy_score(y_test, nb_y_test)\n",
    "nb_acc_test"
   ]
  },
  {
   "cell_type": "code",
   "execution_count": 181,
   "metadata": {},
   "outputs": [
    {
     "data": {
      "text/plain": [
       "0.8952380952380953"
      ]
     },
     "execution_count": 181,
     "metadata": {},
     "output_type": "execute_result"
    }
   ],
   "source": [
    "nb_acc_train = accuracy_score(y_train, nb_y_train)\n",
    "nb_acc_train"
   ]
  },
  {
   "cell_type": "code",
   "execution_count": 182,
   "metadata": {},
   "outputs": [
    {
     "name": "stdout",
     "output_type": "stream",
     "text": [
      "0.7130864197530864\n",
      "0.8014512471655328\n"
     ]
    },
    {
     "name": "stderr",
     "output_type": "stream",
     "text": [
      "C:\\Users\\AbhilashMandadhi\\Anaconda3\\lib\\site-packages\\sklearn\\metrics\\classification.py:1437: UndefinedMetricWarning: Precision is ill-defined and being set to 0.0 in labels with no predicted samples.\n",
      "  'precision', 'predicted', average, warn_for)\n"
     ]
    }
   ],
   "source": [
    "from sklearn.metrics import precision_score\n",
    "nb_precision_test =precision_score(y_test, nb_y_test, average='weighted')  \n",
    "print(nb_precision_test)\n",
    "nb_precision_train =precision_score(y_train, nb_y_train, average='weighted')\n",
    "print(nb_precision_train)"
   ]
  },
  {
   "cell_type": "code",
   "execution_count": 183,
   "metadata": {},
   "outputs": [
    {
     "name": "stderr",
     "output_type": "stream",
     "text": [
      "C:\\Users\\AbhilashMandadhi\\Anaconda3\\lib\\site-packages\\sklearn\\svm\\base.py:193: FutureWarning: The default value of gamma will change from 'auto' to 'scale' in version 0.22 to account better for unscaled features. Set gamma explicitly to 'auto' or 'scale' to avoid this warning.\n",
      "  \"avoid this warning.\", FutureWarning)\n"
     ]
    }
   ],
   "source": [
    "#Support Vector Classification\n",
    "from sklearn.svm import SVC\n",
    "sc = SVC(kernel='rbf')\n",
    "sc_classifier = sc.fit(x_train,y_train)  #model building "
   ]
  },
  {
   "cell_type": "code",
   "execution_count": 184,
   "metadata": {},
   "outputs": [
    {
     "name": "stdout",
     "output_type": "stream",
     "text": [
      "[0 0 0 0 0 0 0 0 0 0 0 0 0 0 0 0 0 0 0 0 0 0 0 0 0 0 0 0 0 0 0 0 0 0 0 0 0\n",
      " 0 0 0 0 0 0 0 0]\n"
     ]
    }
   ],
   "source": [
    "#Predicting on Test and Train data\n",
    "svc_y_test = sc_classifier.predict(x_test)\n",
    "print(svc_y_test)"
   ]
  },
  {
   "cell_type": "code",
   "execution_count": 185,
   "metadata": {},
   "outputs": [
    {
     "name": "stdout",
     "output_type": "stream",
     "text": [
      "[0 0 1 0 0 0 0 0 0 0 0 0 0 0 0 0 1 0 1 0 0 0 0 0 0 0 0 0 1 0 0 0 0 0 1 0 0\n",
      " 0 1 0 0 0 0 1 0 0 0 0 0 0 0 0 0 0 0 0 0 0 0 0 0 0 1 0 0 0 0 0 1 0 0 1 0 0\n",
      " 0 0 0 0 0 0 0 0 0 0 0 0 0 0 0 0 0 0 0 0 0 0 0 0 0 1 0 0 0 0 0]\n"
     ]
    }
   ],
   "source": [
    "svc_y_train=sc_classifier.predict(x_train)  #train\n",
    "print(svc_y_train)"
   ]
  },
  {
   "cell_type": "code",
   "execution_count": 186,
   "metadata": {},
   "outputs": [
    {
     "data": {
      "text/plain": [
       "array([[38,  0],\n",
       "       [ 7,  0]], dtype=int64)"
      ]
     },
     "execution_count": 186,
     "metadata": {},
     "output_type": "execute_result"
    }
   ],
   "source": [
    "#Build confusion matrix on test and train\n",
    "from sklearn.metrics import confusion_matrix\n",
    "svc_cm_test = confusion_matrix(y_test,svc_y_test)   \n",
    "svc_cm_test"
   ]
  },
  {
   "cell_type": "code",
   "execution_count": 187,
   "metadata": {},
   "outputs": [
    {
     "data": {
      "text/plain": [
       "array([[94,  0],\n",
       "       [ 0, 11]], dtype=int64)"
      ]
     },
     "execution_count": 187,
     "metadata": {},
     "output_type": "execute_result"
    }
   ],
   "source": [
    "svc_cm_train =confusion_matrix(y_train, svc_y_train)\n",
    "svc_cm_train"
   ]
  },
  {
   "cell_type": "code",
   "execution_count": 188,
   "metadata": {},
   "outputs": [
    {
     "data": {
      "text/plain": [
       "0.8444444444444444"
      ]
     },
     "execution_count": 188,
     "metadata": {},
     "output_type": "execute_result"
    }
   ],
   "source": [
    "#Accuracy classsification score\n",
    "from sklearn.metrics import accuracy_score\n",
    "svc_acc_test=accuracy_score(y_test, svc_y_test)  #for test  \n",
    "svc_acc_test"
   ]
  },
  {
   "cell_type": "code",
   "execution_count": 189,
   "metadata": {},
   "outputs": [
    {
     "data": {
      "text/plain": [
       "1.0"
      ]
     },
     "execution_count": 189,
     "metadata": {},
     "output_type": "execute_result"
    }
   ],
   "source": [
    "svc_acc_train= accuracy_score(y_train, svc_y_train)  #for train  \n",
    "svc_acc_train"
   ]
  },
  {
   "cell_type": "code",
   "execution_count": 190,
   "metadata": {},
   "outputs": [
    {
     "name": "stdout",
     "output_type": "stream",
     "text": [
      "0.7130864197530864\n",
      "1.0\n"
     ]
    },
    {
     "name": "stderr",
     "output_type": "stream",
     "text": [
      "C:\\Users\\AbhilashMandadhi\\Anaconda3\\lib\\site-packages\\sklearn\\metrics\\classification.py:1437: UndefinedMetricWarning: Precision is ill-defined and being set to 0.0 in labels with no predicted samples.\n",
      "  'precision', 'predicted', average, warn_for)\n"
     ]
    }
   ],
   "source": [
    "#Precision score on Test and Train\n",
    "from sklearn.metrics import precision_score\n",
    "sv_precision_test= precision_score(y_test, svc_y_test, average='weighted')  \n",
    "print(sv_precision_test)\n",
    "sv_precision_train=precision_score(y_train, svc_y_train, average='weighted')\n",
    "print(sv_precision_train)"
   ]
  },
  {
   "cell_type": "code",
   "execution_count": 191,
   "metadata": {},
   "outputs": [
    {
     "data": {
      "text/plain": [
       "DecisionTreeClassifier(class_weight=None, criterion='gini', max_depth=3,\n",
       "                       max_features=None, max_leaf_nodes=None,\n",
       "                       min_impurity_decrease=0.0, min_impurity_split=None,\n",
       "                       min_samples_leaf=1, min_samples_split=2,\n",
       "                       min_weight_fraction_leaf=0.0, presort=False,\n",
       "                       random_state=None, splitter='best')"
      ]
     },
     "execution_count": 191,
     "metadata": {},
     "output_type": "execute_result"
    }
   ],
   "source": [
    "#Decision Tree Classifier\n",
    "from sklearn.tree import DecisionTreeClassifier\n",
    "\n",
    "dtc_clf = DecisionTreeClassifier(max_depth = 3)\n",
    "dtc_clf.fit(x_train,y_train)\n"
   ]
  },
  {
   "cell_type": "code",
   "execution_count": 192,
   "metadata": {},
   "outputs": [
    {
     "data": {
      "text/plain": [
       "array([0, 0, 0, 0, 0, 0, 0, 0, 0, 0, 0, 0, 0, 0, 0, 0, 0, 0, 0, 0, 0, 0,\n",
       "       0, 0, 0, 0, 0, 0, 0, 0, 0, 0, 0, 0, 0, 0, 0, 0, 0, 0, 0, 0, 0, 0,\n",
       "       0])"
      ]
     },
     "execution_count": 192,
     "metadata": {},
     "output_type": "execute_result"
    }
   ],
   "source": [
    "#Predicting on test and train data\n",
    "dtc_y_test =dtc_clf.predict(x_test)\n",
    "dtc_y_test"
   ]
  },
  {
   "cell_type": "code",
   "execution_count": 193,
   "metadata": {},
   "outputs": [
    {
     "data": {
      "text/plain": [
       "array([0, 0, 0, 0, 0, 0, 0, 0, 0, 0, 0, 0, 0, 0, 0, 0, 0, 0, 0, 0, 0, 0,\n",
       "       0, 0, 0, 0, 0, 0, 0, 0, 0, 0, 0, 0, 0, 0, 0, 0, 1, 0, 0, 0, 0, 0,\n",
       "       0, 0, 0, 0, 0, 0, 0, 0, 0, 0, 0, 0, 0, 0, 0, 0, 0, 0, 0, 0, 0, 0,\n",
       "       0, 0, 0, 0, 0, 0, 0, 0, 0, 0, 0, 0, 0, 0, 0, 0, 0, 0, 0, 0, 0, 0,\n",
       "       0, 0, 0, 0, 0, 0, 0, 0, 0, 0, 0, 0, 0, 0, 0, 0, 0])"
      ]
     },
     "execution_count": 193,
     "metadata": {},
     "output_type": "execute_result"
    }
   ],
   "source": [
    "dtc_y_train = dtc_clf.predict(x_train)\n",
    "dtc_y_train\n"
   ]
  },
  {
   "cell_type": "code",
   "execution_count": 194,
   "metadata": {},
   "outputs": [
    {
     "data": {
      "text/plain": [
       "array([[38,  0],\n",
       "       [ 7,  0]], dtype=int64)"
      ]
     },
     "execution_count": 194,
     "metadata": {},
     "output_type": "execute_result"
    }
   ],
   "source": [
    "#Build confusion matrix on Test and Train\n",
    "from sklearn.metrics import confusion_matrix\n",
    "dtc_cm_test = confusion_matrix(y_test, dtc_y_test)\n",
    "dtc_cm_test"
   ]
  },
  {
   "cell_type": "code",
   "execution_count": 195,
   "metadata": {},
   "outputs": [
    {
     "data": {
      "text/plain": [
       "0.8444444444444444"
      ]
     },
     "execution_count": 195,
     "metadata": {},
     "output_type": "execute_result"
    }
   ],
   "source": [
    "#Accuracy score on Test and Train\n",
    "from sklearn.metrics import accuracy_score\n",
    "dtc_accu_test= accuracy_score(y_test,dtc_y_test)\n",
    "dtc_accu_test"
   ]
  },
  {
   "cell_type": "code",
   "execution_count": 196,
   "metadata": {},
   "outputs": [
    {
     "data": {
      "text/plain": [
       "0.9047619047619048"
      ]
     },
     "execution_count": 196,
     "metadata": {},
     "output_type": "execute_result"
    }
   ],
   "source": [
    "dtc_accu_train= accuracy_score(y_train,dtc_y_train)    \n",
    "dtc_accu_train"
   ]
  },
  {
   "cell_type": "code",
   "execution_count": 197,
   "metadata": {},
   "outputs": [
    {
     "name": "stdout",
     "output_type": "stream",
     "text": [
      "0.7130864197530864\n",
      "0.913919413919414\n"
     ]
    },
    {
     "name": "stderr",
     "output_type": "stream",
     "text": [
      "C:\\Users\\AbhilashMandadhi\\Anaconda3\\lib\\site-packages\\sklearn\\metrics\\classification.py:1437: UndefinedMetricWarning: Precision is ill-defined and being set to 0.0 in labels with no predicted samples.\n",
      "  'precision', 'predicted', average, warn_for)\n"
     ]
    }
   ],
   "source": [
    "#Precision score on Test and Train\n",
    "from sklearn.metrics import precision_score\n",
    "\n",
    "dtc_precision_test =precision_score(y_test, dtc_y_test, average='weighted')  \n",
    "print(dtc_precision_test)\n",
    "dtc_precision_train =precision_score(y_train, dtc_y_train, average='weighted')\n",
    "print(dtc_precision_train)"
   ]
  },
  {
   "cell_type": "code",
   "execution_count": 198,
   "metadata": {},
   "outputs": [
    {
     "name": "stdout",
     "output_type": "stream",
     "text": [
      "0.8444444444444444\n",
      "0.9047619047619048\n"
     ]
    }
   ],
   "source": [
    "#Recall score on Test and Train\n",
    "from sklearn.metrics import recall_score\n",
    "dtc_recall_test=recall_score(y_test,dtc_y_test, average='weighted' )\n",
    "print(dtc_recall_test)\n",
    "dtc_recall_train=recall_score(y_train,dtc_y_train, average='weighted' )\n",
    "print(dtc_recall_train)"
   ]
  },
  {
   "cell_type": "code",
   "execution_count": 199,
   "metadata": {},
   "outputs": [
    {
     "name": "stderr",
     "output_type": "stream",
     "text": [
      "C:\\Users\\AbhilashMandadhi\\Anaconda3\\lib\\site-packages\\sklearn\\ensemble\\forest.py:245: FutureWarning: The default value of n_estimators will change from 10 in version 0.20 to 100 in 0.22.\n",
      "  \"10 in version 0.20 to 100 in 0.22.\", FutureWarning)\n"
     ]
    }
   ],
   "source": [
    "#Build Random Forest Calssifier\n",
    "from sklearn.ensemble import RandomForestClassifier\n",
    "rmf = RandomForestClassifier(max_depth=3, random_state=0)\n",
    "rf_classi = rmf.fit(x_train, y_train)"
   ]
  },
  {
   "cell_type": "code",
   "execution_count": 200,
   "metadata": {},
   "outputs": [
    {
     "data": {
      "text/plain": [
       "array([0, 0, 0, 0, 0, 0, 0, 0, 0, 0, 0, 0, 0, 0, 0, 0, 0, 0, 0, 0, 0, 0,\n",
       "       0, 0, 0, 0, 0, 0, 0, 0, 0, 0, 0, 0, 0, 0, 0, 0, 0, 0, 0, 0, 0, 0,\n",
       "       0])"
      ]
     },
     "execution_count": 200,
     "metadata": {},
     "output_type": "execute_result"
    }
   ],
   "source": [
    "#Predicting on test and train data\n",
    "rf_y_test = rf_classi.predict(x_test)\n",
    "rf_y_test"
   ]
  },
  {
   "cell_type": "code",
   "execution_count": 201,
   "metadata": {},
   "outputs": [
    {
     "data": {
      "text/plain": [
       "array([0, 0, 0, 0, 0, 0, 0, 0, 0, 0, 0, 0, 0, 0, 0, 0, 0, 0, 0, 0, 0, 0,\n",
       "       0, 0, 0, 0, 0, 0, 1, 0, 0, 0, 0, 0, 0, 0, 0, 0, 0, 0, 0, 0, 0, 0,\n",
       "       0, 0, 0, 0, 0, 0, 0, 0, 0, 0, 0, 0, 0, 0, 0, 0, 0, 0, 0, 0, 0, 0,\n",
       "       0, 0, 0, 0, 0, 0, 0, 0, 0, 0, 0, 0, 0, 0, 0, 0, 0, 0, 0, 0, 0, 0,\n",
       "       0, 0, 0, 0, 0, 0, 0, 0, 0, 0, 0, 0, 0, 0, 0, 0, 0])"
      ]
     },
     "execution_count": 201,
     "metadata": {},
     "output_type": "execute_result"
    }
   ],
   "source": [
    "rf_y_train = rf_classi.predict(x_train)\n",
    "rf_y_train"
   ]
  },
  {
   "cell_type": "code",
   "execution_count": 202,
   "metadata": {},
   "outputs": [
    {
     "data": {
      "text/plain": [
       "array([[38,  0],\n",
       "       [ 7,  0]], dtype=int64)"
      ]
     },
     "execution_count": 202,
     "metadata": {},
     "output_type": "execute_result"
    }
   ],
   "source": [
    "#Build Confusion Matrix on Test and Train\n",
    "from sklearn.metrics import confusion_matrix\n",
    "rf_cm_test = confusion_matrix(y_test, rf_y_test)\n",
    "rf_cm_test"
   ]
  },
  {
   "cell_type": "code",
   "execution_count": 203,
   "metadata": {},
   "outputs": [
    {
     "data": {
      "text/plain": [
       "array([[94,  0],\n",
       "       [10,  1]], dtype=int64)"
      ]
     },
     "execution_count": 203,
     "metadata": {},
     "output_type": "execute_result"
    }
   ],
   "source": [
    "rf_cm_train = confusion_matrix(y_train, rf_y_train)\n",
    "rf_cm_train"
   ]
  },
  {
   "cell_type": "code",
   "execution_count": 204,
   "metadata": {},
   "outputs": [
    {
     "data": {
      "text/plain": [
       "0.8444444444444444"
      ]
     },
     "execution_count": 204,
     "metadata": {},
     "output_type": "execute_result"
    }
   ],
   "source": [
    "#Accuracy Score on Test and Train\n",
    "from sklearn.metrics import accuracy_score\n",
    "rf_accu_test= accuracy_score(y_test,rf_y_test)  #test\n",
    "rf_accu_test"
   ]
  },
  {
   "cell_type": "code",
   "execution_count": 205,
   "metadata": {},
   "outputs": [
    {
     "data": {
      "text/plain": [
       "0.9047619047619048"
      ]
     },
     "execution_count": 205,
     "metadata": {},
     "output_type": "execute_result"
    }
   ],
   "source": [
    "rf_accu_train= accuracy_score(y_train,rf_y_train)  \n",
    "rf_accu_train"
   ]
  },
  {
   "cell_type": "code",
   "execution_count": 206,
   "metadata": {},
   "outputs": [
    {
     "name": "stdout",
     "output_type": "stream",
     "text": [
      "0.7130864197530864\n",
      "0.913919413919414\n"
     ]
    },
    {
     "name": "stderr",
     "output_type": "stream",
     "text": [
      "C:\\Users\\AbhilashMandadhi\\Anaconda3\\lib\\site-packages\\sklearn\\metrics\\classification.py:1437: UndefinedMetricWarning: Precision is ill-defined and being set to 0.0 in labels with no predicted samples.\n",
      "  'precision', 'predicted', average, warn_for)\n"
     ]
    }
   ],
   "source": [
    "#Precision Score on Test and Train\n",
    "from sklearn.metrics import precision_score\n",
    "rf_precision_test =precision_score(y_test, rf_y_test, average='weighted')  \n",
    "print(rf_precision_test)  #test data\n",
    "rf_precision_train =precision_score(y_train, rf_y_train, average='weighted')\n",
    "print(rf_precision_train) #train data"
   ]
  },
  {
   "cell_type": "code",
   "execution_count": 207,
   "metadata": {},
   "outputs": [
    {
     "name": "stdout",
     "output_type": "stream",
     "text": [
      "0.8444444444444444\n",
      "0.9047619047619048\n"
     ]
    }
   ],
   "source": [
    "from sklearn.metrics import recall_score\n",
    "rf_recall_test=recall_score(y_test,rf_y_test, average='weighted' )\n",
    "print(rf_recall_test)\n",
    "rf_recall_train=recall_score(y_train,rf_y_train, average='weighted' )\n",
    "print(rf_recall_train)"
   ]
  },
  {
   "cell_type": "code",
   "execution_count": 208,
   "metadata": {},
   "outputs": [],
   "source": [
    "#Perform AdaBoost\n",
    "from sklearn import model_selection\n",
    "from sklearn.ensemble import AdaBoostClassifier\n",
    "seed = 7\n",
    "num_trees = 30\n",
    "kfold = model_selection.KFold(n_splits=10, random_state=seed)\n",
    "model = AdaBoostClassifier(n_estimators=num_trees, random_state=seed)\n",
    "results = model_selection.cross_val_score(model, x_train, y_train, cv=kfold)"
   ]
  },
  {
   "cell_type": "code",
   "execution_count": 209,
   "metadata": {},
   "outputs": [
    {
     "name": "stdout",
     "output_type": "stream",
     "text": [
      "[0.90909091 0.90909091 0.90909091 0.63636364 1.         0.6\n",
      " 0.8        1.         0.8        0.7       ]\n"
     ]
    }
   ],
   "source": [
    "print(results)"
   ]
  },
  {
   "cell_type": "code",
   "execution_count": 210,
   "metadata": {},
   "outputs": [
    {
     "name": "stdout",
     "output_type": "stream",
     "text": [
      "0.8263636363636364\n"
     ]
    }
   ],
   "source": [
    "print(results.mean())"
   ]
  },
  {
   "cell_type": "code",
   "execution_count": null,
   "metadata": {},
   "outputs": [],
   "source": []
  },
  {
   "cell_type": "code",
   "execution_count": null,
   "metadata": {},
   "outputs": [],
   "source": []
  }
 ],
 "metadata": {
  "kernelspec": {
   "display_name": "Python 3",
   "language": "python",
   "name": "python3"
  },
  "language_info": {
   "codemirror_mode": {
    "name": "ipython",
    "version": 3
   },
   "file_extension": ".py",
   "mimetype": "text/x-python",
   "name": "python",
   "nbconvert_exporter": "python",
   "pygments_lexer": "ipython3",
   "version": "3.7.4"
  }
 },
 "nbformat": 4,
 "nbformat_minor": 2
}
